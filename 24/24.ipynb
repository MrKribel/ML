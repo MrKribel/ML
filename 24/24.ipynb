{
 "cells": [
  {
   "cell_type": "code",
   "execution_count": 1,
   "metadata": {},
   "outputs": [],
   "source": [
    "import pandas as pd"
   ]
  },
  {
   "cell_type": "markdown",
   "metadata": {},
   "source": [
    "Посмотрим на поля представленного датасета"
   ]
  },
  {
   "cell_type": "code",
   "execution_count": 2,
   "metadata": {},
   "outputs": [],
   "source": [
    "data = pd.read_json('data/banki_responses.json', lines=True)"
   ]
  },
  {
   "cell_type": "code",
   "execution_count": 3,
   "metadata": {
    "scrolled": false
   },
   "outputs": [
    {
     "data": {
      "text/html": [
       "<div>\n",
       "<style scoped>\n",
       "    .dataframe tbody tr th:only-of-type {\n",
       "        vertical-align: middle;\n",
       "    }\n",
       "\n",
       "    .dataframe tbody tr th {\n",
       "        vertical-align: top;\n",
       "    }\n",
       "\n",
       "    .dataframe thead th {\n",
       "        text-align: right;\n",
       "    }\n",
       "</style>\n",
       "<table border=\"1\" class=\"dataframe\">\n",
       "  <thead>\n",
       "    <tr style=\"text-align: right;\">\n",
       "      <th></th>\n",
       "      <th>city</th>\n",
       "      <th>rating_not_checked</th>\n",
       "      <th>title</th>\n",
       "      <th>num_comments</th>\n",
       "      <th>bank_license</th>\n",
       "      <th>author</th>\n",
       "      <th>bank_name</th>\n",
       "      <th>datetime</th>\n",
       "      <th>text</th>\n",
       "      <th>rating_grade</th>\n",
       "    </tr>\n",
       "  </thead>\n",
       "  <tbody>\n",
       "    <tr>\n",
       "      <th>0</th>\n",
       "      <td>г. Воронеж</td>\n",
       "      <td>True</td>\n",
       "      <td>Ипотека на 5+</td>\n",
       "      <td>0</td>\n",
       "      <td>лицензия № 1623</td>\n",
       "      <td>e.novikova</td>\n",
       "      <td>ВТБ 24</td>\n",
       "      <td>2015-06-08 11:06:56</td>\n",
       "      <td>Здравствуйте!  Хотелось бы выразить благодарно...</td>\n",
       "      <td>5.0</td>\n",
       "    </tr>\n",
       "    <tr>\n",
       "      <th>1</th>\n",
       "      <td>г. Казань</td>\n",
       "      <td>True</td>\n",
       "      <td>ЗВОНКИ СОСЕДЯМ</td>\n",
       "      <td>0</td>\n",
       "      <td>лицензия № 2289</td>\n",
       "      <td>KZN\\Vorontsova_NA</td>\n",
       "      <td>Русский Стандарт</td>\n",
       "      <td>2015-06-06 18:17:52</td>\n",
       "      <td>Уважаемые представители департамента по работе...</td>\n",
       "      <td>2.0</td>\n",
       "    </tr>\n",
       "    <tr>\n",
       "      <th>2</th>\n",
       "      <td>г. Санкт-Петербург</td>\n",
       "      <td>True</td>\n",
       "      <td>Ложная информация!!!!</td>\n",
       "      <td>0</td>\n",
       "      <td>лицензия № 2307</td>\n",
       "      <td>Evgenia15</td>\n",
       "      <td>Союз</td>\n",
       "      <td>2015-06-07 19:08:33</td>\n",
       "      <td>Здравствуйте. Столкнулась с такой ситуацией. в...</td>\n",
       "      <td>2.0</td>\n",
       "    </tr>\n",
       "  </tbody>\n",
       "</table>\n",
       "</div>"
      ],
      "text/plain": [
       "                 city  rating_not_checked                  title  \\\n",
       "0          г. Воронеж                True          Ипотека на 5+   \n",
       "1           г. Казань                True         ЗВОНКИ СОСЕДЯМ   \n",
       "2  г. Санкт-Петербург                True  Ложная информация!!!!   \n",
       "\n",
       "   num_comments     bank_license             author         bank_name  \\\n",
       "0             0  лицензия № 1623         e.novikova            ВТБ 24   \n",
       "1             0  лицензия № 2289  KZN\\Vorontsova_NA  Русский Стандарт   \n",
       "2             0  лицензия № 2307          Evgenia15              Союз   \n",
       "\n",
       "             datetime                                               text  \\\n",
       "0 2015-06-08 11:06:56  Здравствуйте!  Хотелось бы выразить благодарно...   \n",
       "1 2015-06-06 18:17:52  Уважаемые представители департамента по работе...   \n",
       "2 2015-06-07 19:08:33  Здравствуйте. Столкнулась с такой ситуацией. в...   \n",
       "\n",
       "   rating_grade  \n",
       "0           5.0  \n",
       "1           2.0  \n",
       "2           2.0  "
      ]
     },
     "execution_count": 3,
     "metadata": {},
     "output_type": "execute_result"
    }
   ],
   "source": [
    "data.head(3)"
   ]
  },
  {
   "cell_type": "code",
   "execution_count": 4,
   "metadata": {},
   "outputs": [
    {
     "data": {
      "text/html": [
       "<div>\n",
       "<style scoped>\n",
       "    .dataframe tbody tr th:only-of-type {\n",
       "        vertical-align: middle;\n",
       "    }\n",
       "\n",
       "    .dataframe tbody tr th {\n",
       "        vertical-align: top;\n",
       "    }\n",
       "\n",
       "    .dataframe thead th {\n",
       "        text-align: right;\n",
       "    }\n",
       "</style>\n",
       "<table border=\"1\" class=\"dataframe\">\n",
       "  <thead>\n",
       "    <tr style=\"text-align: right;\">\n",
       "      <th></th>\n",
       "      <th>city</th>\n",
       "      <th>rating_not_checked</th>\n",
       "      <th>title</th>\n",
       "      <th>num_comments</th>\n",
       "      <th>bank_license</th>\n",
       "      <th>author</th>\n",
       "      <th>bank_name</th>\n",
       "      <th>datetime</th>\n",
       "      <th>text</th>\n",
       "      <th>rating_grade</th>\n",
       "    </tr>\n",
       "  </thead>\n",
       "  <tbody>\n",
       "    <tr>\n",
       "      <th>5</th>\n",
       "      <td>г. Москва</td>\n",
       "      <td>False</td>\n",
       "      <td>Жалоба</td>\n",
       "      <td>0</td>\n",
       "      <td>лицензия № 2562</td>\n",
       "      <td>uhnov1</td>\n",
       "      <td>Бинбанк</td>\n",
       "      <td>2015-06-08 12:50:54</td>\n",
       "      <td>Добрый день! Я не являюсь клиентом банка и пор...</td>\n",
       "      <td>NaN</td>\n",
       "    </tr>\n",
       "    <tr>\n",
       "      <th>6</th>\n",
       "      <td>г. Новосибирск</td>\n",
       "      <td>False</td>\n",
       "      <td>Не могу пользоваться услугой Сбербанк он-лайн</td>\n",
       "      <td>0</td>\n",
       "      <td>лицензия № 1481</td>\n",
       "      <td>Foryou</td>\n",
       "      <td>Сбербанк России</td>\n",
       "      <td>2015-06-08 11:09:57</td>\n",
       "      <td>Доброго дня! Являюсь держателем зарплатной кар...</td>\n",
       "      <td>NaN</td>\n",
       "    </tr>\n",
       "    <tr>\n",
       "      <th>11</th>\n",
       "      <td>г. Москва</td>\n",
       "      <td>False</td>\n",
       "      <td>Двойное списание за один товар.</td>\n",
       "      <td>1</td>\n",
       "      <td>лицензия № 2562</td>\n",
       "      <td>Vladimir84</td>\n",
       "      <td>Бинбанк</td>\n",
       "      <td>2015-06-05 20:14:28</td>\n",
       "      <td>Здравствуйте!  Дублирую свое заявление от 03.0...</td>\n",
       "      <td>NaN</td>\n",
       "    </tr>\n",
       "  </tbody>\n",
       "</table>\n",
       "</div>"
      ],
      "text/plain": [
       "              city  rating_not_checked  \\\n",
       "5        г. Москва               False   \n",
       "6   г. Новосибирск               False   \n",
       "11       г. Москва               False   \n",
       "\n",
       "                                            title  num_comments  \\\n",
       "5                                          Жалоба             0   \n",
       "6   Не могу пользоваться услугой Сбербанк он-лайн             0   \n",
       "11                Двойное списание за один товар.             1   \n",
       "\n",
       "       bank_license      author        bank_name            datetime  \\\n",
       "5   лицензия № 2562      uhnov1          Бинбанк 2015-06-08 12:50:54   \n",
       "6   лицензия № 1481      Foryou  Сбербанк России 2015-06-08 11:09:57   \n",
       "11  лицензия № 2562  Vladimir84          Бинбанк 2015-06-05 20:14:28   \n",
       "\n",
       "                                                 text  rating_grade  \n",
       "5   Добрый день! Я не являюсь клиентом банка и пор...           NaN  \n",
       "6   Доброго дня! Являюсь держателем зарплатной кар...           NaN  \n",
       "11  Здравствуйте!  Дублирую свое заявление от 03.0...           NaN  "
      ]
     },
     "execution_count": 4,
     "metadata": {},
     "output_type": "execute_result"
    }
   ],
   "source": [
    "data[data.rating_not_checked==False].head(3)"
   ]
  },
  {
   "cell_type": "markdown",
   "metadata": {},
   "source": [
    "Загрузим отзывы не прошедшие оценку (прям из архива)"
   ]
  },
  {
   "cell_type": "code",
   "execution_count": 3,
   "metadata": {},
   "outputs": [],
   "source": [
    "import bz2\n",
    "from tqdm import tqdm #индикатор прогресса\n",
    "import json"
   ]
  },
  {
   "cell_type": "code",
   "execution_count": 4,
   "metadata": {},
   "outputs": [
    {
     "name": "stderr",
     "output_type": "stream",
     "text": [
      "201030it [01:23, 2410.18it/s]\n"
     ]
    }
   ],
   "source": [
    "responses = []\n",
    "with bz2.BZ2File('data/banki_responses.json.bz2', 'r') as thefile:\n",
    "    for row in tqdm(thefile):\n",
    "        resp = json.loads(row)\n",
    "        if not resp['rating_not_checked'] and (len(resp['text'].split()) > 0):\n",
    "            responses.append(resp)"
   ]
  },
  {
   "cell_type": "code",
   "execution_count": 7,
   "metadata": {},
   "outputs": [
    {
     "data": {
      "text/plain": [
       "{'city': 'г. Москва',\n",
       " 'rating_not_checked': False,\n",
       " 'title': 'Двойное списание за один товар.',\n",
       " 'num_comments': 1,\n",
       " 'bank_license': 'лицензия № 2562',\n",
       " 'author': 'Vladimir84',\n",
       " 'bank_name': 'Бинбанк',\n",
       " 'datetime': '2015-06-05 20:14:28',\n",
       " 'text': 'Здравствуйте! \\xa0Дублирую свое заявление от 03.06.2015 в ДО \"Можайский\". \\xa002.06.2015 мною, по моей дебетовой карте была совершена покупка в интернет-магазине \\xa0на сумму 3028 руб., но с карты произошло двойное списание (два раза по 3028 руб.) то есть 6056 руб. (о чем имеются смс сообщения от банка). Интернет-магазин подтвердил только один платеж 3028 руб. , товар был получен 05.06.2015. Прошу разобраться в ситуации и вернуть мне на счет ошибочно списанную сумму в размере 3028 руб.!  \\xa0С уважением, давний клиент Вашего банка Владимир. Номер карты указан в моем заявлении в\\xa0ДО \"Можайский\".',\n",
       " 'rating_grade': None}"
      ]
     },
     "execution_count": 7,
     "metadata": {},
     "output_type": "execute_result"
    }
   ],
   "source": [
    "responses[2]"
   ]
  },
  {
   "cell_type": "markdown",
   "metadata": {},
   "source": [
    "## Классифицировать по тональности отзывы на банки с сайта banki.ru"
   ]
  },
  {
   "cell_type": "markdown",
   "metadata": {},
   "source": [
    "Основной целью анализа тональности является нахождение мнений в тексте и выявление их свойств. Цель - произвести синтаксический анализ документов. Можно использовать UDPipe."
   ]
  },
  {
   "cell_type": "code",
   "execution_count": 8,
   "metadata": {},
   "outputs": [
    {
     "name": "stdout",
     "output_type": "stream",
     "text": [
      "Requirement already satisfied: ufal.udpipe in /home/user/.local/lib/python3.8/site-packages (1.2.0.3)\r\n"
     ]
    }
   ],
   "source": [
    "!pip3 install ufal.udpipe"
   ]
  },
  {
   "cell_type": "markdown",
   "metadata": {},
   "source": [
    "Качаем уже обученную модель"
   ]
  },
  {
   "cell_type": "code",
   "execution_count": 9,
   "metadata": {},
   "outputs": [
    {
     "name": "stdout",
     "output_type": "stream",
     "text": [
      "--2021-03-07 13:38:05--  https://github.com/jwijffels/udpipe.models.ud.2.0/raw/master/inst/udpipe-ud-2.0-170801/russian-ud-2.0-170801.udpipe\n",
      "Resolving github.com (github.com)... 140.82.121.3\n",
      "Connecting to github.com (github.com)|140.82.121.3|:443... connected.\n",
      "HTTP request sent, awaiting response... 302 Found\n",
      "Location: https://raw.githubusercontent.com/jwijffels/udpipe.models.ud.2.0/master/inst/udpipe-ud-2.0-170801/russian-ud-2.0-170801.udpipe [following]\n",
      "--2021-03-07 13:38:06--  https://raw.githubusercontent.com/jwijffels/udpipe.models.ud.2.0/master/inst/udpipe-ud-2.0-170801/russian-ud-2.0-170801.udpipe\n",
      "Resolving raw.githubusercontent.com (raw.githubusercontent.com)... 185.199.109.133, 185.199.108.133, 185.199.111.133, ...\n",
      "Connecting to raw.githubusercontent.com (raw.githubusercontent.com)|185.199.109.133|:443... connected.\n",
      "HTTP request sent, awaiting response... 200 OK\n",
      "Length: 13265262 (13M) [application/octet-stream]\n",
      "Saving to: ‘russian-ud-2.0-170801.udpipe.1’\n",
      "\n",
      "russian-ud-2.0-1708 100%[===================>]  12,65M  6,54MB/s    in 1,9s    \n",
      "\n",
      "2021-03-07 13:38:08 (6,54 MB/s) - ‘russian-ud-2.0-170801.udpipe.1’ saved [13265262/13265262]\n",
      "\n"
     ]
    }
   ],
   "source": [
    "!wget https://github.com/jwijffels/udpipe.models.ud.2.0/raw/master/inst/udpipe-ud-2.0-170801/russian-ud-2.0-170801.udpipe"
   ]
  },
  {
   "cell_type": "code",
   "execution_count": 5,
   "metadata": {},
   "outputs": [],
   "source": [
    "from ufal.udpipe import Model, Pipeline"
   ]
  },
  {
   "cell_type": "code",
   "execution_count": 6,
   "metadata": {},
   "outputs": [
    {
     "data": {
      "text/plain": [
       "<Swig Object of type 'model *' at 0x7fa8e8b11770>"
      ]
     },
     "execution_count": 6,
     "metadata": {},
     "output_type": "execute_result"
    }
   ],
   "source": [
    "#загружаем готовую обученную модель\n",
    "model = Model.load('russian-ud-2.0-170801.udpipe')\n",
    "model"
   ]
  },
  {
   "cell_type": "code",
   "execution_count": 7,
   "metadata": {},
   "outputs": [],
   "source": [
    "#указываем токенизатор с которыми будем работать\n",
    "pipeline = Pipeline(model, 'generic_tokenizer', '', '', '')"
   ]
  },
  {
   "cell_type": "code",
   "execution_count": 13,
   "metadata": {},
   "outputs": [
    {
     "data": {
      "text/plain": [
       "'Здравствуйте! \\xa0Дублирую свое заявление от 03.06.2015 в ДО \"Можайский\". \\xa002.06.2015 мною, по моей дебетовой карте была совершена покупка в интернет-магазине \\xa0на сумму 3028 руб., но с карты произошло двойное списание (два раза по 3028 руб.) то есть 6056 руб. (о чем имеются смс сообщения от банка). Интернет-магазин подтвердил только один платеж 3028 руб. , товар был получен 05.06.2015. Прошу разобраться в ситуации и вернуть мне на счет ошибочно списанную сумму в размере 3028 руб.!  \\xa0С уважением, давний клиент Вашего банка Владимир. Номер карты указан в моем заявлении в\\xa0ДО \"Можайский\".'"
      ]
     },
     "execution_count": 13,
     "metadata": {},
     "output_type": "execute_result"
    }
   ],
   "source": [
    "responses[2]['text']"
   ]
  },
  {
   "cell_type": "code",
   "execution_count": 8,
   "metadata": {},
   "outputs": [],
   "source": [
    "parsed = pipeline.process(responses[2]['text'])"
   ]
  },
  {
   "cell_type": "code",
   "execution_count": 15,
   "metadata": {},
   "outputs": [
    {
     "name": "stdout",
     "output_type": "stream",
     "text": [
      "# newdoc\n",
      "# newpar\n",
      "# sent_id = 1\n",
      "# text = Здравствуйте!\n",
      "1\tЗдравствуйте\tЗдравствуйте\tADV\tRB\t_\t0\troot\t_\tSpaceAfter=No\n",
      "2\t!\t!\tPUNCT\t.\t_\t1\tpunct\t_\tSpacesAfter=\\s \n",
      "\n",
      "# sent_id = 2\n",
      "# text = Дублирую свое заявление от 03.06.2015 в ДО \"Можайский\". 02.06.2015 мною, по моей дебетовой карте была совершена покупка в интернет-магазине на сумму 3028 руб., но с карты произошло двойное списание (два раза по 3028 руб.) то есть 6056 руб. (о чем имеются смс сообщения от банка).\n",
      "1\tДублирую\tДублирую\tPRON\tAWP\tAnimacy=Inan|Case=Acc|Gender=Fem|Number=Sing\t51\tobj\t_\t_\n",
      "2\tсвое\tСВОЙ\tDET\tPRP$\tAnimacy=Inan|Case=Acc|Gender=Neut|Number=Sing|Reflex=Yes\t3\tdet\t_\t_\n",
      "3\tзаявление\tЗАЯВЛЕНИЕ\tNOUN\tNN\tAnimacy=Inan|Case=Acc|Gender=Neut|Number=Sing\t1\tobj\t_\t_\n",
      "4\tот\tОТ\tADP\tIN\t_\t17\tcase\t_\t_\n",
      "5\t03.06\t03.06\tNUM\tCD\tCase=Nom|NumType=Card\t17\tnsubj\t_\tSpaceAfter=No\n",
      "6\t.\t.\tPUNCT\t.\t_\t17\tpunct\t_\tSpaceAfter=No\n",
      "7\t2015\t2015\tNUM\tCD\tCase=Nom|NumType=Card\t17\tnummod:gov\t_\t_\n",
      "8\tв\tВ\tADP\tIN\t_\t9\tcase\t_\t_\n",
      "9\tДО\tдо\tPROPN\tNNP\tAnimacy=Inan|Case=Loc|Gender=Neut|Number=Sing\t17\tnmod\t_\t_\n",
      "10\t\"\t\"\tPUNCT\t,\t_\t9\tpunct\t_\tSpaceAfter=No\n",
      "11\tМожайский\tМожайский\tPROPN\tNNP\tAnimacy=Anim|Case=Nom|Gender=Masc|Number=Sing\t17\tnsubj\t_\tSpaceAfter=No\n",
      "12\t\"\t\"\tPUNCT\t,\t_\t11\tpunct\t_\tSpaceAfter=No\n",
      "13\t.\t.\tPUNCT\t.\t_\t17\tpunct\t_\tSpacesAfter=\\s \n",
      "14\t02.06\t02.06\tNUM\tCD\tCase=Nom|NumType=Card\t17\tnsubj\t_\tSpaceAfter=No\n",
      "15\t.\t.\tPUNCT\t.\t_\t17\tpunct\t_\tSpaceAfter=No\n",
      "16\t2015\t2015\tNUM\tCD\tCase=Nom|NumType=Card\t17\tnummod:gov\t_\t_\n",
      "17\tмною\tмною\tNOUN\tNN\tAnimacy=Inan|Case=Ins|Gender=Fem|Number=Sing\t3\tnmod\t_\tSpaceAfter=No\n",
      "18\t,\t,\tPUNCT\t,\t_\t24\tpunct\t_\t_\n",
      "19\tпо\tПО\tADP\tIN\t_\t22\tcase\t_\t_\n",
      "20\tмоей\tМОЙ\tDET\tPRP$\tAnimacy=Inan|Case=Loc|Gender=Fem|Number=Sing|Person=1\t22\tdet\t_\t_\n",
      "21\tдебетовой\tдебетовой\tADJ\tJJL\tAnimacy=Inan|Case=Loc|Gender=Fem|Number=Sing\t22\tamod\t_\t_\n",
      "22\tкарте\tКАРТА\tNOUN\tNN\tAnimacy=Inan|Case=Loc|Gender=Fem|Number=Sing\t24\tobl\t_\t_\n",
      "23\tбыла\tБЫТЬ\tAUX\tVBC\tAspect=Imp|Gender=Fem|Mood=Ind|Number=Sing|Tense=Past|VerbForm=Fin\t24\taux:pass\t_\t_\n",
      "24\tсовершена\tсовершЕНА\tVERB\tVBNH\tAnimacy=Inan|Aspect=Perf|Case=Nom|Gender=Fem|Number=Sing|Tense=Past|Variant=Short|VerbForm=Part|Voice=Pass\t3\tacl\t_\t_\n",
      "25\tпокупка\tпокупка\tNOUN\tNN\tAnimacy=Inan|Case=Nom|Gender=Fem|Number=Sing\t24\tnsubj:pass\t_\t_\n",
      "26\tв\tВ\tADP\tIN\t_\t27\tcase\t_\t_\n",
      "27\tинтернет\tИНТЕРНЕТ\tADV\tAFX\t_\t24\tobl\t_\tSpaceAfter=No\n",
      "28\t-\t-\tPUNCT\t-\t_\t27\tgoeswith\t_\tSpaceAfter=No\n",
      "29\tмагазине\tмагазине\tNOUN\tNN\tAnimacy=Anim|Case=Dat|Gender=Fem|Number=Sing\t27\tgoeswith\t_\tSpacesAfter=\\s \n",
      "30\tна\tНА\tADP\tIN\t_\t31\tcase\t_\t_\n",
      "31\tсумму\tСУММА\tNOUN\tNN\tAnimacy=Inan|Case=Dat|Gender=Masc|Number=Sing\t24\tobl\t_\t_\n",
      "32\t3028\t3028\tNUM\tCD\tCase=Nom|NumType=Card\t33\tnummod:gov\t_\t_\n",
      "33\tруб\tруб\tNOUN\tNN\tAnimacy=Inan|Case=Gen|Gender=Fem|Number=Plur\t31\tappos\t_\tSpaceAfter=No\n",
      "34\t.\t.\tPUNCT\t.\t_\t24\tpunct\t_\tSpaceAfter=No\n",
      "35\t,\t,\tPUNCT\t,\t_\t39\tpunct\t_\t_\n",
      "36\tно\tНО\tCCONJ\tCC\t_\t39\tcc\t_\t_\n",
      "37\tс\tС\tADP\tIN\t_\t38\tcase\t_\t_\n",
      "38\tкарты\tКАРТА\tNOUN\tNN\tAnimacy=Inan|Case=Acc|Gender=Fem|Number=Plur\t39\tobl\t_\t_\n",
      "39\tпроизошло\tПРОИЗОЙТИ\tVERB\tVBC\tAspect=Perf|Gender=Neut|Mood=Ind|Number=Sing|Tense=Past|VerbForm=Fin\t24\tconj\t_\t_\n",
      "40\tдвойное\tдвойное\tADJ\tJJL\tAnimacy=Inan|Case=Acc|Gender=Neut|Number=Sing\t41\tamod\t_\t_\n",
      "41\tсписание\tсписание\tNOUN\tNN\tAnimacy=Inan|Case=Acc|Gender=Neut|Number=Sing\t39\tobj\t_\t_\n",
      "42\t(\t(\tPUNCT\t(\t_\t44\tpunct\t_\tSpaceAfter=No\n",
      "43\tдва\tДВА\tNUM\tCD\tAnimacy=Inan|Case=Acc|Gender=Masc|NumType=Card\t44\tnummod:gov\t_\t_\n",
      "44\tраза\tРАЗ\tNOUN\tNN\tAnimacy=Inan|Case=Gen|Gender=Masc|Number=Sing\t41\tappos\t_\t_\n",
      "45\tпо\tПО\tADP\tIN\t_\t47\tcase\t_\t_\n",
      "46\t3028\t3028\tNUM\tCD\tCase=Nom|NumType=Card\t47\tnummod:gov\t_\t_\n",
      "47\tруб\tруб\tNOUN\tNN\tAnimacy=Inan|Case=Gen|Gender=Fem|Number=Plur\t44\tnmod\t_\tSpaceAfter=No\n",
      "48\t.\t.\tPUNCT\t.\t_\t44\tpunct\t_\tSpaceAfter=No\n",
      "49\t)\t)\tPUNCT\t)\t_\t44\tpunct\t_\t_\n",
      "50\tто\tТО\tPRON\tDT\tAnimacy=Inan|Case=Nom|Gender=Neut|Number=Sing\t51\tcase\t_\t_\n",
      "51\tесть\tБЫТЬ\tVERB\tVBC\tAspect=Imp|Mood=Ind|Number=Sing|Person=3|Tense=Pres|VerbForm=Fin\t53\tfixed\t_\t_\n",
      "52\t6056\t6056\tNUM\tCD\tCase=Nom|NumType=Card\t51\tfixed\t_\t_\n",
      "53\tруб\tруб\tNOUN\tNN\tAnimacy=Inan|Case=Gen|Gender=Fem|Number=Plur\t0\troot\t_\tSpaceAfter=No\n",
      "54\t.\t.\tPUNCT\t.\t_\t53\tpunct\t_\t_\n",
      "55\t(\t(\tPUNCT\t(\t_\t58\tpunct\t_\tSpaceAfter=No\n",
      "56\tо\tО\tADP\tIN\t_\t57\tcase\t_\t_\n",
      "57\tчем\tЧТО\tPRON\tWP\tAnimacy=Inan|Case=Loc|Gender=Neut|Number=Sing\t58\tobl\t_\t_\n",
      "58\tимеются\tИМЕТЬСЯ\tVERB\tVBC\tAspect=Imp|Mood=Ind|Number=Plur|Person=3|Tense=Pres|VerbForm=Fin|Voice=Mid\t53\tparataxis\t_\t_\n",
      "59\tсмс\tсмс\tNOUN\tNN\tAnimacy=Inan|Case=Nom|Gender=Masc|Number=Sing\t58\tnsubj\t_\t_\n",
      "60\tсообщения\tсообщения\tNOUN\tNN\tAnimacy=Inan|Case=Gen|Gender=Neut|Number=Sing\t59\tnmod\t_\t_\n",
      "61\tот\tОТ\tADP\tIN\t_\t62\tcase\t_\t_\n",
      "62\tбанка\tБАНК\tNOUN\tNN\tAnimacy=Inan|Case=Gen|Gender=Masc|Number=Sing\t60\tnmod\t_\tSpaceAfter=No\n",
      "63\t)\t)\tPUNCT\t)\t_\t58\tpunct\t_\tSpaceAfter=No\n",
      "64\t.\t.\tPUNCT\t.\t_\t53\tpunct\t_\t_\n",
      "\n",
      "# sent_id = 3\n",
      "# text = Интернет-магазин подтвердил только один платеж 3028 руб. , товар был получен 05.06.2015.\n",
      "1\tИнтернет\tИНТЕРНЕТ\tADV\tAFX\t_\t4\tnsubj\t_\tSpaceAfter=No\n",
      "2\t-\t-\tPUNCT\t-\t_\t1\tgoeswith\t_\tSpaceAfter=No\n",
      "3\tмагазин\tМАГАЗИН\tNOUN\tNN\tAnimacy=Inan|Case=Nom|Gender=Masc|Number=Sing\t1\tgoeswith\t_\t_\n",
      "4\tподтвердил\tПОДТВЕРДИТЬ\tVERB\tVBC\tAspect=Perf|Gender=Masc|Mood=Ind|Number=Sing|Tense=Past|VerbForm=Fin\t0\troot\t_\t_\n",
      "5\tтолько\tТОЛЬКО\tPART\tUH\t_\t6\tdiscourse\t_\t_\n",
      "6\tодин\tОДИН\tNUM\tCD\tAnimacy=Inan|Case=Acc|Gender=Masc|Number=Sing|NumType=Card\t7\tnummod\t_\t_\n",
      "7\tплатеж\tплатеж\tNOUN\tNN\tAnimacy=Inan|Case=Acc|Gender=Masc|Number=Sing\t4\tobj\t_\t_\n",
      "8\t3028\t3028\tNUM\tCD\tCase=Nom|NumType=Card\t9\tnummod:gov\t_\t_\n",
      "9\tруб\tруб\tNOUN\tNN\tAnimacy=Inan|Case=Gen|Gender=Fem|Number=Plur\t7\tappos\t_\tSpaceAfter=No\n",
      "10\t.\t.\tPUNCT\t.\t_\t4\tpunct\t_\t_\n",
      "11\t,\t,\tPUNCT\t,\t_\t14\tpunct\t_\t_\n",
      "12\tтовар\tТОВАР\tNOUN\tNN\tAnimacy=Inan|Case=Nom|Gender=Masc|Number=Sing\t14\tnsubj:pass\t_\t_\n",
      "13\tбыл\tБЫТЬ\tAUX\tVBC\tAspect=Imp|Gender=Masc|Mood=Ind|Number=Sing|Tense=Past|VerbForm=Fin\t14\taux:pass\t_\t_\n",
      "14\tполучен\tполучен\tVERB\tVBNH\tAnimacy=Inan|Aspect=Perf|Case=Nom|Gender=Masc|Number=Sing|Tense=Past|Variant=Short|VerbForm=Part|Voice=Pass\t4\tconj\t_\t_\n",
      "15\t05.06\t05.06\tNUM\tCD\tCase=Nom|NumType=Card\t17\tnummod:gov\t_\tSpaceAfter=No\n",
      "16\t.\t.\tPUNCT\t.\t_\t15\tpunct\t_\tSpaceAfter=No\n",
      "17\t2015\t2015\tNUM\tCD\tCase=Nom|NumType=Card\t14\tadvmod\t_\tSpaceAfter=No\n",
      "18\t.\t.\tPUNCT\t.\t_\t4\tpunct\t_\t_\n",
      "\n",
      "# sent_id = 4\n",
      "# text = Прошу разобраться в ситуации и вернуть мне на счет ошибочно списанную сумму в размере 3028 руб.!\n",
      "1\tПрошу\tПрошУ\tPROPN\tNNP\tAnimacy=Anim|Case=Nom|Gender=Masc|Number=Sing\t2\tnsubj\t_\t_\n",
      "2\tразобраться\tразобраться\tVERB\tVBC\tAspect=Imp|Gender=Masc|Mood=Ind|Number=Sing|Tense=Past|VerbForm=Fin|Voice=Mid\t0\troot\t_\t_\n",
      "3\tв\tВ\tADP\tIN\t_\t4\tcase\t_\t_\n",
      "4\tситуации\tСИТУАЦИЯ\tNOUN\tNN\tAnimacy=Inan|Case=Loc|Gender=Fem|Number=Sing\t2\tobl\t_\t_\n",
      "5\tи\tИ\tCCONJ\tCC\t_\t6\tcc\t_\t_\n",
      "6\tвернуть\tВЕРНУТЬ\tVERB\tVB\tAspect=Perf|VerbForm=Inf\t2\tconj\t_\t_\n",
      "7\tмне\tЯ\tPRON\tPRP\tCase=Dat|Number=Sing|Person=1\t6\tiobj\t_\t_\n",
      "8\tна\tНА\tADP\tIN\t_\t9\tcase\t_\t_\n",
      "9\tсчет\tСЧЕТ\tNOUN\tNN\tAnimacy=Inan|Case=Acc|Gender=Masc|Number=Sing\t6\tobl\t_\t_\n",
      "10\tошибочно\tошибочно\tADV\tRB\t_\t11\tadvmod\t_\t_\n",
      "11\tсписанную\tсписанную\tADJ\tJJL\tAnimacy=Inan|Case=Acc|Gender=Fem|Number=Sing\t12\tamod\t_\t_\n",
      "12\tсумму\tСУММА\tNOUN\tNN\tAnimacy=Inan|Case=Acc|Gender=Fem|Number=Sing\t6\tobj\t_\t_\n",
      "13\tв\tВ\tADP\tIN\t_\t14\tcase\t_\t_\n",
      "14\tразмере\tРАЗМЕР\tNOUN\tNN\tAnimacy=Inan|Case=Loc|Gender=Masc|Number=Sing\t6\tobl\t_\t_\n",
      "15\t3028\t3028\tNUM\tCD\tCase=Nom|NumType=Card\t16\tnummod:gov\t_\t_\n",
      "16\tруб\tруб\tNOUN\tNN\tAnimacy=Inan|Case=Gen|Gender=Fem|Number=Plur\t14\tappos\t_\tSpaceAfter=No\n",
      "17\t.\t.\tPUNCT\t.\t_\t2\tpunct\t_\tSpaceAfter=No\n",
      "18\t!\t!\tPUNCT\t.\t_\t2\tpunct\t_\tSpacesAfter=\\s\\s \n",
      "\n",
      "# sent_id = 5\n",
      "# text = С уважением, давний клиент Вашего банка Владимир.\n",
      "1\tС\tС\tADP\tIN\t_\t2\tcase\t_\t_\n",
      "2\tуважением\tУВАЖЕНИЕ\tNOUN\tNN\tAnimacy=Inan|Case=Ins|Gender=Neut|Number=Sing\t0\troot\t_\tSpaceAfter=No\n",
      "3\t,\t,\tPUNCT\t,\t_\t2\tpunct\t_\t_\n",
      "4\tдавний\tдавний\tADJ\tJJL\tAnimacy=Inan|Case=Nom|Gender=Masc|Number=Sing\t5\tamod\t_\t_\n",
      "5\tклиент\tклиент\tNOUN\tNN\tAnimacy=Inan|Case=Nom|Gender=Masc|Number=Sing\t2\tappos\t_\t_\n",
      "6\tВашего\tВашего\tADJ\tJJS\tAnimacy=Inan|Case=Gen|Degree=Sup|Gender=Masc|Number=Sing\t7\tamod\t_\t_\n",
      "7\tбанка\tБАНК\tNOUN\tNN\tAnimacy=Inan|Case=Gen|Gender=Masc|Number=Sing\t5\tnmod\t_\t_\n",
      "8\tВладимир\tВЛАДИМИР\tPROPN\tNNP\tAnimacy=Anim|Case=Ins|Gender=Masc|Number=Sing\t5\tiobj\t_\tSpaceAfter=No\n",
      "9\t.\t.\tPUNCT\t.\t_\t2\tpunct\t_\t_\n",
      "\n",
      "# sent_id = 6\n",
      "# text = Номер карты указан в моем заявлении в ДО \"Можайский\".\n",
      "1\tНомер\tнОМЕР\tADV\tRB\t_\t3\tadvmod\t_\t_\n",
      "2\tкарты\tКАРТА\tNOUN\tNN\tAnimacy=Inan|Case=Acc|Gender=Fem|Number=Plur\t3\tobj\t_\t_\n",
      "3\tуказан\tуказан\tVERB\tVBNH\tAnimacy=Inan|Aspect=Perf|Case=Nom|Gender=Masc|Number=Sing|Tense=Past|Variant=Short|VerbForm=Part|Voice=Pass\t0\troot\t_\t_\n",
      "4\tв\tВ\tADP\tIN\t_\t6\tcase\t_\t_\n",
      "5\tмоем\tмОЙ\tDET\tPRP$\tAnimacy=Inan|Case=Loc|Gender=Neut|Number=Sing|Reflex=Yes\t6\tamod\t_\t_\n",
      "6\tзаявлении\tЗАЯВЛЕНИЕ\tNOUN\tNN\tAnimacy=Inan|Case=Loc|Gender=Neut|Number=Sing\t3\tobl\t_\t_\n",
      "7\tв\tВ\tADP\tIN\t_\t8\tcase\t_\tSpacesAfter= \n",
      "8\tДО\tдо\tPROPN\tNNP\tAnimacy=Inan|Case=Loc|Gender=Neut|Number=Sing\t3\tobl\t_\t_\n",
      "9\t\"\t\"\tPUNCT\t,\t_\t10\tpunct\t_\tSpaceAfter=No\n",
      "10\tМожайский\tМожайский\tPROPN\tNNP\tAnimacy=Anim|Case=Nom|Gender=Masc|Number=Sing\t8\tflat\t_\tSpaceAfter=No\n",
      "11\t\"\t\"\tPUNCT\t,\t_\t10\tpunct\t_\tSpaceAfter=No\n",
      "12\t.\t.\tPUNCT\t.\t_\t3\tpunct\t_\tSpacesAfter=\\n\n",
      "\n",
      "\n"
     ]
    }
   ],
   "source": [
    "print(parsed)"
   ]
  },
  {
   "cell_type": "markdown",
   "metadata": {},
   "source": [
    "Разделил на предложения (токенизатор сработал верно). Произвел синтаксический анализ. Извлек морфологические признаки. "
   ]
  },
  {
   "cell_type": "markdown",
   "metadata": {},
   "source": [
    "#### Посчитайте количество отзывов в разных городах и на разные банки"
   ]
  },
  {
   "cell_type": "code",
   "execution_count": 9,
   "metadata": {},
   "outputs": [],
   "source": [
    "cities = {}\n",
    "for response in responses:\n",
    "    if response['city'] in cities:\n",
    "        cities[response['city']] += 1\n",
    "    else:\n",
    "        cities[response['city']] = 0"
   ]
  },
  {
   "cell_type": "code",
   "execution_count": 10,
   "metadata": {},
   "outputs": [],
   "source": [
    "banks = {}\n",
    "for response in responses:\n",
    "    if response['bank_name'] in banks:\n",
    "        banks[response['bank_name']] += 1\n",
    "    else:\n",
    "        banks[response['bank_name']] = 0"
   ]
  },
  {
   "cell_type": "markdown",
   "metadata": {},
   "source": [
    "#### Постройте гистограмы длин слов в символах"
   ]
  },
  {
   "cell_type": "code",
   "execution_count": 11,
   "metadata": {},
   "outputs": [],
   "source": [
    "lens = {}\n",
    "for response in responses:\n",
    "    if len(response['text']) in lens:\n",
    "        lens[len(response['text'])] += 1\n",
    "    else:\n",
    "        lens[len(response['text'])] = 0"
   ]
  },
  {
   "cell_type": "code",
   "execution_count": 12,
   "metadata": {},
   "outputs": [
    {
     "data": {
      "text/plain": [
       "(0.0, 7000.0)"
      ]
     },
     "execution_count": 12,
     "metadata": {},
     "output_type": "execute_result"
    },
    {
     "data": {
      "image/png": "[encoded data removed]",
      "text/plain": [
       "<Figure size 432x288 with 1 Axes>"
      ]
     },
     "metadata": {
      "needs_background": "light"
     },
     "output_type": "display_data"
    }
   ],
   "source": [
    "import matplotlib.pyplot as plt\n",
    "\n",
    "plt.bar(lens.keys(), lens.values(), width=1)\n",
    "plt.title('Длина отзывов в символах')\n",
    "plt.xlim(0,7000)"
   ]
  },
  {
   "cell_type": "markdown",
   "metadata": {},
   "source": [
    "#### Постройте гистограмы длин слов в словах"
   ]
  },
  {
   "cell_type": "code",
   "execution_count": 13,
   "metadata": {},
   "outputs": [
    {
     "name": "stderr",
     "output_type": "stream",
     "text": [
      "[nltk_data] Downloading package punkt to /home/user/nltk_data...\n",
      "[nltk_data]   Package punkt is already up-to-date!\n",
      "100%|██████████| 153499/153499 [05:32<00:00, 461.69it/s]\n"
     ]
    }
   ],
   "source": [
    "import nltk\n",
    "nltk.download('punkt')\n",
    "from nltk.tokenize import word_tokenize \n",
    "\n",
    "for response in tqdm(responses):\n",
    "    #токенизируем по словам\n",
    "    response['text'] = word_tokenize(response['text'])\n",
    "    #isalnum() вернёт True, если в строке хотя бы один символ и все символы строки являются цифрами и/или буквами, иначе — False.\n",
    "    response['text'] = [word for word in response['text'] if word.isalnum()]"
   ]
  },
  {
   "cell_type": "code",
   "execution_count": 14,
   "metadata": {},
   "outputs": [
    {
     "data": {
      "text/plain": [
       "['Если', 'коротко', 'то', 'мне', 'нравится']"
      ]
     },
     "execution_count": 14,
     "metadata": {},
     "output_type": "execute_result"
    }
   ],
   "source": [
    "response['text'][:5]"
   ]
  },
  {
   "cell_type": "code",
   "execution_count": 15,
   "metadata": {},
   "outputs": [],
   "source": [
    "lens = {}\n",
    "for response in responses:\n",
    "    if len(response['text']) in lens:\n",
    "        lens[len(response['text'])] += 1\n",
    "    else:\n",
    "        lens[len(response['text'])] = 0"
   ]
  },
  {
   "cell_type": "code",
   "execution_count": 16,
   "metadata": {},
   "outputs": [
    {
     "data": {
      "text/plain": [
       "(0.0, 1500.0)"
      ]
     },
     "execution_count": 16,
     "metadata": {},
     "output_type": "execute_result"
    },
    {
     "data": {
      "image/png": "[encoded data removed]",
      "text/plain": [
       "<Figure size 432x288 with 1 Axes>"
      ]
     },
     "metadata": {
      "needs_background": "light"
     },
     "output_type": "display_data"
    }
   ],
   "source": [
    "plt.bar(lens.keys(), lens.values(), width=1)\n",
    "plt.title('Длина отзывов в словах')\n",
    "plt.xlim(0,1500)"
   ]
  },
  {
   "cell_type": "markdown",
   "metadata": {},
   "source": [
    "#### Найдите 10 самых частых слов"
   ]
  },
  {
   "cell_type": "code",
   "execution_count": 17,
   "metadata": {},
   "outputs": [
    {
     "name": "stderr",
     "output_type": "stream",
     "text": [
      "100%|██████████| 153499/153499 [00:16<00:00, 9062.94it/s] \n"
     ]
    },
    {
     "name": "stdout",
     "output_type": "stream",
     "text": [
      "10 самых популярных слов:  ['в', 'и', 'не', 'на', 'что', 'я', 'с', 'по', 'мне', 'банка']\n"
     ]
    }
   ],
   "source": [
    "words = {}\n",
    "for response in tqdm(responses):\n",
    "    for word in response['text']:\n",
    "        word = word.lower()\n",
    "        if word in words:\n",
    "            words[word] += 1\n",
    "        else:\n",
    "            words[word] = 0\n",
    "\n",
    "words = {k: v for k, v in sorted(words.items(), key=lambda item: item[1], reverse=True)}\n",
    "\n",
    "print('10 самых популярных слов: ', list(words.keys())[:10])"
   ]
  },
  {
   "cell_type": "markdown",
   "metadata": {},
   "source": [
    "#### Найдите 10 самых частых слов без стоп-слов"
   ]
  },
  {
   "cell_type": "markdown",
   "metadata": {},
   "source": [
    "Стоп слова - это слова, знаки, символы, которые самостоятельно не несут никакой смысловой нагрузки, но которые, тем не менее, совершенно необходимы для нормального восприятия текста."
   ]
  },
  {
   "cell_type": "code",
   "execution_count": 15,
   "metadata": {},
   "outputs": [
    {
     "name": "stderr",
     "output_type": "stream",
     "text": [
      "[nltk_data] Downloading package stopwords to /home/user/nltk_data...\n",
      "[nltk_data]   Package stopwords is already up-to-date!\n"
     ]
    },
    {
     "data": {
      "text/plain": [
       "['и', 'в', 'во', 'не', 'что', 'он', 'на', 'я', 'с', 'со']"
      ]
     },
     "execution_count": 15,
     "metadata": {},
     "output_type": "execute_result"
    }
   ],
   "source": [
    "from nltk.corpus import stopwords \n",
    "nltk.download('stopwords')\n",
    "\n",
    "stop_words = set(stopwords.words('russian'))\n",
    "stopwords.words('russian')[:10]"
   ]
  },
  {
   "cell_type": "code",
   "execution_count": 19,
   "metadata": {},
   "outputs": [
    {
     "name": "stdout",
     "output_type": "stream",
     "text": [
      "10 самых популярных слов без стоп-слов:  ['банка', 'банк', 'это', 'деньги', 'карту', 'карты', 'кредит', 'день', 'заявление', 'отделение']\n"
     ]
    }
   ],
   "source": [
    "words_no_stop = {}\n",
    "\n",
    "for word, count in words.items():\n",
    "    if word not in stop_words:\n",
    "        words_no_stop[word] = count\n",
    "        \n",
    "print('10 самых популярных слов без стоп-слов: ', list(words_no_stop.keys())[:10])"
   ]
  },
  {
   "cell_type": "code",
   "execution_count": 20,
   "metadata": {},
   "outputs": [
    {
     "name": "stderr",
     "output_type": "stream",
     "text": [
      "100%|██████████| 153499/153499 [00:03<00:00, 44409.62it/s]\n"
     ]
    }
   ],
   "source": [
    "# очистка стоп слов для дальнейщей работы\n",
    "for response in tqdm(responses):\n",
    "    response['text'] = [word for word in response['text'] if word not in stop_words]"
   ]
  },
  {
   "cell_type": "markdown",
   "metadata": {},
   "source": [
    "#### Найдите 10 самых частых лемм и существительных"
   ]
  },
  {
   "cell_type": "code",
   "execution_count": 30,
   "metadata": {},
   "outputs": [
    {
     "name": "stdout",
     "output_type": "stream",
     "text": [
      "Requirement already satisfied: pymorphy2 in /home/user/.local/lib/python3.8/site-packages (0.9.1)\r\n",
      "Requirement already satisfied: pymorphy2-dicts-ru<3.0,>=2.4 in /home/user/.local/lib/python3.8/site-packages (from pymorphy2) (2.4.417127.4579844)\r\n",
      "Requirement already satisfied: dawg-python>=0.7.1 in /home/user/.local/lib/python3.8/site-packages (from pymorphy2) (0.7.2)\r\n",
      "Requirement already satisfied: docopt>=0.6 in /usr/lib/python3/dist-packages (from pymorphy2) (0.6.2)\r\n"
     ]
    }
   ],
   "source": [
    "!pip3 install pymorphy2"
   ]
  },
  {
   "cell_type": "code",
   "execution_count": 6,
   "metadata": {},
   "outputs": [],
   "source": [
    "import pymorphy2\n",
    "morph = pymorphy2.MorphAnalyzer()"
   ]
  },
  {
   "cell_type": "code",
   "execution_count": 45,
   "metadata": {},
   "outputs": [
    {
     "data": {
      "text/plain": [
       "[Parse(word='банка', tag=OpencorporaTag('NOUN,inan,masc sing,gent'), normal_form='банк', score=0.954545, methods_stack=((DictionaryAnalyzer(), 'банка', 19, 1),)),\n",
       " Parse(word='банка', tag=OpencorporaTag('NOUN,inan,femn sing,nomn'), normal_form='банка', score=0.045454, methods_stack=((DictionaryAnalyzer(), 'банка', 8, 0),))]"
      ]
     },
     "execution_count": 45,
     "metadata": {},
     "output_type": "execute_result"
    }
   ],
   "source": [
    "morph.parse('банка')"
   ]
  },
  {
   "cell_type": "code",
   "execution_count": 54,
   "metadata": {},
   "outputs": [
    {
     "data": {
      "text/plain": [
       "'банк'"
      ]
     },
     "execution_count": 54,
     "metadata": {},
     "output_type": "execute_result"
    }
   ],
   "source": [
    "morph.parse('банка')[0].normal_form"
   ]
  },
  {
   "cell_type": "code",
   "execution_count": 22,
   "metadata": {},
   "outputs": [
    {
     "name": "stderr",
     "output_type": "stream",
     "text": [
      "100%|██████████| 316042/316042 [00:40<00:00, 7753.31it/s]\n"
     ]
    }
   ],
   "source": [
    "words_lemma = {}\n",
    "words_noun = {}\n",
    "\n",
    "for word, count in tqdm(words_no_stop.items()):\n",
    "    lemma = morph.parse(word)[0]\n",
    "    if lemma.normal_form in words_lemma:\n",
    "        words_lemma[lemma.normal_form] += count\n",
    "    else:\n",
    "        words_lemma[lemma.normal_form] = count\n",
    "        \n",
    "    if 'NOUN' in lemma.tag:\n",
    "        if lemma.normal_form in words_noun:\n",
    "            words_noun[lemma.normal_form] += count\n",
    "        else:\n",
    "            words_noun[lemma.normal_form] = count\n",
    "\n",
    "words_lemma = {k: v for k, v in sorted(words_lemma.items(), key=lambda item: item[1], reverse=True)}\n",
    "words_noun = {k: v for k, v in sorted(words_noun.items(), key=lambda item: item[1], reverse=True)}"
   ]
  },
  {
   "cell_type": "code",
   "execution_count": 55,
   "metadata": {},
   "outputs": [
    {
     "name": "stdout",
     "output_type": "stream",
     "text": [
      "10 самых популярных лемм:  ['банк', 'карта', 'это', 'деньга', 'день', 'мой', 'кредит', 'который', 'отделение', 'счёт']\n"
     ]
    }
   ],
   "source": [
    "print('10 самых популярных лемм: ', list(words_lemma.keys())[:10])"
   ]
  },
  {
   "cell_type": "code",
   "execution_count": 56,
   "metadata": {},
   "outputs": [
    {
     "name": "stdout",
     "output_type": "stream",
     "text": [
      "10 самых популярных существительных:  ['банк', 'карта', 'деньга', 'день', 'кредит', 'отделение', 'счёт', 'сотрудник', 'клиент', 'сумма']\n"
     ]
    }
   ],
   "source": [
    "print('10 самых популярных существительных: ', list(words_noun.keys())[:10])"
   ]
  },
  {
   "cell_type": "markdown",
   "metadata": {},
   "source": [
    "### Кривая Ципфа "
   ]
  },
  {
   "cell_type": "markdown",
   "metadata": {},
   "source": [
    "Эмпирическая закономерность распределения частоты слов естественного языка: если все слова текста упорядочить по убыванию частоты их использования, то частота n-го слова в таком списке окажется приблизительно обратно пропорциональной его порядковому номеру n. \n",
    "\n",
    "Например, второе по используемости слово встречается примерно в два раза реже, чем первое, третье — в три раза реже, чем первое, и так далее. "
   ]
  },
  {
   "cell_type": "code",
   "execution_count": 23,
   "metadata": {},
   "outputs": [
    {
     "data": {
      "text/plain": [
       "(0.0, 6000.0)"
      ]
     },
     "execution_count": 23,
     "metadata": {},
     "output_type": "execute_result"
    },
    {
     "data": {
      "image/png": "[encoded data removed]",
      "text/plain": [
       "<Figure size 432x288 with 1 Axes>"
      ]
     },
     "metadata": {
      "needs_background": "light"
     },
     "output_type": "display_data"
    }
   ],
   "source": [
    "import numpy as np\n",
    "\n",
    "cipfa = [x for x in words_lemma.values()]\n",
    "\n",
    "plt.plot(cipfa)\n",
    "\n",
    "plt.ylabel('Частота')\n",
    "plt.xlabel('Ранг')\n",
    "plt.ylim(0,60000)\n",
    "plt.xlim(0,6000)"
   ]
  },
  {
   "cell_type": "markdown",
   "metadata": {},
   "source": [
    "### Кривая Хипса"
   ]
  },
  {
   "cell_type": "markdown",
   "metadata": {},
   "source": [
    "Эмпирическая закономерность в лингвистике, описывающая распределение числа уникальных слов в документе (или наборе документов) как функцию от его длины. C увеличением длины текста (количества токенов), количество типов увеличивается."
   ]
  },
  {
   "cell_type": "code",
   "execution_count": 143,
   "metadata": {},
   "outputs": [],
   "source": [
    "len_text = {}\n",
    "\n",
    "for response in responses:\n",
    "    len_text[len(response['text'])] = len(set(response['text']))    "
   ]
  },
  {
   "cell_type": "code",
   "execution_count": 144,
   "metadata": {},
   "outputs": [],
   "source": [
    "import collections\n",
    "\n",
    "len_text_sort = collections.OrderedDict(sorted(len_text.items()))"
   ]
  },
  {
   "cell_type": "code",
   "execution_count": 145,
   "metadata": {},
   "outputs": [
    {
     "data": {
      "text/plain": [
       "[<matplotlib.lines.Line2D at 0x7fa7f401c310>]"
      ]
     },
     "execution_count": 145,
     "metadata": {},
     "output_type": "execute_result"
    },
    {
     "data": {
      "image/png": "[encoded data removed]",
      "text/plain": [
       "<Figure size 432x288 with 1 Axes>"
      ]
     },
     "metadata": {
      "needs_background": "light"
     },
     "output_type": "display_data"
    }
   ],
   "source": [
    "plt.ylabel('Число уникальных слов в тексте')\n",
    "plt.xlabel('Размер тескта')\n",
    "\n",
    "plt.plot(len_text_sort.keys(), len_text_sort.values())"
   ]
  },
  {
   "cell_type": "markdown",
   "metadata": {},
   "source": [
    "Не хватает экспоненциального сглаживания. Добавим."
   ]
  },
  {
   "cell_type": "code",
   "execution_count": 152,
   "metadata": {},
   "outputs": [],
   "source": [
    "len_text_sort.update((key, 100*val**0.4) for key, val in len_text_sort.items())"
   ]
  },
  {
   "cell_type": "code",
   "execution_count": 153,
   "metadata": {},
   "outputs": [
    {
     "data": {
      "text/plain": [
       "[<matplotlib.lines.Line2D at 0x7fa7ef7b5520>]"
      ]
     },
     "execution_count": 153,
     "metadata": {},
     "output_type": "execute_result"
    },
    {
     "data": {
      "image/png": "[encoded data removed]",
      "text/plain": [
       "<Figure size 432x288 with 1 Axes>"
      ]
     },
     "metadata": {
      "needs_background": "light"
     },
     "output_type": "display_data"
    }
   ],
   "source": [
    "plt.ylabel('Число уникальных слов в тексте')\n",
    "plt.xlabel('Размер тескта')\n",
    "\n",
    "plt.plot(len_text_sort.keys(), len_text_sort.values())"
   ]
  },
  {
   "cell_type": "markdown",
   "metadata": {},
   "source": [
    "#### Какое слово встречается чаще, \"сотрудник\" или \"клиент\"?"
   ]
  },
  {
   "cell_type": "code",
   "execution_count": 81,
   "metadata": {},
   "outputs": [
    {
     "name": "stdout",
     "output_type": "stream",
     "text": [
      "Слово \"сотрудник\" встречается чаще чем \"клиент\":  True\n"
     ]
    }
   ],
   "source": [
    "print('Слово \"сотрудник\" встречается чаще чем \"клиент\": ', words_lemma['сотрудник'] > words_lemma['клиент'])"
   ]
  },
  {
   "cell_type": "markdown",
   "metadata": {},
   "source": [
    "#### Сколько раз встречается слова \"мошенничество\" и \"доверие\"?"
   ]
  },
  {
   "cell_type": "code",
   "execution_count": 84,
   "metadata": {},
   "outputs": [
    {
     "name": "stdout",
     "output_type": "stream",
     "text": [
      "Слово \"мошенничество\" встречается 3220 раз\n"
     ]
    }
   ],
   "source": [
    "print('Слово \"мошенничество\" встречается {} раз'.format(words_lemma['мошенничество']))"
   ]
  },
  {
   "cell_type": "code",
   "execution_count": 85,
   "metadata": {},
   "outputs": [
    {
     "name": "stdout",
     "output_type": "stream",
     "text": [
      "Слово \"доверие\" встречается 2092 раз\n"
     ]
    }
   ],
   "source": [
    "print('Слово \"доверие\" встречается {} раз'.format(words_lemma['доверие']))"
   ]
  },
  {
   "cell_type": "markdown",
   "metadata": {},
   "source": [
    "#### Найдите ключевые слова и биграмы для положительных и отрицальных отзывов"
   ]
  },
  {
   "cell_type": "code",
   "execution_count": 155,
   "metadata": {},
   "outputs": [],
   "source": [
    "negative = data['text'][data.rating_grade==1.0]\n",
    "positive = data['text'][data.rating_grade==5.0]"
   ]
  },
  {
   "cell_type": "code",
   "execution_count": 156,
   "metadata": {},
   "outputs": [
    {
     "data": {
      "text/plain": [
       "3         1 июня 2015 в Москве в отделении по адресу Смо...\n",
       "4         История очень долгая! Пришел я в банк (это раз...\n",
       "10        В ИнтерБыстробанке удобно оплачивать ком. плат...\n",
       "12        Вы хотя бы читали что пишут те, кому вы обязан...\n",
       "13        Здравствуйте. Сразу скажу что отношение к сбер...\n",
       "                                ...                        \n",
       "201015    И я должен за овердрафт 1458 рублей, а карту т...\n",
       "201021    Ситуация как и у всех - ни разу не воспользова...\n",
       "201024    Оформил в банке кредитную карту в январе 2004 ...\n",
       "201027    Уважаемое руководство банка «ОВК»! Я проживаю ...\n",
       "201028    Пробовала 10.04.05 оформить товар в кредит в А...\n",
       "Name: text, Length: 72307, dtype: object"
      ]
     },
     "execution_count": 156,
     "metadata": {},
     "output_type": "execute_result"
    }
   ],
   "source": [
    "negative"
   ]
  },
  {
   "cell_type": "code",
   "execution_count": 95,
   "metadata": {},
   "outputs": [
    {
     "data": {
      "text/plain": [
       "0         Здравствуйте!  Хотелось бы выразить благодарно...\n",
       "9         Хочу поблагодарить Надежду из отдела по ипотеч...\n",
       "31        Выплату из АСВ по Транспортному Банку пошел по...\n",
       "40        В Куйбышевском филиале, в головном офисе прост...\n",
       "84        Хочу выразить огромную благодарность сотрудник...\n",
       "                                ...                        \n",
       "201019    Пользуюсь банком 3 месяца - специально открыл ...\n",
       "201020    А что писать? Ставки по вкладам высокие (до 13...\n",
       "201022    А я с мужем обставила техникой совершенно нову...\n",
       "201025    Слишком большой банк, не всегда учитывает нашу...\n",
       "201029    Если коротко, то мне нравится. Кридит получать...\n",
       "Name: text, Length: 26715, dtype: object"
      ]
     },
     "execution_count": 95,
     "metadata": {},
     "output_type": "execute_result"
    }
   ],
   "source": [
    "positive"
   ]
  },
  {
   "cell_type": "code",
   "execution_count": 157,
   "metadata": {},
   "outputs": [],
   "source": [
    "merge = negative.append(positive)"
   ]
  },
  {
   "cell_type": "code",
   "execution_count": 99,
   "metadata": {},
   "outputs": [
    {
     "data": {
      "text/plain": [
       "3         1 июня 2015 в Москве в отделении по адресу Смо...\n",
       "4         История очень долгая! Пришел я в банк (это раз...\n",
       "10        В ИнтерБыстробанке удобно оплачивать ком. плат...\n",
       "12        Вы хотя бы читали что пишут те, кому вы обязан...\n",
       "13        Здравствуйте. Сразу скажу что отношение к сбер...\n",
       "                                ...                        \n",
       "201019    Пользуюсь банком 3 месяца - специально открыл ...\n",
       "201020    А что писать? Ставки по вкладам высокие (до 13...\n",
       "201022    А я с мужем обставила техникой совершенно нову...\n",
       "201025    Слишком большой банк, не всегда учитывает нашу...\n",
       "201029    Если коротко, то мне нравится. Кридит получать...\n",
       "Name: text, Length: 99022, dtype: object"
      ]
     },
     "execution_count": 99,
     "metadata": {},
     "output_type": "execute_result"
    }
   ],
   "source": [
    "merge "
   ]
  },
  {
   "cell_type": "code",
   "execution_count": 158,
   "metadata": {},
   "outputs": [],
   "source": [
    "from sklearn.feature_extraction.text import TfidfVectorizer\n",
    "#слова\n",
    "tfidf = TfidfVectorizer(analyzer='word')\n",
    "tfidf_matrix = tfidf.fit_transform(merge)"
   ]
  },
  {
   "cell_type": "code",
   "execution_count": 159,
   "metadata": {},
   "outputs": [],
   "source": [
    "#биграмы\n",
    "tfidf = TfidfVectorizer(ngram_range=(2, 2))\n",
    "tfidf_matrix = tfidf.fit_transform(merge)"
   ]
  },
  {
   "cell_type": "markdown",
   "metadata": {},
   "source": [
    "## Тематическое моделирование"
   ]
  },
  {
   "cell_type": "markdown",
   "metadata": {},
   "source": [
    "#### Постройте несколько тематических моделей коллекции документов с разным числом тем. Приведите примеры понятных (интерпретируемых) тем."
   ]
  },
  {
   "cell_type": "markdown",
   "metadata": {},
   "source": [
    "Gensim — библиотека обработки естественного языка предназначения для «Тематического моделирования».\n",
    "С его помощью можно обрабатывать тексты, работать с векторными моделями слов (такими как Word2Vec, FastText и т. д.) и создавать тематические модели текстов."
   ]
  },
  {
   "cell_type": "code",
   "execution_count": 163,
   "metadata": {},
   "outputs": [
    {
     "data": {
      "text/plain": [
       "3         1 июня 2015 в Москве в отделении по адресу Смо...\n",
       "4         История очень долгая! Пришел я в банк (это раз...\n",
       "10        В ИнтерБыстробанке удобно оплачивать ком. плат...\n",
       "12        Вы хотя бы читали что пишут те, кому вы обязан...\n",
       "13        Здравствуйте. Сразу скажу что отношение к сбер...\n",
       "                                ...                        \n",
       "201019    Пользуюсь банком 3 месяца - специально открыл ...\n",
       "201020    А что писать? Ставки по вкладам высокие (до 13...\n",
       "201022    А я с мужем обставила техникой совершенно нову...\n",
       "201025    Слишком большой банк, не всегда учитывает нашу...\n",
       "201029    Если коротко, то мне нравится. Кридит получать...\n",
       "Name: text, Length: 99022, dtype: object"
      ]
     },
     "execution_count": 163,
     "metadata": {},
     "output_type": "execute_result"
    }
   ],
   "source": [
    "merge"
   ]
  },
  {
   "cell_type": "code",
   "execution_count": 271,
   "metadata": {},
   "outputs": [],
   "source": [
    "# Токенизируем документы в слова\n",
    "texts = [[text for text in doc.split()] for doc in merge]"
   ]
  },
  {
   "cell_type": "markdown",
   "metadata": {},
   "source": [
    "Чтобы работать с текстовыми документами, Gensim требует, чтобы слова (или как еще их называют в данном случае токены) были преобразованы в уникальные идентификаторы. Для этого в Gensim необходимо создать объект Dictionary, который сопоставит каждое слово с уникальным идентификатором."
   ]
  },
  {
   "cell_type": "markdown",
   "metadata": {},
   "source": [
    "Преобразуем текст или предложения в [список слов] и передадим этот список объекту corpora.Dictionary()"
   ]
  },
  {
   "cell_type": "code",
   "execution_count": 169,
   "metadata": {},
   "outputs": [],
   "source": [
    "from gensim import corpora\n",
    "\n",
    "dictionary = corpora.Dictionary(texts)"
   ]
  },
  {
   "cell_type": "code",
   "execution_count": 170,
   "metadata": {},
   "outputs": [
    {
     "name": "stdout",
     "output_type": "stream",
     "text": [
      "Dictionary(817367 unique tokens: ['(5х5000руб.).', '000', '1', '10', '2015']...)\n"
     ]
    }
   ],
   "source": [
    "print(dictionary)"
   ]
  },
  {
   "cell_type": "markdown",
   "metadata": {},
   "source": [
    "Gensim будет использовать этот словарь для создания корпуса, в котором слова в документах заменяются соответствующим идентификатором, предоставленным этим словарем."
   ]
  },
  {
   "cell_type": "markdown",
   "metadata": {},
   "source": [
    "Тематическое моделирование может выполняться с помощью таких алгоритмов, как скрытое распределение Дирихле (LDA) и скрытое семантическое индексирование (LSI)."
   ]
  },
  {
   "cell_type": "code",
   "execution_count": 178,
   "metadata": {},
   "outputs": [
    {
     "name": "stdout",
     "output_type": "stream",
     "text": [
      "Collecting pattern\n",
      "  Downloading Pattern-3.6.0.tar.gz (22.2 MB)\n",
      "\u001b[K     |████████████████████████████████| 22.2 MB 954 kB/s eta 0:00:01\n",
      "\u001b[?25hCollecting backports.csv\n",
      "  Downloading backports.csv-1.0.7-py2.py3-none-any.whl (12 kB)\n",
      "Requirement already satisfied: beautifulsoup4 in /home/user/.local/lib/python3.8/site-packages (from pattern) (4.9.3)\n",
      "Collecting cherrypy\n",
      "  Downloading CherryPy-18.6.0-py2.py3-none-any.whl (419 kB)\n",
      "\u001b[K     |████████████████████████████████| 419 kB 24.8 MB/s eta 0:00:01\n",
      "\u001b[?25hCollecting feedparser\n",
      "  Downloading feedparser-6.0.2-py3-none-any.whl (80 kB)\n",
      "\u001b[K     |████████████████████████████████| 80 kB 8.8 MB/s  eta 0:00:01\n",
      "\u001b[?25hRequirement already satisfied: future in /usr/lib/python3/dist-packages (from pattern) (0.18.2)\n",
      "Requirement already satisfied: lxml in /home/user/.local/lib/python3.8/site-packages (from pattern) (4.6.2)\n",
      "Requirement already satisfied: mysqlclient in /usr/lib/python3/dist-packages (from pattern) (1.4.4)\n",
      "Requirement already satisfied: nltk in /home/user/.local/lib/python3.8/site-packages (from pattern) (3.5)\n",
      "Requirement already satisfied: numpy in /home/user/.local/lib/python3.8/site-packages (from pattern) (1.18.5)\n",
      "Collecting pdfminer.six\n",
      "  Downloading pdfminer.six-20201018-py3-none-any.whl (5.6 MB)\n",
      "\u001b[K     |████████████████████████████████| 5.6 MB 21.0 MB/s eta 0:00:01\n",
      "\u001b[?25hCollecting python-docx\n",
      "  Downloading python-docx-0.8.10.tar.gz (5.5 MB)\n",
      "\u001b[K     |████████████████████████████████| 5.5 MB 13.0 MB/s eta 0:00:01\n",
      "\u001b[?25hRequirement already satisfied: requests in /usr/lib/python3/dist-packages (from pattern) (2.22.0)\n",
      "Requirement already satisfied: scipy in /home/user/.local/lib/python3.8/site-packages (from pattern) (1.5.4)\n",
      "Requirement already satisfied: soupsieve>1.2; python_version >= \"3.0\" in /home/user/.local/lib/python3.8/site-packages (from beautifulsoup4->pattern) (2.1)\n",
      "Requirement already satisfied: more-itertools in /usr/lib/python3/dist-packages (from cherrypy->pattern) (4.2.0)\n",
      "Collecting portend>=2.1.1\n",
      "  Downloading portend-2.7.1-py3-none-any.whl (5.3 kB)\n",
      "Collecting zc.lockfile\n",
      "  Downloading zc.lockfile-2.0-py2.py3-none-any.whl (9.7 kB)\n",
      "Collecting cheroot>=8.2.1\n",
      "  Downloading cheroot-8.5.2-py2.py3-none-any.whl (97 kB)\n",
      "\u001b[K     |████████████████████████████████| 97 kB 14.2 MB/s eta 0:00:01\n",
      "\u001b[?25hCollecting jaraco.collections\n",
      "  Downloading jaraco.collections-3.2.0-py3-none-any.whl (9.7 kB)\n",
      "Collecting sgmllib3k\n",
      "  Downloading sgmllib3k-1.0.0.tar.gz (5.8 kB)\n",
      "Requirement already satisfied: tqdm in /home/user/.local/lib/python3.8/site-packages (from nltk->pattern) (4.56.0)\n",
      "Requirement already satisfied: click in /usr/lib/python3/dist-packages (from nltk->pattern) (7.0)\n",
      "Requirement already satisfied: joblib in /home/user/.local/lib/python3.8/site-packages (from nltk->pattern) (0.17.0)\n",
      "Requirement already satisfied: regex in /home/user/.local/lib/python3.8/site-packages (from nltk->pattern) (2020.11.13)\n",
      "Collecting sortedcontainers\n",
      "  Downloading sortedcontainers-2.3.0-py2.py3-none-any.whl (29 kB)\n",
      "Requirement already satisfied: chardet; python_version > \"3.0\" in /usr/lib/python3/dist-packages (from pdfminer.six->pattern) (3.0.4)\n",
      "Requirement already satisfied: cryptography in /usr/lib/python3/dist-packages (from pdfminer.six->pattern) (2.8)\n",
      "Collecting tempora>=1.8\n",
      "  Downloading tempora-4.0.1-py3-none-any.whl (14 kB)\n",
      "Requirement already satisfied: setuptools in /usr/lib/python3/dist-packages (from zc.lockfile->cherrypy->pattern) (45.2.0)\n",
      "Collecting jaraco.functools\n",
      "  Downloading jaraco.functools-3.2.1-py3-none-any.whl (6.7 kB)\n",
      "Requirement already satisfied: six>=1.11.0 in /usr/local/lib/python3.8/dist-packages (from cheroot>=8.2.1->cherrypy->pattern) (1.15.0)\n",
      "Collecting jaraco.classes\n",
      "  Downloading jaraco.classes-3.2.1-py3-none-any.whl (5.6 kB)\n",
      "Collecting jaraco.text\n",
      "  Downloading jaraco.text-3.5.0-py3-none-any.whl (8.1 kB)\n",
      "Requirement already satisfied: pytz in /usr/lib/python3/dist-packages (from tempora>=1.8->portend>=2.1.1->cherrypy->pattern) (2019.3)\n",
      "Building wheels for collected packages: pattern, python-docx, sgmllib3k\n",
      "  Building wheel for pattern (setup.py) ... \u001b[?25ldone\n",
      "\u001b[?25h  Created wheel for pattern: filename=Pattern-3.6-py3-none-any.whl size=22332723 sha256=2771fb1d0b39784dc81e759273c0d5e257ec0fc2eccd4c7c52c9bac947631f94\n",
      "  Stored in directory: /home/user/.cache/pip/wheels/ec/ce/8f/bccc2d04f3a25a5a1dd19165b2855ad3203975f25edd5838d6\n",
      "  Building wheel for python-docx (setup.py) ... \u001b[?25ldone\n",
      "\u001b[?25h  Created wheel for python-docx: filename=python_docx-0.8.10-py3-none-any.whl size=184489 sha256=4096baf334f1a6643092876124b15c974c36af8e86c2c921fe793ddff1411971\n",
      "  Stored in directory: /home/user/.cache/pip/wheels/97/4c/2e/68066cbf12b9b2e66403da8982aaf4f656d9f5cb5dc3179e82\n",
      "  Building wheel for sgmllib3k (setup.py) ... \u001b[?25ldone\n",
      "\u001b[?25h  Created wheel for sgmllib3k: filename=sgmllib3k-1.0.0-py3-none-any.whl size=6065 sha256=2ee02de999fa7a81c12250e4c16eeb49c126e9df3ad86c7b930add4b618f27d9\n",
      "  Stored in directory: /home/user/.cache/pip/wheels/83/63/2f/117884c3b19d46b64d3d61690333aa80c88dc14050e269c546\n",
      "Successfully built pattern python-docx sgmllib3k\n",
      "Installing collected packages: backports.csv, jaraco.functools, tempora, portend, zc.lockfile, cheroot, jaraco.classes, jaraco.text, jaraco.collections, cherrypy, sgmllib3k, feedparser, sortedcontainers, pdfminer.six, python-docx, pattern\n",
      "Successfully installed backports.csv-1.0.7 cheroot-8.5.2 cherrypy-18.6.0 feedparser-6.0.2 jaraco.classes-3.2.1 jaraco.collections-3.2.0 jaraco.functools-3.2.1 jaraco.text-3.5.0 pattern-3.6 pdfminer.six-20201018 portend-2.7.1 python-docx-0.8.10 sgmllib3k-1.0.0 sortedcontainers-2.3.0 tempora-4.0.1 zc.lockfile-2.0\n"
     ]
    }
   ],
   "source": [
    "#Для лемматизации, gensim использует пакет pattern\n",
    "!pip3 install pattern"
   ]
  },
  {
   "cell_type": "markdown",
   "metadata": {},
   "source": [
    "Подготовим данные удаляя стоп лосы и лемматизируя их"
   ]
  },
  {
   "cell_type": "code",
   "execution_count": 273,
   "metadata": {},
   "outputs": [],
   "source": [
    "from gensim.utils import lemmatize\n",
    "\n",
    "data_processed = []\n",
    "\n",
    "for text in texts[:2]:\n",
    "    for wd in text:\n",
    "        if wd not in list(stop_words):  # remove stopwords\n",
    "            lemmatized_word = lemmatize(wd)  # lemmatize\n",
    "            if lemmatized_word:\n",
    "                doc_out = doc_out + [lemmatized_word[0].split(b'/')[0].decode('utf-8')]\n",
    "        else:\n",
    "            continue\n",
    "data_processed.append(doc_out)"
   ]
  },
  {
   "cell_type": "code",
   "execution_count": 224,
   "metadata": {},
   "outputs": [
    {
     "name": "stdout",
     "output_type": "stream",
     "text": [
      "[['июня', 'москве', 'отделении', 'адресу', 'смоленская', 'площадь', 'около', 'счет', 'внесены', 'средства', 'размере', 'рублей', 'конце', 'операции', 'банкомат', 'завис', 'зачисления', 'произошло', 'позвонил', 'ситифон', 'назвал', 'номер', 'банкомата', 'адрес', 'время', 'внесения', 'средств', 'номинал', 'количество', 'купюр', 'руб', 'сотрудник', 'банка', 'заверил', 'течение', 'банковских', 'дней', 'моему', 'заявлению', 'проведено', 'расследование', 'результате', 'которого', 'сообщат', 'спустя', 'дней', 'июня', 'пришел', 'ответ', 'банка', 'котором', 'сообщалось', 'моему', 'заявлению', 'проведено', 'предварительное', 'расследование', 'результате', 'которого', 'деньги', 'найдены', 'были', 'банком', 'инициировано', 'дополнительное', 'расследование', 'срок', 'дней', 'снова', 'обратился', 'ситифон', 'просьбой', 'объяснить', 'причину', 'отрицательного', 'ответа', 'моему', 'заявлению', 'очевидно', 'инкассация', 'банкомата', 'состоялась', 'мои', 'вопросы', 'сотрудник', 'банка', 'отвечал', 'таких', 'данных', 'банк', 'предоставить', 'может', 'являюсь', 'клиентом', 'ситибанка', 'около', 'лет', 'первый', 'сталкиваюсь', 'таким', 'вопиющим', 'случаем', 'проявления', 'отделении', 'установлено', 'несколько', 'камер', 'банкоматной', 'зоне', 'самих', 'банкоматах', 'чтобы', 'проверить', 'данные', 'камер', 'достаточно', 'одного', 'дней', 'данную', 'ситуацию', 'расцениваю', 'незаконное', 'удержание', 'банком', 'моих', 'личных', 'средств', 'история', 'очень', 'долгая', 'пришел', 'банк', 'это', 'раз', 'маязакрывать', 'карту', 'перед', 'этим', 'проводил', 'одну', 'операцию', 'течении', 'дней', 'ти', 'еще', 'сама', 'карта', 'передана', 'уничтожения', 'порезана', 'марта', 'первый', 'деньги', 'могли', 'выдать', 'кассу', 'связи', 'технической', 'ошибкой', 'перевели', 'другую', 'карту', 'сбербанка', 'счет', 'стоял', 'закрытии', 'дней', 'счет', 'карты', 'поступила', 'сумма', 'незаплаченная', 'ранее', 'зарплата', 'счет', 'карты', 'снова', 'стал', 'действителен', 'карата', 'зарплатная', 'во', 'проверить', 'баланс', 'карте', 'сделать', 'запрос', 'москву', 'это', 'одни', 'сутки', 'перезвоним', 'сказали', 'они', 'звонка', 'было', 'позвонил', 'сам', 'сказали', 'ожидайте', 'звонка', 'менеджера', 'минут', 'иду', 'отделение', 'мая', 'часа', 'это', 'второй', 'поход', 'звонка', 'было', 'говорят', 'ответ', 'поступил', 'будем', 'следовать', 'инструкциям', 'через', 'кассу', 'остаток', 'получить', 'невозможно', 'копеек', 'это', 'сверх', 'сумма', 'написал', 'заявление', 'перевод', 'карты', 'карту', 'другого', 'банка', 'изаявление', 'закрытие', 'карты', 'которой', 'нету', 'заявления', 'заверяют', 'печатями', 'приняли', 'звоню', 'июня', 'банк', 'спрашиваю', 'заявление', 'написал', 'сказали', 'переводиться', 'недели', 'прошел', 'месяц', 'денег', 'нету', 'на', 'отвечают', 'нужно', 'приехать', 'банк', 'третий', 'раз', 'могла', 'техническая', 'ошибка', 'среднем', 'добраться', 'банка', 'трачу', 'скажите', 'вашу', 'ошибки', 'сбои', 'технические', 'должно', 'это', 'волновать', 'какого', 'фига', 'дожжен', 'ездить', 'постоянно', 'банк', 'из', 'вас', 'ужасно', 'просто', 'ужасно', 'июня', 'москве', 'отделении', 'адресу', 'смоленская', 'площадь', 'около', 'счет', 'внесены', 'средства', 'размере', 'рублей', 'конце', 'операции', 'банкомат', 'завис', 'зачисления', 'произошло', 'позвонил', 'ситифон', 'назвал', 'номер', 'банкомата', 'адрес', 'время', 'внесения', 'средств', 'номинал', 'количество', 'купюр', 'руб', 'сотрудник', 'банка', 'заверил', 'течение', 'банковских', 'дней', 'моему', 'заявлению', 'проведено', 'расследование', 'результате', 'которого', 'сообщат', 'спустя', 'дней', 'июня', 'пришел', 'ответ', 'банка', 'котором', 'сообщалось', 'моему', 'заявлению', 'проведено', 'предварительное', 'расследование', 'результате', 'которого', 'деньги', 'найдены', 'были', 'банком', 'инициировано', 'дополнительное', 'расследование', 'срок', 'дней', 'снова', 'обратился', 'ситифон', 'просьбой', 'объяснить', 'причину', 'отрицательного', 'ответа', 'моему', 'заявлению', 'очевидно', 'инкассация', 'банкомата', 'состоялась', 'мои', 'вопросы', 'сотрудник', 'банка', 'отвечал', 'таких', 'данных', 'банк', 'предоставить', 'может', 'являюсь', 'клиентом', 'ситибанка', 'около', 'лет', 'первый', 'сталкиваюсь', 'таким', 'вопиющим', 'случаем', 'проявления', 'отделении', 'установлено', 'несколько', 'камер', 'банкоматной', 'зоне', 'самих', 'банкоматах', 'чтобы', 'проверить', 'данные', 'камер', 'достаточно', 'одного', 'дней', 'данную', 'ситуацию', 'расцениваю', 'незаконное', 'удержание', 'банком', 'моих', 'личных', 'средств', 'история', 'очень', 'долгая', 'пришел', 'банк', 'это', 'раз', 'маязакрывать', 'карту', 'перед', 'этим', 'проводил', 'одну', 'операцию', 'течении', 'дней', 'ти', 'еще', 'сама', 'карта', 'передана', 'уничтожения', 'порезана', 'марта', 'первый', 'деньги', 'могли', 'выдать', 'кассу', 'связи', 'технической', 'ошибкой', 'перевели', 'другую', 'карту', 'сбербанка', 'счет', 'стоял', 'закрытии', 'дней', 'счет', 'карты', 'поступила', 'сумма', 'незаплаченная', 'ранее', 'зарплата', 'счет', 'карты', 'снова', 'стал', 'действителен', 'карата', 'зарплатная', 'во', 'проверить', 'баланс', 'карте', 'сделать', 'запрос', 'москву', 'это', 'одни', 'сутки', 'перезвоним', 'сказали', 'они', 'звонка', 'было', 'позвонил', 'сам', 'сказали', 'ожидайте', 'звонка', 'менеджера', 'минут', 'иду', 'отделение', 'мая', 'часа', 'это', 'второй', 'поход', 'звонка', 'было', 'говорят', 'ответ', 'поступил', 'будем', 'следовать', 'инструкциям', 'через', 'кассу', 'остаток', 'получить', 'невозможно', 'копеек', 'это', 'сверх', 'сумма', 'написал', 'заявление', 'перевод', 'карты', 'карту', 'другого', 'банка', 'изаявление', 'закрытие', 'карты', 'которой', 'нету', 'заявления', 'заверяют', 'печатями', 'приняли', 'звоню', 'июня', 'банк', 'спрашиваю', 'заявление', 'написал', 'сказали', 'переводиться', 'недели', 'прошел', 'месяц', 'денег', 'нету', 'на', 'отвечают', 'нужно', 'приехать', 'банк', 'третий', 'раз', 'могла', 'техническая', 'ошибка', 'среднем', 'добраться', 'банка', 'трачу', 'скажите', 'вашу', 'ошибки', 'сбои', 'технические', 'должно', 'это', 'волновать', 'какого', 'фига', 'дожжен', 'ездить', 'постоянно', 'банк', 'из', 'вас', 'ужасно', 'просто', 'ужасно', 'июня', 'москве', 'отделении', 'адресу', 'смоленская', 'площадь', 'около', 'счет', 'внесены', 'средства', 'размере', 'рублей', 'конце', 'операции', 'банкомат', 'завис', 'зачисления', 'произошло', 'позвонил', 'ситифон', 'назвал', 'номер', 'банкомата', 'адрес', 'время', 'внесения', 'средств', 'номинал', 'количество', 'купюр', 'руб', 'сотрудник', 'банка', 'заверил', 'течение', 'банковских', 'дней', 'моему', 'заявлению', 'проведено', 'расследование', 'результате', 'которого', 'сообщат', 'спустя', 'дней', 'июня', 'пришел', 'ответ', 'банка', 'котором', 'сообщалось', 'моему', 'заявлению', 'проведено', 'предварительное', 'расследование', 'результате', 'которого', 'деньги', 'найдены', 'были', 'банком', 'инициировано', 'дополнительное', 'расследование', 'срок', 'дней', 'снова', 'обратился', 'ситифон', 'просьбой', 'объяснить', 'причину', 'отрицательного', 'ответа', 'моему', 'заявлению', 'очевидно', 'инкассация', 'банкомата', 'состоялась', 'мои', 'вопросы', 'сотрудник', 'банка', 'отвечал', 'таких', 'данных', 'банк', 'предоставить', 'может', 'являюсь', 'клиентом', 'ситибанка', 'около', 'лет', 'первый', 'сталкиваюсь', 'таким', 'вопиющим', 'случаем', 'проявления', 'отделении', 'установлено', 'несколько', 'камер', 'банкоматной', 'зоне', 'самих', 'банкоматах', 'чтобы', 'проверить', 'данные', 'камер', 'достаточно', 'одного', 'дней', 'данную', 'ситуацию', 'расцениваю', 'незаконное', 'удержание', 'банком', 'моих', 'личных', 'средств', 'история', 'очень', 'долгая', 'пришел', 'банк', 'это', 'раз', 'маязакрывать', 'карту', 'перед', 'этим', 'проводил', 'одну', 'операцию', 'течении', 'дней', 'ти', 'еще', 'сама', 'карта', 'передана', 'уничтожения', 'порезана', 'марта', 'первый', 'деньги', 'могли', 'выдать', 'кассу', 'связи', 'технической', 'ошибкой', 'перевели', 'другую', 'карту', 'сбербанка', 'счет', 'стоял', 'закрытии', 'дней', 'счет', 'карты', 'поступила', 'сумма', 'незаплаченная', 'ранее', 'зарплата', 'счет', 'карты', 'снова', 'стал', 'действителен', 'карата', 'зарплатная', 'во', 'проверить', 'баланс', 'карте', 'сделать', 'запрос', 'москву', 'это', 'одни', 'сутки', 'перезвоним', 'сказали', 'они', 'звонка', 'было', 'позвонил', 'сам', 'сказали', 'ожидайте', 'звонка', 'менеджера', 'минут', 'иду', 'отделение', 'мая', 'часа', 'это', 'второй', 'поход', 'звонка', 'было', 'говорят', 'ответ', 'поступил', 'будем', 'следовать', 'инструкциям', 'через', 'кассу', 'остаток', 'получить', 'невозможно', 'копеек', 'это', 'сверх', 'сумма', 'написал', 'заявление', 'перевод', 'карты', 'карту', 'другого', 'банка', 'изаявление', 'закрытие', 'карты', 'которой', 'нету', 'заявления', 'заверяют', 'печатями', 'приняли', 'звоню', 'июня', 'банк', 'спрашиваю', 'заявление', 'написал', 'сказали', 'переводиться', 'недели', 'прошел', 'месяц', 'денег', 'нету', 'на', 'отвечают', 'нужно', 'приехать', 'банк', 'третий', 'раз', 'могла', 'техническая', 'ошибка', 'среднем', 'добраться', 'банка', 'трачу', 'скажите', 'вашу', 'ошибки', 'сбои', 'технические', 'должно', 'это', 'волновать', 'какого', 'фига', 'дожжен', 'ездить', 'постоянно', 'банк', 'из', 'вас', 'ужасно', 'просто', 'ужасно']]\n"
     ]
    }
   ],
   "source": [
    "print(data_processed)"
   ]
  },
  {
   "cell_type": "markdown",
   "metadata": {},
   "source": [
    "data_processed теперь обрабатывается как список слов. Буду использовать его для создания словаря и корпуса, которые затем будут использоваться в качестве входных данных для модели LDA"
   ]
  },
  {
   "cell_type": "code",
   "execution_count": 225,
   "metadata": {},
   "outputs": [],
   "source": [
    "dct = corpora.Dictionary(data_processed)\n",
    "corpus = [dct.doc2bow(line) for line in data_processed]"
   ]
  },
  {
   "cell_type": "code",
   "execution_count": 227,
   "metadata": {},
   "outputs": [
    {
     "data": {
      "text/plain": [
       "[(0,\n",
       "  '0.006*\"результате\" + 0.006*\"отвечают\" + 0.005*\"расцениваю\" + 0.005*\"снова\" + 0.005*\"технической\" + 0.005*\"камер\" + 0.005*\"карты\" + 0.005*\"марта\" + 0.005*\"получить\" + 0.005*\"проводил\"'),\n",
       " (1,\n",
       "  '0.006*\"заявления\" + 0.005*\"дней\" + 0.005*\"средств\" + 0.005*\"сбои\" + 0.005*\"карте\" + 0.005*\"они\" + 0.005*\"это\" + 0.005*\"моему\" + 0.005*\"карты\" + 0.005*\"около\"'),\n",
       " (2,\n",
       "  '0.006*\"это\" + 0.006*\"сказали\" + 0.005*\"дней\" + 0.005*\"банка\" + 0.005*\"банк\" + 0.005*\"расследование\" + 0.005*\"моему\" + 0.005*\"около\" + 0.005*\"банкомат\" + 0.005*\"кассу\"'),\n",
       " (3,\n",
       "  '0.019*\"дней\" + 0.016*\"банка\" + 0.016*\"банк\" + 0.016*\"это\" + 0.013*\"счет\" + 0.013*\"карты\" + 0.010*\"июня\" + 0.010*\"заявлению\" + 0.010*\"расследование\" + 0.010*\"звонка\"'),\n",
       " (4,\n",
       "  '0.005*\"приехать\" + 0.005*\"инкассация\" + 0.005*\"моему\" + 0.005*\"являюсь\" + 0.005*\"самих\" + 0.005*\"просто\" + 0.005*\"было\" + 0.005*\"банкомат\" + 0.005*\"незаплаченная\" + 0.005*\"зоне\"'),\n",
       " (5,\n",
       "  '0.005*\"переводиться\" + 0.005*\"которой\" + 0.005*\"спустя\" + 0.005*\"сотрудник\" + 0.005*\"чтобы\" + 0.005*\"из\" + 0.005*\"июня\" + 0.005*\"ездить\" + 0.005*\"инициировано\" + 0.005*\"количество\"'),\n",
       " (6,\n",
       "  '0.005*\"являюсь\" + 0.005*\"москве\" + 0.005*\"карта\" + 0.005*\"марта\" + 0.005*\"моему\" + 0.005*\"будем\" + 0.005*\"смоленская\" + 0.005*\"могла\" + 0.005*\"сутки\" + 0.005*\"одну\"')]"
      ]
     },
     "execution_count": 227,
     "metadata": {},
     "output_type": "execute_result"
    }
   ],
   "source": [
    "from gensim.models import LdaMulticore\n",
    "\n",
    "lda_model = LdaMulticore(corpus=corpus,\n",
    "                         id2word=dct,\n",
    "                         random_state=100,\n",
    "                         num_topics=7,\n",
    "                         passes=10,\n",
    "                         chunksize=1000,\n",
    "                         batch=False,\n",
    "                         alpha='asymmetric',\n",
    "                         decay=0.5,\n",
    "                         offset=64,\n",
    "                         eta=None,\n",
    "                         eval_every=0,\n",
    "                         iterations=100,\n",
    "                         gamma_threshold=0.001,\n",
    "                         per_word_topics=True)\n",
    "# Сохраняю модель\n",
    "lda_model.save('lda_model.model')\n",
    "# Lda_model.print_topics показывает, какие слова внесли вклад в какую из 7 тем, а также вес вклада слова в эту тему.\n",
    "lda_model.print_topics(-1)"
   ]
  },
  {
   "cell_type": "markdown",
   "metadata": {},
   "source": [
    "Некоторые слова, например \"это\", стоит добавить к stop words"
   ]
  },
  {
   "cell_type": "code",
   "execution_count": 257,
   "metadata": {
    "scrolled": false
   },
   "outputs": [
    {
     "data": {
      "text/plain": [
       "[([(0.0056036976, 'результате'),\n",
       "   (0.005542811, 'отвечают'),\n",
       "   (0.0054233037, 'расцениваю'),\n",
       "   (0.0053828, 'снова'),\n",
       "   (0.0052736755, 'технической'),\n",
       "   (0.005128622, 'камер'),\n",
       "   (0.0051198564, 'карты'),\n",
       "   (0.0051172352, 'марта'),\n",
       "   (0.005105279, 'получить'),\n",
       "   (0.0050243917, 'проводил'),\n",
       "   (0.0050185695, 'другую'),\n",
       "   (0.004988739, 'назвал'),\n",
       "   (0.0049561975, 'зарплатная'),\n",
       "   (0.0049499245, 'было'),\n",
       "   (0.004932078, 'номер'),\n",
       "   (0.0049110632, 'банк'),\n",
       "   (0.0048950864, 'были'),\n",
       "   (0.0048828404, 'история'),\n",
       "   (0.004877265, 'одни'),\n",
       "   (0.0048676706, 'прошел')],\n",
       "  1.0000889005818406e-12),\n",
       " ([(0.0057323547, 'заявления'),\n",
       "   (0.005300029, 'дней'),\n",
       "   (0.0052754018, 'средств'),\n",
       "   (0.0052710935, 'сбои'),\n",
       "   (0.005210846, 'карте'),\n",
       "   (0.005199383, 'они'),\n",
       "   (0.0051738913, 'это'),\n",
       "   (0.005080105, 'моему'),\n",
       "   (0.0050387867, 'карты'),\n",
       "   (0.0050310236, 'около'),\n",
       "   (0.004985342, 'ужасно'),\n",
       "   (0.0049815327, 'заявление'),\n",
       "   (0.0049473117, 'ответа'),\n",
       "   (0.0049449834, 'камер'),\n",
       "   (0.0049278196, 'предоставить'),\n",
       "   (0.00492413, 'сверх'),\n",
       "   (0.004916269, 'баланс'),\n",
       "   (0.0049075186, 'адрес'),\n",
       "   (0.004889127, 'звонка'),\n",
       "   (0.0048614885, 'незаконное')],\n",
       "  1.0000889005818406e-12)]"
      ]
     },
     "execution_count": 257,
     "metadata": {},
     "output_type": "execute_result"
    }
   ],
   "source": [
    "#топ тем\n",
    "lda_model.top_topics(corpus)[:2]"
   ]
  },
  {
   "cell_type": "code",
   "execution_count": 237,
   "metadata": {},
   "outputs": [
    {
     "name": "stdout",
     "output_type": "stream",
     "text": [
      "Collecting pyLDAvis\n",
      "  Downloading pyLDAvis-3.2.2.tar.gz (1.7 MB)\n",
      "\u001b[K     |████████████████████████████████| 1.7 MB 1.3 MB/s eta 0:00:01\n",
      "\u001b[?25hCollecting funcy\n",
      "  Downloading funcy-1.15-py2.py3-none-any.whl (32 kB)\n",
      "Requirement already satisfied: future in /usr/lib/python3/dist-packages (from pyLDAvis) (0.18.2)\n",
      "Requirement already satisfied: jinja2>=2.7.2 in /usr/lib/python3/dist-packages (from pyLDAvis) (2.10.1)\n",
      "Requirement already satisfied: joblib>=0.8.4 in /home/user/.local/lib/python3.8/site-packages (from pyLDAvis) (0.17.0)\n",
      "Collecting numexpr\n",
      "  Downloading numexpr-2.7.3-cp38-cp38-manylinux2010_x86_64.whl (473 kB)\n",
      "\u001b[K     |████████████████████████████████| 473 kB 16.5 MB/s eta 0:00:01\n",
      "\u001b[?25hRequirement already satisfied: numpy>=1.9.2 in /home/user/.local/lib/python3.8/site-packages (from pyLDAvis) (1.18.5)\n",
      "Requirement already satisfied: scipy>=0.18.0 in /home/user/.local/lib/python3.8/site-packages (from pyLDAvis) (1.5.4)\n",
      "Requirement already satisfied: wheel>=0.23.0 in /usr/local/lib/python3.8/dist-packages (from pyLDAvis) (0.36.2)\n",
      "Requirement already satisfied: pandas>=0.17.0 in /home/user/.local/lib/python3.8/site-packages (from pyLDAvis) (1.1.4)\n",
      "Requirement already satisfied: pytz>=2017.2 in /usr/lib/python3/dist-packages (from pandas>=0.17.0->pyLDAvis) (2019.3)\n",
      "Requirement already satisfied: python-dateutil>=2.7.3 in /usr/lib/python3/dist-packages (from pandas>=0.17.0->pyLDAvis) (2.7.3)\n",
      "Building wheels for collected packages: pyLDAvis\n",
      "  Building wheel for pyLDAvis (setup.py) ... \u001b[?25ldone\n",
      "\u001b[?25h  Created wheel for pyLDAvis: filename=pyLDAvis-3.2.2-py2.py3-none-any.whl size=135590 sha256=8ce4d0f456384ba1fbd6687e467e9ba115543435f01e82c090033faaf85273be\n",
      "  Stored in directory: /home/user/.cache/pip/wheels/2a/5b/b3/26b52781cdeea9c815e147cfd4ac4a0a3472bce92142115670\n",
      "Successfully built pyLDAvis\n",
      "Installing collected packages: funcy, numexpr, pyLDAvis\n",
      "Successfully installed funcy-1.15 numexpr-2.7.3 pyLDAvis-3.2.2\n"
     ]
    }
   ],
   "source": [
    "!pip3 install pyLDAvis"
   ]
  },
  {
   "cell_type": "code",
   "execution_count": 239,
   "metadata": {},
   "outputs": [
    {
     "data": {
      "text/html": [
       "\n",
       "<link rel=\"stylesheet\" type=\"text/css\" href=\"https://cdn.jsdelivr.net/gh/bmabey/pyLDAvis@3.2.2/pyLDAvis/js/ldavis.v1.0.0.css\">\n",
       "\n",
       "\n",
       "<div id=\"ldavis_el224221403570021920324294541404\"></div>\n",
       "<script type=\"text/javascript\">\n",
       "\n",
       "var ldavis_el224221403570021920324294541404_data = {\"mdsDat\": {\"x\": [0.016416154123195394, -0.002681458173968862, -0.002148048151792486, -0.0003150282214938985, -0.0036939134328815046, -0.004199070405841682, -0.003378635737216964], \"y\": [2.163044388324806e-06, 0.0008959293021552146, -0.00014422433277287648, -0.00017798747582101787, -0.000218906270845574, 1.6687056203953632e-05, -0.0003736613233079659], \"topics\": [1, 2, 3, 4, 5, 6, 7], \"cluster\": [1, 1, 1, 1, 1, 1, 1], \"Freq\": [99.89819091235526, 0.030810915055492848, 0.022041658153856853, 0.017231913657336707, 0.012027217782476052, 0.010453326895506565, 0.009244056100073969]}, \"tinfo\": {\"Term\": [\"\\u0434\\u043d\\u0435\\u0439\", \"\\u044d\\u0442\\u043e\", \"\\u0431\\u0430\\u043d\\u043a\", \"\\u0431\\u0430\\u043d\\u043a\\u0430\", \"\\u043a\\u0430\\u0440\\u0442\\u044b\", \"\\u0441\\u0447\\u0435\\u0442\", \"\\u043c\\u043e\\u0435\\u043c\\u0443\", \"\\u0438\\u044e\\u043d\\u044f\", \"\\u0440\\u0430\\u0441\\u0441\\u043b\\u0435\\u0434\\u043e\\u0432\\u0430\\u043d\\u0438\\u0435\", \"\\u0441\\u043a\\u0430\\u0437\\u0430\\u043b\\u0438\", \"\\u0437\\u0432\\u043e\\u043d\\u043a\\u0430\", \"\\u043a\\u0430\\u0440\\u0442\\u0443\", \"\\u0437\\u0430\\u044f\\u0432\\u043b\\u0435\\u043d\\u0438\\u044e\", \"\\u0441\\u0438\\u0442\\u0438\\u0444\\u043e\\u043d\", \"\\u0431\\u044b\\u043b\\u043e\", \"\\u0441\\u043d\\u043e\\u0432\\u0430\", \"\\u0441\\u0440\\u0435\\u0434\\u0441\\u0442\\u0432\", \"\\u0434\\u0435\\u043d\\u044c\\u0433\\u0438\", \"\\u0440\\u0435\\u0437\\u0443\\u043b\\u044c\\u0442\\u0430\\u0442\\u0435\", \"\\u043a\\u0430\\u043c\\u0435\\u0440\", \"\\u043e\\u0442\\u0432\\u0435\\u0442\", \"\\u043f\\u0440\\u043e\\u0432\\u0435\\u0440\\u0438\\u0442\\u044c\", \"\\u0443\\u0436\\u0430\\u0441\\u043d\\u043e\", \"\\u043f\\u043e\\u0437\\u0432\\u043e\\u043d\\u0438\\u043b\", \"\\u043e\\u0442\\u0434\\u0435\\u043b\\u0435\\u043d\\u0438\\u0438\", \"\\u043a\\u043e\\u0442\\u043e\\u0440\\u043e\\u0433\\u043e\", \"\\u0441\\u043e\\u0442\\u0440\\u0443\\u0434\\u043d\\u0438\\u043a\", \"\\u043f\\u0435\\u0440\\u0432\\u044b\\u0439\", \"\\u0431\\u0430\\u043d\\u043a\\u043e\\u043c\", \"\\u0431\\u0430\\u043d\\u043a\\u043e\\u043c\\u0430\\u0442\\u0430\", \"\\u0434\\u043d\\u0435\\u0439\", \"\\u0431\\u0430\\u043d\\u043a\\u0430\", \"\\u044d\\u0442\\u043e\", \"\\u0431\\u0430\\u043d\\u043a\", \"\\u0441\\u0447\\u0435\\u0442\", \"\\u043a\\u0430\\u0440\\u0442\\u044b\", \"\\u0437\\u0430\\u044f\\u0432\\u043b\\u0435\\u043d\\u0438\\u044e\", \"\\u0437\\u0432\\u043e\\u043d\\u043a\\u0430\", \"\\u043a\\u0430\\u0440\\u0442\\u0443\", \"\\u0438\\u044e\\u043d\\u044f\", \"\\u0441\\u043a\\u0430\\u0437\\u0430\\u043b\\u0438\", \"\\u0440\\u0430\\u0441\\u0441\\u043b\\u0435\\u0434\\u043e\\u0432\\u0430\\u043d\\u0438\\u0435\", \"\\u043c\\u043e\\u0435\\u043c\\u0443\", \"\\u043f\\u0435\\u0440\\u0432\\u044b\\u0439\", \"\\u0440\\u0430\\u0437\", \"\\u043e\\u0442\\u0434\\u0435\\u043b\\u0435\\u043d\\u0438\\u0438\", \"\\u0441\\u0443\\u043c\\u043c\\u0430\", \"\\u043d\\u0430\\u043f\\u0438\\u0441\\u0430\\u043b\", \"\\u043d\\u0435\\u0442\\u0443\", \"\\u043a\\u0430\\u0441\\u0441\\u0443\", \"\\u043f\\u0440\\u043e\\u0432\\u0435\\u0440\\u0438\\u0442\\u044c\", \"\\u0431\\u0430\\u043d\\u043a\\u043e\\u043c\", \"\\u0431\\u0430\\u043d\\u043a\\u043e\\u043c\\u0430\\u0442\\u0430\", \"\\u043f\\u0440\\u043e\\u0432\\u0435\\u0434\\u0435\\u043d\\u043e\", \"\\u0434\\u0435\\u043d\\u044c\\u0433\\u0438\", \"\\u043f\\u0440\\u0438\\u0448\\u0435\\u043b\", \"\\u043f\\u043e\\u0437\\u0432\\u043e\\u043d\\u0438\\u043b\", \"\\u043e\\u043a\\u043e\\u043b\\u043e\", \"\\u0441\\u0438\\u0442\\u0438\\u0444\\u043e\\u043d\", \"\\u0441\\u043e\\u0442\\u0440\\u0443\\u0434\\u043d\\u0438\\u043a\", \"\\u043a\\u0430\\u043c\\u0435\\u0440\", \"\\u0431\\u044b\\u043b\\u043e\", \"\\u0441\\u0440\\u0435\\u0434\\u0441\\u0442\\u0432\", \"\\u0440\\u0435\\u0437\\u0443\\u043b\\u044c\\u0442\\u0430\\u0442\\u0435\", \"\\u0441\\u043d\\u043e\\u0432\\u0430\", \"\\u043e\\u0442\\u0432\\u0435\\u0447\\u0430\\u044e\\u0442\", \"\\u0440\\u0430\\u0441\\u0446\\u0435\\u043d\\u0438\\u0432\\u0430\\u044e\", \"\\u0442\\u0435\\u0445\\u043d\\u0438\\u0447\\u0435\\u0441\\u043a\\u043e\\u0439\", \"\\u043c\\u0430\\u0440\\u0442\\u0430\", \"\\u043f\\u0440\\u043e\\u0432\\u043e\\u0434\\u0438\\u043b\", \"\\u0434\\u0440\\u0443\\u0433\\u0443\\u044e\", \"\\u043f\\u043e\\u043b\\u0443\\u0447\\u0438\\u0442\\u044c\", \"\\u0434\\u0430\\u043d\\u043d\\u044b\\u0435\", \"\\u0431\\u044b\\u043b\\u0438\", \"\\u0438\\u0441\\u0442\\u043e\\u0440\\u0438\\u044f\", \"\\u043e\\u0436\\u0438\\u0434\\u0430\\u0439\\u0442\\u0435\", \"\\u043e\\u0434\\u043d\\u0438\", \"\\u043d\\u043e\\u043c\\u0435\\u0440\", \"\\u043d\\u0430\\u0437\\u0432\\u0430\\u043b\", \"\\u0441\\u0432\\u0435\\u0440\\u0445\", \"\\u043f\\u0440\\u043e\\u0448\\u0435\\u043b\", \"\\u0437\\u0430\\u0440\\u043f\\u043b\\u0430\\u0442\\u043d\\u0430\\u044f\", \"\\u0441\\u043e\\u0441\\u0442\\u043e\\u044f\\u043b\\u0430\\u0441\\u044c\", \"\\u043f\\u043b\\u043e\\u0449\\u0430\\u0434\\u044c\", \"\\u0441\\u0438\\u0442\\u0438\\u0431\\u0430\\u043d\\u043a\\u0430\", \"\\u043c\\u0435\\u0441\\u044f\\u0446\", \"\\u0432\\u043e\\u043f\\u0438\\u044e\\u0449\\u0438\\u043c\", \"\\u0440\\u0443\\u0431\", \"\\u0441\\u0443\\u0442\\u043a\\u0438\", \"\\u043f\\u043e\\u0441\\u0442\\u0443\\u043f\\u0438\\u043b\\u0430\", \"\\u0441\\u0431\\u0435\\u0440\\u0431\\u0430\\u043d\\u043a\\u0430\", \"\\u0431\\u0430\\u043b\\u0430\\u043d\\u0441\", \"\\u043f\\u0435\\u0440\\u0435\\u0437\\u0432\\u043e\\u043d\\u0438\\u043c\", \"\\u0432\\u044b\\u0434\\u0430\\u0442\\u044c\", \"\\u043f\\u0435\\u0440\\u0435\\u0434\\u0430\\u043d\\u0430\", \"\\u043f\\u0440\\u0438\\u043d\\u044f\\u043b\\u0438\", \"\\u0440\\u0435\\u0437\\u0443\\u043b\\u044c\\u0442\\u0430\\u0442\\u0435\", \"\\u0441\\u043d\\u043e\\u0432\\u0430\", \"\\u043a\\u0430\\u043c\\u0435\\u0440\", \"\\u0431\\u044b\\u043b\\u043e\", \"\\u043a\\u0430\\u0440\\u0442\\u044b\", \"\\u043f\\u0440\\u0438\\u0448\\u0435\\u043b\", \"\\u0431\\u0430\\u043d\\u043a\", \"\\u043a\\u0430\\u0440\\u0442\\u0443\", \"\\u0437\\u0430\\u044f\\u0432\\u043b\\u0435\\u043d\\u0438\\u044f\", \"\\u0441\\u0431\\u043e\\u0438\", \"\\u043a\\u0430\\u0440\\u0442\\u0435\", \"\\u043e\\u043d\\u0438\", \"\\u043e\\u0442\\u0432\\u0435\\u0442\\u0430\", \"\\u043f\\u0440\\u0435\\u0434\\u043e\\u0441\\u0442\\u0430\\u0432\\u0438\\u0442\\u044c\", \"\\u0431\\u0430\\u043b\\u0430\\u043d\\u0441\", \"\\u0441\\u0432\\u0435\\u0440\\u0445\", \"\\u0430\\u0434\\u0440\\u0435\\u0441\", \"\\u0432\\u0440\\u0435\\u043c\\u044f\", \"\\u0437\\u0430\\u043a\\u0440\\u044b\\u0442\\u0438\\u0438\", \"\\u0441\\u0440\\u043e\\u043a\", \"\\u043c\\u0430\\u044f\\u0437\\u0430\\u043a\\u0440\\u044b\\u0432\\u0430\\u0442\\u044c\", \"\\u0431\\u0430\\u043d\\u043a\\u043e\\u0432\\u0441\\u043a\\u0438\\u0445\", \"\\u0434\\u0430\\u043d\\u043d\\u044b\\u0445\", \"\\u0441\\u043e\\u043e\\u0431\\u0449\\u0430\\u043b\\u043e\\u0441\\u044c\", \"\\u0431\\u0430\\u043d\\u043a\\u043e\\u043c\\u0430\\u0442\\u043d\\u043e\\u0439\", \"\\u0432\\u0430\\u0441\", \"\\u043d\\u0435\\u0437\\u0430\\u043a\\u043e\\u043d\\u043d\\u043e\\u0435\", \"\\u043e\\u043f\\u0435\\u0440\\u0430\\u0446\\u0438\\u044e\", \"\\u043a\\u043e\\u0442\\u043e\\u0440\\u043e\\u043c\", \"\\u043c\\u043e\\u0438\", \"\\u0441\\u0442\\u043e\\u044f\\u043b\", \"\\u043f\\u0435\\u0440\\u0435\\u0434\", \"\\u043c\\u0435\\u043d\\u0435\\u0434\\u0436\\u0435\\u0440\\u0430\", \"\\u0437\\u0430\\u0440\\u043f\\u043b\\u0430\\u0442\\u0430\", \"\\u0442\\u0430\\u043a\\u0438\\u043c\", \"\\u0441\\u043a\\u0430\\u0436\\u0438\\u0442\\u0435\", \"\\u043e\\u0442\\u0432\\u0435\\u0447\\u0430\\u044e\\u0442\", \"\\u0434\\u043e\\u0441\\u0442\\u0430\\u0442\\u043e\\u0447\\u043d\\u043e\", \"\\u044d\\u0442\\u0438\\u043c\", \"\\u0434\\u0435\\u0439\\u0441\\u0442\\u0432\\u0438\\u0442\\u0435\\u043b\\u0435\\u043d\", \"\\u0437\\u0430\\u043a\\u0440\\u044b\\u0442\\u0438\\u0435\", \"\\u043f\\u0440\\u0438\\u0447\\u0438\\u043d\\u0443\", \"\\u0437\\u0430\\u0432\\u0438\\u0441\", \"\\u0441\\u0440\\u0435\\u0434\\u0441\\u0442\\u0432\", \"\\u043e\\u043a\\u043e\\u043b\\u043e\", \"\\u0443\\u0436\\u0430\\u0441\\u043d\\u043e\", \"\\u0437\\u0430\\u044f\\u0432\\u043b\\u0435\\u043d\\u0438\\u0435\", \"\\u043c\\u043e\\u0435\\u043c\\u0443\", \"\\u043a\\u0430\\u043c\\u0435\\u0440\", \"\\u0434\\u043d\\u0435\\u0439\", \"\\u044d\\u0442\\u043e\", \"\\u043a\\u0430\\u0440\\u0442\\u044b\", \"\\u0437\\u0432\\u043e\\u043d\\u043a\\u0430\", \"\\u0431\\u0430\\u043d\\u043a\\u043e\\u043c\\u0430\\u0442\", \"\\u0447\\u0435\\u0440\\u0435\\u0437\", \"\\u0438\\u043d\\u0441\\u0442\\u0440\\u0443\\u043a\\u0446\\u0438\\u044f\\u043c\", \"\\u0442\\u0435\\u0445\\u043d\\u0438\\u0447\\u0435\\u0441\\u043a\\u043e\\u0439\", \"\\u0447\\u0442\\u043e\\u0431\\u044b\", \"\\u043c\\u0430\\u044f\\u0437\\u0430\\u043a\\u0440\\u044b\\u0432\\u0430\\u0442\\u044c\", \"\\u0441\\u0438\\u0442\\u0443\\u0430\\u0446\\u0438\\u044e\", \"\\u043f\\u0435\\u0440\\u0435\\u0432\\u043e\\u0434\\u0438\\u0442\\u044c\\u0441\\u044f\", \"\\u043c\\u043e\\u0438\", \"\\u0441\\u0431\\u043e\\u0438\", \"\\u043e\\u0431\\u0440\\u0430\\u0442\\u0438\\u043b\\u0441\\u044f\", \"\\u0437\\u0430\\u0432\\u0435\\u0440\\u0438\\u043b\", \"\\u0432\\u043d\\u0435\\u0441\\u0435\\u043d\\u0438\\u044f\", \"\\u044d\\u0442\\u0438\\u043c\", \"\\u0434\\u0440\\u0443\\u0433\\u0443\\u044e\", \"\\u043e\\u0447\\u0435\\u043d\\u044c\", \"\\u043c\\u0438\\u043d\\u0443\\u0442\", \"\\u0441\\u0442\\u0430\\u043b\\u043a\\u0438\\u0432\\u0430\\u044e\\u0441\\u044c\", \"\\u0431\\u0443\\u0434\\u0435\\u043c\", \"\\u043e\\u0442\\u0440\\u0438\\u0446\\u0430\\u0442\\u0435\\u043b\\u044c\\u043d\\u043e\\u0433\\u043e\", \"\\u044f\\u0432\\u043b\\u044f\\u044e\\u0441\\u044c\", \"\\u0441\\u0430\\u043c\\u0438\\u0445\", \"\\u0441\\u043f\\u0440\\u0430\\u0448\\u0438\\u0432\\u0430\\u044e\", \"\\u0442\\u0435\\u0447\\u0435\\u043d\\u0438\\u0435\", \"\\u0431\\u0430\\u043d\\u043a\\u043e\\u043c\\u0430\\u0442\\u043d\\u043e\\u0439\", \"\\u0432\\u043e\\u043f\\u0438\\u044e\\u0449\\u0438\\u043c\", \"\\u0437\\u0430\\u0432\\u0438\\u0441\", \"\\u0442\\u0438\", \"\\u0437\\u0430\\u0432\\u0435\\u0440\\u044f\\u044e\\u0442\", \"\\u0432\\u0430\\u0441\", \"\\u043a\\u043e\\u043f\\u0435\\u0435\\u043a\", \"\\u043d\\u0435\\u0437\\u0430\\u043a\\u043e\\u043d\\u043d\\u043e\\u0435\", \"\\u043a\\u0430\\u0440\\u0442\\u0430\", \"\\u043e\\u043a\\u043e\\u043b\\u043e\", \"\\u044d\\u0442\\u043e\", \"\\u0441\\u043a\\u0430\\u0437\\u0430\\u043b\\u0438\", \"\\u043a\\u0430\\u0441\\u0441\\u0443\", \"\\u0440\\u0430\\u0441\\u0441\\u043b\\u0435\\u0434\\u043e\\u0432\\u0430\\u043d\\u0438\\u0435\", \"\\u043c\\u043e\\u0435\\u043c\\u0443\", \"\\u0431\\u0430\\u043d\\u043a\\u0430\", \"\\u0431\\u0430\\u043d\\u043a\", \"\\u0434\\u043d\\u0435\\u0439\", \"\\u043d\\u0435\\u0442\\u0443\", \"\\u0441\\u0438\\u0442\\u0438\\u0444\\u043e\\u043d\", \"\\u043a\\u0430\\u0440\\u0442\\u044b\", \"\\u0437\\u0430\\u044f\\u0432\\u043b\\u0435\\u043d\\u0438\\u0435\", \"\\u0431\\u0430\\u043d\\u043a\\u043e\\u043c\", \"\\u0440\\u0435\\u0437\\u0443\\u043b\\u044c\\u0442\\u0430\\u0442\\u0435\", \"\\u0441\\u0447\\u0435\\u0442\", \"\\u0438\\u043d\\u043a\\u0430\\u0441\\u0441\\u0430\\u0446\\u0438\\u044f\", \"\\u043f\\u0440\\u0438\\u0435\\u0445\\u0430\\u0442\\u044c\", \"\\u044f\\u0432\\u043b\\u044f\\u044e\\u0441\\u044c\", \"\\u0431\\u0430\\u043d\\u043a\\u043e\\u043c\\u0430\\u0442\", \"\\u043d\\u0435\\u0437\\u0430\\u043f\\u043b\\u0430\\u0447\\u0435\\u043d\\u043d\\u0430\\u044f\", \"\\u0441\\u0430\\u043c\\u0438\\u0445\", \"\\u0434\\u0430\\u043d\\u043d\\u044b\\u0435\", \"\\u0437\\u043e\\u043d\\u0435\", \"\\u043c\\u043e\\u0441\\u043a\\u0432\\u0443\", \"\\u043f\\u0440\\u043e\\u0441\\u0442\\u043e\", \"\\u0441\\u043e\\u043e\\u0431\\u0449\\u0430\\u043b\\u043e\\u0441\\u044c\", \"\\u0440\\u0430\\u043d\\u0435\\u0435\", \"\\u0434\\u0430\\u043d\\u043d\\u044b\\u0445\", \"\\u0442\\u0435\\u0445\\u043d\\u0438\\u0447\\u0435\\u0441\\u043a\\u0430\\u044f\", \"\\u0438\\u0437\\u0430\\u044f\\u0432\\u043b\\u0435\\u043d\\u0438\\u0435\", \"\\u0444\\u0438\\u0433\\u0430\", \"\\u043c\\u0430\\u0440\\u0442\\u0430\", \"\\u043e\\u0442\\u0432\\u0435\\u0447\\u0430\\u043b\", \"\\u043e\\u0442\\u0434\\u0435\\u043b\\u0435\\u043d\\u0438\\u0435\", \"\\u043f\\u0440\\u0438\\u0447\\u0438\\u043d\\u0443\", \"\\u043a\\u043e\\u043d\\u0446\\u0435\", \"\\u043c\\u0430\\u044f\\u0437\\u0430\\u043a\\u0440\\u044b\\u0432\\u0430\\u0442\\u044c\", \"\\u043e\\u0448\\u0438\\u0431\\u043a\\u0430\", \"\\u0433\\u043e\\u0432\\u043e\\u0440\\u044f\\u0442\", \"\\u043e\\u0434\\u043d\\u0443\", \"\\u0432\\u0430\\u0448\\u0443\", \"\\u043f\\u0440\\u0435\\u0434\\u043e\\u0441\\u0442\\u0430\\u0432\\u0438\\u0442\\u044c\", \"\\u0435\\u0437\\u0434\\u0438\\u0442\\u044c\", \"\\u0440\\u0430\\u0441\\u0446\\u0435\\u043d\\u0438\\u0432\\u0430\\u044e\", \"\\u0441\\u0434\\u0435\\u043b\\u0430\\u0442\\u044c\", \"\\u0438\\u0437\", \"\\u0437\\u0430\\u044f\\u0432\\u043b\\u0435\\u043d\\u0438\\u044f\", \"\\u0441\\u0440\\u0435\\u0434\\u043d\\u0435\\u043c\", \"\\u043c\\u043e\\u0435\\u043c\\u0443\", \"\\u0431\\u044b\\u043b\\u043e\", \"\\u0441\\u0440\\u0435\\u0434\\u0441\\u0442\\u0432\", \"\\u0441\\u043e\\u0442\\u0440\\u0443\\u0434\\u043d\\u0438\\u043a\", \"\\u043f\\u0440\\u043e\\u0432\\u0435\\u0434\\u0435\\u043d\\u043e\", \"\\u0441\\u043a\\u0430\\u0437\\u0430\\u043b\\u0438\", \"\\u043f\\u0435\\u0440\\u0435\\u0432\\u043e\\u0434\\u0438\\u0442\\u044c\\u0441\\u044f\", \"\\u0441\\u043f\\u0443\\u0441\\u0442\\u044f\", \"\\u0441\\u043f\\u0440\\u0430\\u0448\\u0438\\u0432\\u0430\\u044e\", \"\\u0447\\u0442\\u043e\\u0431\\u044b\", \"\\u043a\\u043e\\u0442\\u043e\\u0440\\u043e\\u0439\", \"\\u043e\\u0436\\u0438\\u0434\\u0430\\u0439\\u0442\\u0435\", \"\\u0437\\u043e\\u043d\\u0435\", \"\\u043a\\u043e\\u043b\\u0438\\u0447\\u0435\\u0441\\u0442\\u0432\\u043e\", \"\\u0438\\u0437\", \"\\u0432\\u0440\\u0435\\u043c\\u044f\", \"\\u043e\\u0442\\u0432\\u0435\\u0442\\u0430\", \"\\u043f\\u043e\\u0441\\u0442\\u043e\\u044f\\u043d\\u043d\\u043e\", \"\\u0435\\u0437\\u0434\\u0438\\u0442\\u044c\", \"\\u043d\\u0435\\u0432\\u043e\\u0437\\u043c\\u043e\\u0436\\u043d\\u043e\", \"\\u043c\\u0430\\u0440\\u0442\\u0430\", \"\\u0442\\u0435\\u0445\\u043d\\u0438\\u0447\\u0435\\u0441\\u043a\\u043e\\u0439\", \"\\u0438\\u043d\\u0438\\u0446\\u0438\\u0438\\u0440\\u043e\\u0432\\u0430\\u043d\\u043e\", \"\\u043c\\u0435\\u043d\\u0435\\u0434\\u0436\\u0435\\u0440\\u0430\", \"\\u0432\\u043e\\u043f\\u0438\\u044e\\u0449\\u0438\\u043c\", \"\\u043e\\u0447\\u0435\\u043d\\u044c\", \"\\u0438\\u0441\\u0442\\u043e\\u0440\\u0438\\u044f\", \"\\u0438\\u0434\\u0443\", \"\\u0432\\u043d\\u0435\\u0441\\u0435\\u043d\\u0438\\u044f\", \"\\u043f\\u0435\\u0440\\u0435\\u0434\\u0430\\u043d\\u0430\", \"\\u0438\\u043d\\u043a\\u0430\\u0441\\u0441\\u0430\\u0446\\u0438\\u044f\", \"\\u0438\\u0437\\u0430\\u044f\\u0432\\u043b\\u0435\\u043d\\u0438\\u0435\", \"\\u0442\\u0430\\u043a\\u0438\\u043c\", \"\\u043a\\u043e\\u043f\\u0435\\u0435\\u043a\", \"\\u043c\\u043e\\u0441\\u043a\\u0432\\u0435\", \"\\u0434\\u0440\\u0443\\u0433\\u043e\\u0433\\u043e\", \"\\u043e\\u0434\\u043d\\u0443\", \"\\u0441\\u043b\\u0435\\u0434\\u043e\\u0432\\u0430\\u0442\\u044c\", \"\\u0441\\u043e\\u0442\\u0440\\u0443\\u0434\\u043d\\u0438\\u043a\", \"\\u0438\\u044e\\u043d\\u044f\", \"\\u043f\\u0435\\u0440\\u0435\\u0437\\u0432\\u043e\\u043d\\u0438\\u043c\", \"\\u044f\\u0432\\u043b\\u044f\\u044e\\u0441\\u044c\", \"\\u043c\\u043e\\u0441\\u043a\\u0432\\u0435\", \"\\u043c\\u0430\\u0440\\u0442\\u0430\", \"\\u043e\\u0442\\u0432\\u0435\\u0447\\u0430\\u044e\\u0442\", \"\\u0441\\u0443\\u0442\\u043a\\u0438\", \"\\u0431\\u0443\\u0434\\u0435\\u043c\", \"\\u0441\\u043c\\u043e\\u043b\\u0435\\u043d\\u0441\\u043a\\u0430\\u044f\", \"\\u0437\\u0430\\u0440\\u043f\\u043b\\u0430\\u0442\\u0430\", \"\\u043a\\u0430\\u0440\\u0442\\u0430\", \"\\u043e\\u0434\\u043d\\u0443\", \"\\u043e\\u0441\\u0442\\u0430\\u0442\\u043e\\u043a\", \"\\u0438\\u0434\\u0443\", \"\\u0437\\u0430\\u0432\\u0435\\u0440\\u0438\\u043b\", \"\\u043c\\u043e\\u0433\\u043b\\u0430\", \"\\u0437\\u0430\\u043a\\u0440\\u044b\\u0442\\u0438\\u0438\", \"\\u0441\\u043f\\u0443\\u0441\\u0442\\u044f\", \"\\u0438\\u0437\", \"\\u0440\\u0430\\u0437\\u043c\\u0435\\u0440\\u0435\", \"\\u0447\\u0430\\u0441\\u0430\", \"\\u0443\\u043d\\u0438\\u0447\\u0442\\u043e\\u0436\\u0435\\u043d\\u0438\\u044f\", \"\\u0441\\u0442\\u0430\\u043b\", \"\\u0435\\u0437\\u0434\\u0438\\u0442\\u044c\", \"\\u043a\\u043e\\u043b\\u0438\\u0447\\u0435\\u0441\\u0442\\u0432\\u043e\", \"\\u0431\\u044b\\u043b\\u0438\", \"\\u0441\\u0434\\u0435\\u043b\\u0430\\u0442\\u044c\", \"\\u0432\\u043e\", \"\\u0437\\u0430\\u044f\\u0432\\u043b\\u0435\\u043d\\u0438\\u044f\", \"\\u0440\\u0430\\u043d\\u0435\\u0435\", \"\\u0441\\u0430\\u043c\\u0430\", \"\\u043e\\u043f\\u0435\\u0440\\u0430\\u0446\\u0438\\u0438\", \"\\u0434\\u0440\\u0443\\u0433\\u0443\\u044e\", \"\\u0434\\u0435\\u0439\\u0441\\u0442\\u0432\\u0438\\u0442\\u0435\\u043b\\u0435\\u043d\", \"\\u043f\\u0440\\u043e\\u0432\\u0435\\u0440\\u0438\\u0442\\u044c\", \"\\u043c\\u043e\\u0435\\u043c\\u0443\", \"\\u0434\\u0435\\u043d\\u044c\\u0433\\u0438\", \"\\u043e\\u0442\\u0432\\u0435\\u0442\", \"\\u0441\\u0438\\u0442\\u0438\\u0444\\u043e\\u043d\", \"\\u0440\\u0430\\u0441\\u0441\\u043b\\u0435\\u0434\\u043e\\u0432\\u0430\\u043d\\u0438\\u0435\", \"\\u0437\\u0432\\u043e\\u043d\\u043a\\u0430\", \"\\u0434\\u043d\\u0435\\u0439\"], \"Freq\": [16.0, 13.0, 13.0, 13.0, 10.0, 10.0, 8.0, 8.0, 8.0, 8.0, 8.0, 8.0, 8.0, 5.0, 5.0, 5.0, 5.0, 5.0, 5.0, 5.0, 5.0, 5.0, 5.0, 5.0, 5.0, 5.0, 5.0, 5.0, 5.0, 5.0, 16.153437577021045, 13.572044087006308, 13.485798721259902, 13.50946376559462, 10.97953517293634, 10.86217307291166, 8.328222600402913, 8.320481328657046, 8.29324450654899, 8.402781444834934, 8.27882430075542, 8.321221012536482, 8.276166439923637, 5.745215437977256, 5.727130288120192, 5.727217001333976, 5.7131218692627765, 5.729114205788106, 5.676432096900494, 5.714298749066592, 5.73646022660603, 5.685190534809907, 5.687655206667728, 5.672948242292762, 5.771318938547022, 5.693137901682489, 5.700128599982538, 5.660955199850585, 5.74535780897477, 5.638884468697665, 5.768627602381544, 5.752231141948257, 5.743811490548509, 5.724519615409397, 5.713897448379547, 0.0014806545035094248, 0.0014487304417543437, 0.0014087601829506121, 0.0013669701879428005, 0.0013421688341681433, 0.0013406135561751422, 0.0013637762890586693, 0.001295762886527821, 0.0013076274322346463, 0.0013043561612868784, 0.0012876386954536077, 0.0013028668112580694, 0.0013175090389279205, 0.0013326448555825135, 0.0012975859813263032, 0.0013003038305520152, 0.0013239520669152418, 0.0012769066180222588, 0.001289583197220111, 0.0012716840037267979, 0.0012642773079308083, 0.0012689353051895393, 0.0012998786573791706, 0.0012619111159782475, 0.00127613327056305, 0.001278659057945909, 0.0012521206889033747, 0.0012927359222247188, 0.001274526867299704, 0.0012647849532550852, 0.001290554577356666, 0.0014969191810603215, 0.0014379106676913813, 0.0013700119549397496, 0.0013222763770933017, 0.001367670392679472, 0.0012926106590927544, 0.001311895334973178, 0.0012907434049975021, 0.0010954596440896074, 0.0010073120826315145, 0.0009957987617611624, 0.000993608133999024, 0.000945437015277289, 0.0009417120492986829, 0.0009395046917149058, 0.0009410069941027036, 0.0009378325104467439, 0.0009229769627619795, 0.0009020934289708866, 0.0009163903963874241, 0.0008960145414923379, 0.000927460999903239, 0.0009044751148556764, 0.0009077977642192349, 0.0009075965614175046, 0.0009067907713380406, 0.0009290360948128482, 0.0009125459189701961, 0.0008965098509989416, 0.0009102737778217753, 0.0009181741691254531, 0.0009120991971370753, 0.0009151017551791726, 0.0008974644297048951, 0.0009017101558762149, 0.0009043164485153468, 0.0008879977533444923, 0.0008933908961126766, 0.000899085264658772, 0.0009159749984756695, 0.0009048027701922402, 0.0009031148379749823, 0.000901523903127864, 0.0010081354034283338, 0.0009614344622773136, 0.0009527046099763212, 0.000951976684758208, 0.0009708139299930037, 0.0009449920732124277, 0.0010128417336251981, 0.0009887366413076832, 0.0009629179881099743, 0.0009343178240879913, 0.0007698238418105309, 0.0007351055726106259, 0.0007465332289448789, 0.000736650585680503, 0.0007463178398749788, 0.0007211098746945837, 0.0007324959281012526, 0.0007291170468522526, 0.0007387919537591602, 0.0007258906632909854, 0.0007405707224087738, 0.0007317689204202271, 0.0007167927709014391, 0.0007216829237155031, 0.0007187687012513423, 0.0007086369969823664, 0.0007126772812958171, 0.0007118240038596661, 0.000708503004944696, 0.0007114523603159303, 0.000696031866485304, 0.0007084652979434409, 0.0006774401581930329, 0.0006875950988797564, 0.000693704815775005, 0.0006909773194941813, 0.0007041364368011964, 0.0007033695654454122, 0.0006993787454823164, 0.0006898849991497045, 0.0007034246649749215, 0.0007057954752863081, 0.0007009286980302177, 0.0007954351745061974, 0.0009050307823645044, 0.000828110378197138, 0.0007691691870470428, 0.0008027005205487681, 0.0007966033262738625, 0.000810235798629844, 0.0008054044325612791, 0.0008129377626791905, 0.0007421928887339866, 0.0007408400978863749, 0.0007593378865260734, 0.0007301864090594339, 0.0007271397946702021, 0.0007271658834625834, 0.0007245801710720879, 0.0005495773936059147, 0.0005496445483276868, 0.000526541090403083, 0.0005150641396559141, 0.0005118960683129643, 0.0005235015987443359, 0.0005085713026192128, 0.000511696983454493, 0.0005086350583312061, 0.0005182981517885722, 0.0005046043668636853, 0.0005014652842184203, 0.0005016457716376732, 0.0005105443306812274, 0.000500096065964964, 0.0004990524242910319, 0.0004979878058710367, 0.000504501425424671, 0.0005032995355668956, 0.0005033054109980846, 0.0004992592783147118, 0.00047933447722065453, 0.0004891572755803406, 0.0004888828298193457, 0.000494436083438628, 0.0004950487792298937, 0.0004856986860158704, 0.0004960274027024861, 0.0004887209398393108, 0.00048688508610051105, 0.0004948947069723501, 0.0004896933479797362, 0.0004914361659651624, 0.0005438156350153457, 0.0005169028582743845, 0.0005056690823982458, 0.0005035552382168248, 0.0005005509505879293, 0.0004973970579714853, 0.00046368585056032327, 0.00045885402456278054, 0.0004407368505285321, 0.0004548506864345519, 0.0004615529089417032, 0.00044259614763874033, 0.0004437210696578206, 0.00044426574208619236, 0.0004490349809760894, 0.00043958842141642506, 0.00043967852490585434, 0.000436879366104972, 0.00044551326393515176, 0.00043990304507623534, 0.00043450797731292096, 0.00043251312403969316, 0.00044542290722748525, 0.00044114402545406526, 0.0004323347739945747, 0.00043066598140487403, 0.00043340630916863015, 0.00042989210426873164, 0.00042809328411419186, 0.00043381183817562107, 0.00042662119989181184, 0.000427740466703593, 0.0004289047219555295, 0.0004369606491591363, 0.0004269129917072281, 0.00042863090863495953, 0.0004292336524457457, 0.00042915599885298233, 0.0004572762639293791, 0.00044899969923502947, 0.00042879237746425993, 0.00042201716962746963, 0.00041549071962280614, 0.00040592470859603634, 0.0003969976308817077, 0.0003976429460630991, 0.0004031335179707931, 0.0004009236745539551, 0.00039605247982227, 0.000405998678562465, 0.00039745973790709596, 0.0003958101927273887, 0.00039021501041813084, 0.0003951467769235362, 0.0003999576611275983, 0.00038092748773116457, 0.00039303687879938025, 0.0003947033303336749, 0.00039087551519404113, 0.000394462013581441, 0.00038351703369010403, 0.0003801035548609096, 0.0003925392796256199, 0.0003846739806927721, 0.0003820855170390931, 0.0003819192152376774, 0.0003790389770140998, 0.0003833257269050822, 0.0003772214132729083, 0.0003877429878821398, 0.0003778536288285598, 0.00037937333469787083, 0.0003813099146968529, 0.00039621195190428293, 0.0004040804977529124, 0.00039325475804459243, 0.00039109152839570055, 0.00038701556678443004, 0.000384773104926291, 0.0003841249533586995, 0.00038402075348671725], \"Total\": [16.0, 13.0, 13.0, 13.0, 10.0, 10.0, 8.0, 8.0, 8.0, 8.0, 8.0, 8.0, 8.0, 5.0, 5.0, 5.0, 5.0, 5.0, 5.0, 5.0, 5.0, 5.0, 5.0, 5.0, 5.0, 5.0, 5.0, 5.0, 5.0, 5.0, 16.157739596124507, 13.576136814536294, 13.48995263797576, 13.513640520123854, 10.983399738301406, 10.866443179163134, 8.332153582351461, 8.3244554742651, 8.297242053341671, 8.40689844928211, 8.282933880482508, 8.325362010591615, 8.280575230991245, 5.748896218624832, 5.730935857484643, 5.73102902036629, 5.716929220815239, 5.732933782216046, 5.680292928061881, 5.718223723398243, 5.740401809798699, 5.689103430067996, 5.6915784071929645, 5.67686527238074, 5.775308011701976, 5.697105280918706, 5.704119812419137, 5.6649219491229825, 5.749398666494635, 5.642852820361625, 5.772715668492707, 5.756402199356822, 5.747949081358595, 5.728745431281969, 5.718143182653495, 3.0581425159152182, 3.100165397410827, 3.0711253817667044, 3.082198934748184, 3.091247144971182, 3.098014418871618, 3.1553476199765695, 3.0499185689961834, 3.084229115720164, 3.098959323664081, 3.0609966482161832, 3.1035923436179207, 3.1479549537600082, 3.194272197420521, 3.1177590063783067, 3.127474825512252, 3.184670321256121, 3.0740869668268997, 3.1134559522545486, 3.073933612424773, 3.05834094049878, 3.0769346054679665, 3.1528166129724124, 3.0719902286781466, 3.1105726839393135, 3.1307534849815295, 3.074906817258574, 3.179401059873011, 3.136399727358186, 3.1205963913041126, 3.201497774189357, 5.728745431281969, 5.718143182653495, 5.772715668492707, 5.756402199356822, 10.866443179163134, 5.697105280918706, 13.513640520123854, 8.297242053341671, 3.111002689607629, 3.0676684270232837, 3.099534258235353, 3.130977057123267, 3.0853464519722156, 3.0743145052012943, 3.074906817258574, 3.1177590063783067, 3.121569819324169, 3.084682336339676, 3.019441623760059, 3.0701370599571645, 3.0155650402237435, 3.1341944428408066, 3.069226814985211, 3.0826341907451367, 3.0888154733572506, 3.0941417905665847, 3.170283856842742, 3.123374820679973, 3.0712941892368604, 3.1187389583872442, 3.1460567593033453, 3.1252777846810913, 3.135722953909947, 3.082104030664667, 3.0987861935535514, 3.1139903291057918, 3.0581425159152182, 3.0822201592413285, 3.1046998205210774, 3.172169825359114, 3.1462948105507813, 3.1555181776823322, 3.138279220300434, 5.747949081358595, 5.6649219491229825, 5.649827611503685, 5.611602372699186, 8.280575230991245, 5.772715668492707, 16.157739596124507, 13.48995263797576, 10.866443179163134, 8.3244554742651, 3.0115174880034696, 3.0222156758612058, 3.0836675492626964, 3.0711253817667044, 3.1125271961798524, 3.0155650402237435, 3.078835792531719, 3.0744559208443585, 3.1187389583872442, 3.0676684270232837, 3.15138902406085, 3.120501210428674, 3.0715124878804807, 3.1046998205210774, 3.098014418871618, 3.0682732476376957, 3.0959924450133527, 3.1232227904756296, 3.1159116142666403, 3.1386798119701385, 3.075914216557176, 3.133019314749242, 3.008189180007016, 3.0546160113591756, 3.0888154733572506, 3.0769346054679665, 3.138279220300434, 3.1371306803161523, 3.132345060893974, 3.0941417905665847, 3.158699793966932, 3.170283856842742, 3.163068287408261, 5.6649219491229825, 13.48995263797576, 8.282933880482508, 5.718223723398243, 8.325362010591615, 8.280575230991245, 13.576136814536294, 13.513640520123854, 16.157739596124507, 5.680292928061881, 5.749398666494635, 10.866443179163134, 5.611602372699186, 5.689103430067996, 5.728745431281969, 10.983399738301406, 3.0716327431253707, 3.1346318396318686, 3.075914216557176, 3.0115174880034696, 3.0622546411868754, 3.133019314749242, 3.0499185689961834, 3.0817319213185033, 3.097192098949042, 3.1655278204397126, 3.0826341907451367, 3.063995058578772, 3.069226814985211, 3.149265573080328, 3.0857392025578063, 3.0875160469697085, 3.082198934748184, 3.133615238349041, 3.132127500670412, 3.1555181776823322, 3.136990898021048, 3.0155650402237435, 3.0842706508804074, 3.0879683258913886, 3.1243026385908195, 3.1281781802193134, 3.0743145052012943, 3.1431610765243825, 3.100165397410827, 3.0896353493432143, 3.1471747676003736, 3.111002689607629, 3.197001560152372, 8.280575230991245, 5.756402199356822, 5.747949081358595, 5.642852820361625, 5.67686527238074, 8.282933880482508, 3.0744559208443585, 3.131138479608489, 3.008189180007016, 3.1125271961798524, 3.1666201729621424, 3.0609966482161832, 3.0817319213185033, 3.0920020942801387, 3.1471747676003736, 3.084682336339676, 3.0853464519722156, 3.0813270673172313, 3.1431610765243825, 3.1173969829675716, 3.082198934748184, 3.0711253817667044, 3.165429038356581, 3.135722953909947, 3.0769346054679665, 3.0682732476376957, 3.098959323664081, 3.079675962689495, 3.0715124878804807, 3.1205963913041126, 3.0716327431253707, 3.0857392025578063, 3.0987861935535514, 3.158699793966932, 3.0865090716542523, 3.1060379505404803, 3.1243026385908195, 3.1425738891503325, 5.642852820361625, 8.40689844928211, 3.179401059873011, 3.075914216557176, 3.0865090716542523, 3.082198934748184, 3.0581425159152182, 3.0719902286781466, 3.1159116142666403, 3.1112160985984354, 3.082104030664667, 3.163068287408261, 3.1243026385908195, 3.114077949466453, 3.079675962689495, 3.120501210428674, 3.1639427615172275, 3.019441623760059, 3.131138479608489, 3.1471747676003736, 3.1228570481805913, 3.1522901547194957, 3.0671139261134712, 3.040986036857984, 3.1431610765243825, 3.0920020942801387, 3.084229115720164, 3.0896353493432143, 3.073307567179673, 3.111002689607629, 3.063995058578772, 3.1503926478321826, 3.0704549072377527, 3.098014418871618, 3.172169825359114, 5.740401809798699, 8.280575230991245, 5.775308011701976, 5.663272894486669, 5.749398666494635, 8.325362010591615, 8.3244554742651, 16.157739596124507], \"Category\": [\"Default\", \"Default\", \"Default\", \"Default\", \"Default\", \"Default\", \"Default\", \"Default\", \"Default\", \"Default\", \"Default\", \"Default\", \"Default\", \"Default\", \"Default\", \"Default\", \"Default\", \"Default\", \"Default\", \"Default\", \"Default\", \"Default\", \"Default\", \"Default\", \"Default\", \"Default\", \"Default\", \"Default\", \"Default\", \"Default\", \"Topic1\", \"Topic1\", \"Topic1\", \"Topic1\", \"Topic1\", \"Topic1\", \"Topic1\", \"Topic1\", \"Topic1\", \"Topic1\", \"Topic1\", \"Topic1\", \"Topic1\", \"Topic1\", \"Topic1\", \"Topic1\", \"Topic1\", \"Topic1\", \"Topic1\", \"Topic1\", \"Topic1\", \"Topic1\", \"Topic1\", \"Topic1\", \"Topic1\", \"Topic1\", \"Topic1\", \"Topic1\", \"Topic1\", \"Topic1\", \"Topic1\", \"Topic1\", \"Topic1\", \"Topic1\", \"Topic1\", \"Topic2\", \"Topic2\", \"Topic2\", \"Topic2\", \"Topic2\", \"Topic2\", \"Topic2\", \"Topic2\", \"Topic2\", \"Topic2\", \"Topic2\", \"Topic2\", \"Topic2\", \"Topic2\", \"Topic2\", \"Topic2\", \"Topic2\", \"Topic2\", \"Topic2\", \"Topic2\", \"Topic2\", \"Topic2\", \"Topic2\", \"Topic2\", \"Topic2\", \"Topic2\", \"Topic2\", \"Topic2\", \"Topic2\", \"Topic2\", \"Topic2\", \"Topic2\", \"Topic2\", \"Topic2\", \"Topic2\", \"Topic2\", \"Topic2\", \"Topic2\", \"Topic2\", \"Topic3\", \"Topic3\", \"Topic3\", \"Topic3\", \"Topic3\", \"Topic3\", \"Topic3\", \"Topic3\", \"Topic3\", \"Topic3\", \"Topic3\", \"Topic3\", \"Topic3\", \"Topic3\", \"Topic3\", \"Topic3\", \"Topic3\", \"Topic3\", \"Topic3\", \"Topic3\", \"Topic3\", \"Topic3\", \"Topic3\", \"Topic3\", \"Topic3\", \"Topic3\", \"Topic3\", \"Topic3\", \"Topic3\", \"Topic3\", \"Topic3\", \"Topic3\", \"Topic3\", \"Topic3\", \"Topic3\", \"Topic3\", \"Topic3\", \"Topic3\", \"Topic3\", \"Topic3\", \"Topic3\", \"Topic3\", \"Topic3\", \"Topic3\", \"Topic3\", \"Topic4\", \"Topic4\", \"Topic4\", \"Topic4\", \"Topic4\", \"Topic4\", \"Topic4\", \"Topic4\", \"Topic4\", \"Topic4\", \"Topic4\", \"Topic4\", \"Topic4\", \"Topic4\", \"Topic4\", \"Topic4\", \"Topic4\", \"Topic4\", \"Topic4\", \"Topic4\", \"Topic4\", \"Topic4\", \"Topic4\", \"Topic4\", \"Topic4\", \"Topic4\", \"Topic4\", \"Topic4\", \"Topic4\", \"Topic4\", \"Topic4\", \"Topic4\", \"Topic4\", \"Topic4\", \"Topic4\", \"Topic4\", \"Topic4\", \"Topic4\", \"Topic4\", \"Topic4\", \"Topic4\", \"Topic4\", \"Topic4\", \"Topic4\", \"Topic4\", \"Topic4\", \"Topic4\", \"Topic4\", \"Topic4\", \"Topic5\", \"Topic5\", \"Topic5\", \"Topic5\", \"Topic5\", \"Topic5\", \"Topic5\", \"Topic5\", \"Topic5\", \"Topic5\", \"Topic5\", \"Topic5\", \"Topic5\", \"Topic5\", \"Topic5\", \"Topic5\", \"Topic5\", \"Topic5\", \"Topic5\", \"Topic5\", \"Topic5\", \"Topic5\", \"Topic5\", \"Topic5\", \"Topic5\", \"Topic5\", \"Topic5\", \"Topic5\", \"Topic5\", \"Topic5\", \"Topic5\", \"Topic5\", \"Topic5\", \"Topic5\", \"Topic5\", \"Topic5\", \"Topic5\", \"Topic5\", \"Topic5\", \"Topic6\", \"Topic6\", \"Topic6\", \"Topic6\", \"Topic6\", \"Topic6\", \"Topic6\", \"Topic6\", \"Topic6\", \"Topic6\", \"Topic6\", \"Topic6\", \"Topic6\", \"Topic6\", \"Topic6\", \"Topic6\", \"Topic6\", \"Topic6\", \"Topic6\", \"Topic6\", \"Topic6\", \"Topic6\", \"Topic6\", \"Topic6\", \"Topic6\", \"Topic6\", \"Topic6\", \"Topic6\", \"Topic6\", \"Topic6\", \"Topic6\", \"Topic6\", \"Topic6\", \"Topic6\", \"Topic6\", \"Topic7\", \"Topic7\", \"Topic7\", \"Topic7\", \"Topic7\", \"Topic7\", \"Topic7\", \"Topic7\", \"Topic7\", \"Topic7\", \"Topic7\", \"Topic7\", \"Topic7\", \"Topic7\", \"Topic7\", \"Topic7\", \"Topic7\", \"Topic7\", \"Topic7\", \"Topic7\", \"Topic7\", \"Topic7\", \"Topic7\", \"Topic7\", \"Topic7\", \"Topic7\", \"Topic7\", \"Topic7\", \"Topic7\", \"Topic7\", \"Topic7\", \"Topic7\", \"Topic7\", \"Topic7\", \"Topic7\", \"Topic7\", \"Topic7\", \"Topic7\", \"Topic7\", \"Topic7\"], \"logprob\": [30.0, 29.0, 28.0, 27.0, 26.0, 25.0, 24.0, 23.0, 22.0, 21.0, 20.0, 19.0, 18.0, 17.0, 16.0, 15.0, 14.0, 13.0, 12.0, 11.0, 10.0, 9.0, 8.0, 7.0, 6.0, 5.0, 4.0, 3.0, 2.0, 1.0, -3.9819, -4.156, -4.1624, -4.1606, -4.368, -4.3787, -4.6444, -4.6453, -4.6486, -4.6355, -4.6503, -4.6452, -4.6506, -5.0157, -5.0188, -5.0188, -5.0213, -5.0185, -5.0277, -5.021, -5.0172, -5.0262, -5.0257, -5.0283, -5.0111, -5.0248, -5.0235, -5.0304, -5.0156, -5.0343, -5.0116, -5.0144, -5.0159, -5.0193, -5.0211, -5.1953, -5.2171, -5.245, -5.2751, -5.2935, -5.2946, -5.2775, -5.3286, -5.3195, -5.322, -5.3349, -5.3232, -5.312, -5.3006, -5.3272, -5.3251, -5.3071, -5.3433, -5.3334, -5.3474, -5.3532, -5.3496, -5.3255, -5.3551, -5.3439, -5.3419, -5.3629, -5.331, -5.3452, -5.3528, -5.3327, -5.1843, -5.2245, -5.2729, -5.3084, -5.2746, -5.3311, -5.3163, -5.3325, -5.1616, -5.2455, -5.257, -5.2592, -5.3089, -5.3129, -5.3152, -5.3136, -5.317, -5.333, -5.3558, -5.3401, -5.3626, -5.3281, -5.3532, -5.3495, -5.3498, -5.3506, -5.3264, -5.3443, -5.362, -5.3468, -5.3382, -5.3448, -5.3415, -5.361, -5.3563, -5.3534, -5.3716, -5.3655, -5.3592, -5.3406, -5.3528, -5.3547, -5.3565, -5.2447, -5.2921, -5.3013, -5.302, -5.2824, -5.3094, -5.24, -5.2641, -5.2906, -5.3207, -5.2682, -5.3144, -5.2989, -5.3123, -5.2992, -5.3336, -5.3179, -5.3226, -5.3094, -5.327, -5.307, -5.3189, -5.3396, -5.3328, -5.3368, -5.351, -5.3454, -5.3466, -5.3512, -5.3471, -5.369, -5.3513, -5.3961, -5.3812, -5.3723, -5.3763, -5.3574, -5.3585, -5.3642, -5.3779, -5.3584, -5.3551, -5.362, -5.2355, -5.1064, -5.1952, -5.2691, -5.2264, -5.234, -5.2171, -5.223, -5.2137, -5.3048, -5.3066, -5.2819, -5.3211, -5.3253, -5.3252, -5.3288, -5.2456, -5.2455, -5.2885, -5.3105, -5.3167, -5.2943, -5.3232, -5.3171, -5.3231, -5.3042, -5.331, -5.3373, -5.3369, -5.3193, -5.34, -5.3421, -5.3442, -5.3312, -5.3336, -5.3336, -5.3417, -5.3824, -5.3621, -5.3627, -5.3514, -5.3501, -5.3692, -5.3482, -5.363, -5.3668, -5.3505, -5.361, -5.3575, -5.2562, -5.3069, -5.3289, -5.3331, -5.3391, -5.3454, -5.2753, -5.2858, -5.3261, -5.2946, -5.2799, -5.3219, -5.3193, -5.3181, -5.3074, -5.3287, -5.3285, -5.3349, -5.3153, -5.328, -5.3403, -5.3449, -5.3155, -5.3252, -5.3453, -5.3492, -5.3429, -5.351, -5.3552, -5.3419, -5.3586, -5.356, -5.3533, -5.3347, -5.358, -5.3539, -5.3525, -5.3527, -5.2893, -5.3075, -5.3536, -5.2466, -5.2621, -5.2854, -5.3077, -5.3061, -5.2923, -5.2978, -5.3101, -5.2853, -5.3065, -5.3107, -5.3249, -5.3123, -5.3002, -5.349, -5.3177, -5.3135, -5.3232, -5.3141, -5.3422, -5.3512, -5.319, -5.3392, -5.346, -5.3464, -5.354, -5.3427, -5.3588, -5.3313, -5.3571, -5.3531, -5.348, -5.3097, -5.29, -5.3171, -5.3227, -5.3331, -5.339, -5.3406, -5.3409], \"loglift\": [30.0, 29.0, 28.0, 27.0, 26.0, 25.0, 24.0, 23.0, 22.0, 21.0, 20.0, 19.0, 18.0, 17.0, 16.0, 15.0, 14.0, 13.0, 12.0, 11.0, 10.0, 9.0, 8.0, 7.0, 6.0, 5.0, 4.0, 3.0, 2.0, 1.0, 0.0008, 0.0007, 0.0007, 0.0007, 0.0007, 0.0006, 0.0005, 0.0005, 0.0005, 0.0005, 0.0005, 0.0005, 0.0005, 0.0004, 0.0004, 0.0004, 0.0004, 0.0004, 0.0003, 0.0003, 0.0003, 0.0003, 0.0003, 0.0003, 0.0003, 0.0003, 0.0003, 0.0003, 0.0003, 0.0003, 0.0003, 0.0003, 0.0003, 0.0003, 0.0003, 0.452, 0.4165, 0.398, 0.3643, 0.343, 0.3397, 0.3385, 0.3213, 0.3192, 0.3119, 0.3114, 0.3093, 0.3063, 0.3031, 0.3007, 0.2997, 0.2996, 0.2987, 0.2959, 0.2947, 0.2939, 0.2915, 0.2913, 0.2876, 0.2863, 0.2818, 0.2789, 0.2774, 0.2768, 0.2742, 0.2688, -0.1648, -0.2032, -0.261, -0.2937, -0.8953, -0.306, -1.1549, -0.6834, 0.4685, 0.3986, 0.3768, 0.3645, 0.3295, 0.3291, 0.3266, 0.3143, 0.3097, 0.3056, 0.3041, 0.3032, 0.2987, 0.2946, 0.2904, 0.2897, 0.2875, 0.2849, 0.2848, 0.2818, 0.2809, 0.2808, 0.2807, 0.2807, 0.2807, 0.2784, 0.2778, 0.2758, 0.2756, 0.2739, 0.2729, 0.2701, 0.266, 0.2612, 0.2649, -0.2285, -0.2614, -0.2678, -0.2618, -0.6313, -0.2975, -1.2574, -1.101, -0.9112, -0.6749, 0.3944, 0.3447, 0.34, 0.3307, 0.3304, 0.3277, 0.3226, 0.3194, 0.3182, 0.3171, 0.3102, 0.3081, 0.3033, 0.2993, 0.2974, 0.2929, 0.2896, 0.2796, 0.2773, 0.2742, 0.2724, 0.2718, 0.2676, 0.2672, 0.2649, 0.2648, 0.2639, 0.2632, 0.2591, 0.2577, 0.2565, 0.2562, 0.2515, -0.2048, -0.9433, -0.5444, -0.2477, -0.5807, -0.5829, -1.0603, -1.0617, -1.2311, -0.2767, -0.2907, -0.9026, -0.2809, -0.2988, -0.3057, -0.9601, 0.3972, 0.377, 0.353, 0.3521, 0.3292, 0.3288, 0.3267, 0.3225, 0.3115, 0.3085, 0.3082, 0.3081, 0.3067, 0.2986, 0.2983, 0.2956, 0.2952, 0.2916, 0.2897, 0.2823, 0.2801, 0.2789, 0.2766, 0.2749, 0.2744, 0.2744, 0.2727, 0.2716, 0.2706, 0.2702, 0.2681, 0.2691, 0.2454, -0.6051, -0.2922, -0.3127, -0.2985, -0.3104, -0.6946, 0.3666, 0.3378, 0.3376, 0.335, 0.3324, 0.3244, 0.3202, 0.3181, 0.3111, 0.3099, 0.3099, 0.3048, 0.3045, 0.3001, 0.2991, 0.2981, 0.2972, 0.297, 0.2958, 0.2947, 0.2911, 0.2892, 0.2877, 0.2851, 0.2842, 0.2822, 0.2807, 0.2802, 0.28, 0.2777, 0.2733, 0.2673, -0.2546, -0.6715, 0.2548, 0.3949, 0.3759, 0.354, 0.3396, 0.3367, 0.3362, 0.3322, 0.3294, 0.3282, 0.3193, 0.3184, 0.3153, 0.3147, 0.313, 0.311, 0.3059, 0.3051, 0.3031, 0.3028, 0.3021, 0.3017, 0.3008, 0.297, 0.2928, 0.2906, 0.2883, 0.2874, 0.2865, 0.2862, 0.2861, 0.2812, 0.2626, -0.2921, -0.6389, -0.3057, -0.2916, -0.3172, -0.6932, -0.6948, -1.3583]}, \"token.table\": {\"Topic\": [1, 1, 1, 1, 1, 1, 1, 1, 1, 1, 1, 1, 1, 1, 1, 1, 1, 1, 1, 1, 1, 1, 1, 1, 1, 1, 1, 1, 1, 1, 1, 1, 1, 1, 1, 1, 1, 1, 1, 1, 1, 1, 1, 1, 1, 1, 1, 1, 1, 1, 1, 1, 1, 1, 1, 1, 1, 1, 1, 1, 1, 1, 1, 1, 1, 1, 1, 1, 1, 1, 1, 1, 1, 1, 1, 1, 1, 1, 1, 1, 1, 1, 1, 1, 1, 1, 1, 1, 1, 1, 1, 1, 1, 1, 1, 1, 1, 1, 1, 1, 1, 1, 1, 1, 1, 1, 1, 1, 1, 1, 1, 1, 1, 1, 1, 1, 1, 1, 1, 1, 1, 1, 1, 1, 1, 1, 1, 1, 1, 1, 1, 1, 1, 1, 1, 1, 1, 1, 1, 1, 1, 1, 1, 1, 1, 1, 1, 1, 1, 1, 1, 1, 1, 1, 1, 1, 1, 1, 1, 1, 1, 1, 1, 1, 1], \"Freq\": [0.9610549094332, 0.9756393212184046, 1.0359902632567355, 1.031221192836674, 0.9571837531818307, 1.0546477267909837, 0.9961755201325079, 1.0541891142916093, 0.971246105789312, 0.9628000955688465, 0.9726903830552497, 1.0423177172488738, 0.9695741834283083, 0.9590246549797471, 0.9767175005269705, 0.9761470124361988, 0.9749963469060254, 0.9725474693643297, 0.9565107322997134, 0.9715125556328382, 0.9836328190845394, 0.9774448683143202, 0.9457249028779148, 1.038905628555698, 0.9902375208372376, 0.9733243717212055, 0.9658607034978344, 0.9683621811846449, 0.9544531530395872, 0.961384020609907, 0.9577488883500586, 0.9559378848746299, 0.9535025102987182, 0.9935611857480295, 0.9733610449719438, 0.9420127351884631, 1.0692133193881295, 0.9601359265562502, 0.9643193205912565, 0.9610238200843108, 0.9734785752280702, 0.9741284590798592, 0.9532359088807165, 0.9722143716854826, 0.9477388258109656, 0.9766792617751285, 0.9728675196252263, 0.9680669175266632, 0.9515994570724408, 1.039372168067761, 0.9484461691651067, 0.9678873501814365, 0.9641758006539102, 1.0122907577608253, 1.0492768891585624, 0.9702451384330132, 0.956330476410541, 0.9497578737080218, 1.0555068707230086, 0.9473823307307863, 0.9767869227615167, 0.9733310741816541, 0.9948384332567443, 0.956717173071456, 0.9809239906099987, 0.968994612642558, 0.9481840305358081, 0.966116456506409, 0.9619272532996329, 0.9719718718960749, 0.9686192861650326, 0.939181076184615, 1.0465845634938977, 0.9623413432395713, 0.9462875046740054, 0.9796703251422793, 1.0562835536806028, 0.9529996598003136, 0.9519611755625867, 0.9666217943116973, 0.9602142772420776, 0.9800729451135697, 1.0591496324020657, 0.9581673532786572, 0.9770539189252789, 0.9604995148635047, 0.9633670218544149, 1.0594580398626283, 0.972338130157908, 0.9573606750714434, 0.9809876369029134, 0.9578154143973606, 1.0469324057997038, 0.9558158779238174, 0.9777486416210616, 0.9726772840585983, 1.043678607479756, 0.9757824074368546, 0.9599146721308567, 0.9613546975699364, 0.9435739447478902, 0.9635594805276138, 1.0518713135963005, 0.9507668762094355, 0.9736064800845569, 0.9644526281252874, 0.9758272925312081, 0.9570501907338248, 0.9370614042546452, 0.9507154866727603, 1.0531664247272696, 1.0569213310718126, 1.0452229998531068, 0.9704820932484736, 0.9477092510857417, 0.9592403352147294, 1.0469494248769087, 0.9606587665445112, 0.9791138505920255, 0.9609191756253138, 0.9676903053319406, 1.0473497333703883, 0.9515301294900435, 0.9522622527907214, 0.9575427721996382, 0.9582357775504318, 0.9779414142587288, 0.9622295994855935, 0.970988372669199, 0.9759482078188237, 1.043587398968483, 0.974394284773826, 0.9633941287356133, 0.9658413450396847, 0.9546314918345864, 0.9642531746192311, 1.0492916683516325, 0.9731936436073972, 0.975899521507886, 1.0632919537347576, 0.9972777044537481, 0.9581179559886837, 0.9383792730639198, 1.0438505830642866, 0.9771550720415906, 0.9865221226400857, 0.9605462694331632, 0.9535746585399535, 1.0495144802832446, 0.9765656062294431, 1.0015113955691428, 0.9681210037145971, 0.9526030531193564, 0.9768406128291028, 0.9821201711913787, 0.9562878648388556, 1.0619793049584954, 0.9781182154526241, 0.9716548689502027, 0.9516890428086093, 0.9926492089764986, 0.9638469998533788, 0.9662769908288573, 0.9636801810114227, 0.9753197874802421], \"Term\": [\"\\u0430\\u0434\\u0440\\u0435\\u0441\", \"\\u0431\\u0430\\u043b\\u0430\\u043d\\u0441\", \"\\u0431\\u0430\\u043d\\u043a\", \"\\u0431\\u0430\\u043d\\u043a\\u0430\", \"\\u0431\\u0430\\u043d\\u043a\\u043e\\u0432\\u0441\\u043a\\u0438\\u0445\", \"\\u0431\\u0430\\u043d\\u043a\\u043e\\u043c\", \"\\u0431\\u0430\\u043d\\u043a\\u043e\\u043c\\u0430\\u0442\", \"\\u0431\\u0430\\u043d\\u043a\\u043e\\u043c\\u0430\\u0442\\u0430\", \"\\u0431\\u0430\\u043d\\u043a\\u043e\\u043c\\u0430\\u0442\\u043d\\u043e\\u0439\", \"\\u0431\\u0443\\u0434\\u0435\\u043c\", \"\\u0431\\u044b\\u043b\\u0438\", \"\\u0431\\u044b\\u043b\\u043e\", \"\\u0432\\u0430\\u0441\", \"\\u0432\\u0430\\u0448\\u0443\", \"\\u0432\\u043d\\u0435\\u0441\\u0435\\u043d\\u0438\\u044f\", \"\\u0432\\u043e\", \"\\u0432\\u043e\\u043f\\u0438\\u044e\\u0449\\u0438\\u043c\", \"\\u0432\\u0440\\u0435\\u043c\\u044f\", \"\\u0432\\u044b\\u0434\\u0430\\u0442\\u044c\", \"\\u0433\\u043e\\u0432\\u043e\\u0440\\u044f\\u0442\", \"\\u0434\\u0430\\u043d\\u043d\\u044b\\u0435\", \"\\u0434\\u0430\\u043d\\u043d\\u044b\\u0445\", \"\\u0434\\u0435\\u0439\\u0441\\u0442\\u0432\\u0438\\u0442\\u0435\\u043b\\u0435\\u043d\", \"\\u0434\\u0435\\u043d\\u044c\\u0433\\u0438\", \"\\u0434\\u043d\\u0435\\u0439\", \"\\u0434\\u043e\\u0441\\u0442\\u0430\\u0442\\u043e\\u0447\\u043d\\u043e\", \"\\u0434\\u0440\\u0443\\u0433\\u043e\\u0433\\u043e\", \"\\u0434\\u0440\\u0443\\u0433\\u0443\\u044e\", \"\\u0435\\u0437\\u0434\\u0438\\u0442\\u044c\", \"\\u0437\\u0430\\u0432\\u0435\\u0440\\u0438\\u043b\", \"\\u0437\\u0430\\u0432\\u0435\\u0440\\u044f\\u044e\\u0442\", \"\\u0437\\u0430\\u0432\\u0438\\u0441\", \"\\u0437\\u0430\\u043a\\u0440\\u044b\\u0442\\u0438\\u0435\", \"\\u0437\\u0430\\u043a\\u0440\\u044b\\u0442\\u0438\\u0438\", \"\\u0437\\u0430\\u0440\\u043f\\u043b\\u0430\\u0442\\u0430\", \"\\u0437\\u0430\\u0440\\u043f\\u043b\\u0430\\u0442\\u043d\\u0430\\u044f\", \"\\u0437\\u0430\\u044f\\u0432\\u043b\\u0435\\u043d\\u0438\\u0435\", \"\\u0437\\u0430\\u044f\\u0432\\u043b\\u0435\\u043d\\u0438\\u044e\", \"\\u0437\\u0430\\u044f\\u0432\\u043b\\u0435\\u043d\\u0438\\u044f\", \"\\u0437\\u0432\\u043e\\u043d\\u043a\\u0430\", \"\\u0437\\u043e\\u043d\\u0435\", \"\\u0438\\u0434\\u0443\", \"\\u0438\\u0437\", \"\\u0438\\u0437\\u0430\\u044f\\u0432\\u043b\\u0435\\u043d\\u0438\\u0435\", \"\\u0438\\u043d\\u0438\\u0446\\u0438\\u0438\\u0440\\u043e\\u0432\\u0430\\u043d\\u043e\", \"\\u0438\\u043d\\u043a\\u0430\\u0441\\u0441\\u0430\\u0446\\u0438\\u044f\", \"\\u0438\\u043d\\u0441\\u0442\\u0440\\u0443\\u043a\\u0446\\u0438\\u044f\\u043c\", \"\\u0438\\u0441\\u0442\\u043e\\u0440\\u0438\\u044f\", \"\\u0438\\u044e\\u043d\\u044f\", \"\\u043a\\u0430\\u043c\\u0435\\u0440\", \"\\u043a\\u0430\\u0440\\u0442\\u0430\", \"\\u043a\\u0430\\u0440\\u0442\\u0435\", \"\\u043a\\u0430\\u0440\\u0442\\u0443\", \"\\u043a\\u0430\\u0440\\u0442\\u044b\", \"\\u043a\\u0430\\u0441\\u0441\\u0443\", \"\\u043a\\u043e\\u043b\\u0438\\u0447\\u0435\\u0441\\u0442\\u0432\\u043e\", \"\\u043a\\u043e\\u043d\\u0446\\u0435\", \"\\u043a\\u043e\\u043f\\u0435\\u0435\\u043a\", \"\\u043a\\u043e\\u0442\\u043e\\u0440\\u043e\\u0433\\u043e\", \"\\u043a\\u043e\\u0442\\u043e\\u0440\\u043e\\u0439\", \"\\u043a\\u043e\\u0442\\u043e\\u0440\\u043e\\u043c\", \"\\u043c\\u0430\\u0440\\u0442\\u0430\", \"\\u043c\\u0430\\u044f\\u0437\\u0430\\u043a\\u0440\\u044b\\u0432\\u0430\\u0442\\u044c\", \"\\u043c\\u0435\\u043d\\u0435\\u0434\\u0436\\u0435\\u0440\\u0430\", \"\\u043c\\u0435\\u0441\\u044f\\u0446\", \"\\u043c\\u0438\\u043d\\u0443\\u0442\", \"\\u043c\\u043e\\u0433\\u043b\\u0430\", \"\\u043c\\u043e\\u0435\\u043c\\u0443\", \"\\u043c\\u043e\\u0438\", \"\\u043c\\u043e\\u0441\\u043a\\u0432\\u0435\", \"\\u043c\\u043e\\u0441\\u043a\\u0432\\u0443\", \"\\u043d\\u0430\\u0437\\u0432\\u0430\\u043b\", \"\\u043d\\u0430\\u043f\\u0438\\u0441\\u0430\\u043b\", \"\\u043d\\u0435\\u0432\\u043e\\u0437\\u043c\\u043e\\u0436\\u043d\\u043e\", \"\\u043d\\u0435\\u0437\\u0430\\u043a\\u043e\\u043d\\u043d\\u043e\\u0435\", \"\\u043d\\u0435\\u0437\\u0430\\u043f\\u043b\\u0430\\u0447\\u0435\\u043d\\u043d\\u0430\\u044f\", \"\\u043d\\u0435\\u0442\\u0443\", \"\\u043d\\u043e\\u043c\\u0435\\u0440\", \"\\u043e\\u0431\\u0440\\u0430\\u0442\\u0438\\u043b\\u0441\\u044f\", \"\\u043e\\u0434\\u043d\\u0438\", \"\\u043e\\u0434\\u043d\\u0443\", \"\\u043e\\u0436\\u0438\\u0434\\u0430\\u0439\\u0442\\u0435\", \"\\u043e\\u043a\\u043e\\u043b\\u043e\", \"\\u043e\\u043d\\u0438\", \"\\u043e\\u043f\\u0435\\u0440\\u0430\\u0446\\u0438\\u0438\", \"\\u043e\\u043f\\u0435\\u0440\\u0430\\u0446\\u0438\\u044e\", \"\\u043e\\u0441\\u0442\\u0430\\u0442\\u043e\\u043a\", \"\\u043e\\u0442\\u0432\\u0435\\u0442\", \"\\u043e\\u0442\\u0432\\u0435\\u0442\\u0430\", \"\\u043e\\u0442\\u0432\\u0435\\u0447\\u0430\\u043b\", \"\\u043e\\u0442\\u0432\\u0435\\u0447\\u0430\\u044e\\u0442\", \"\\u043e\\u0442\\u0434\\u0435\\u043b\\u0435\\u043d\\u0438\\u0435\", \"\\u043e\\u0442\\u0434\\u0435\\u043b\\u0435\\u043d\\u0438\\u0438\", \"\\u043e\\u0442\\u0440\\u0438\\u0446\\u0430\\u0442\\u0435\\u043b\\u044c\\u043d\\u043e\\u0433\\u043e\", \"\\u043e\\u0447\\u0435\\u043d\\u044c\", \"\\u043e\\u0448\\u0438\\u0431\\u043a\\u0430\", \"\\u043f\\u0435\\u0440\\u0432\\u044b\\u0439\", \"\\u043f\\u0435\\u0440\\u0435\\u0432\\u043e\\u0434\\u0438\\u0442\\u044c\\u0441\\u044f\", \"\\u043f\\u0435\\u0440\\u0435\\u0434\", \"\\u043f\\u0435\\u0440\\u0435\\u0434\\u0430\\u043d\\u0430\", \"\\u043f\\u0435\\u0440\\u0435\\u0437\\u0432\\u043e\\u043d\\u0438\\u043c\", \"\\u043f\\u043b\\u043e\\u0449\\u0430\\u0434\\u044c\", \"\\u043f\\u043e\\u0437\\u0432\\u043e\\u043d\\u0438\\u043b\", \"\\u043f\\u043e\\u043b\\u0443\\u0447\\u0438\\u0442\\u044c\", \"\\u043f\\u043e\\u0441\\u0442\\u043e\\u044f\\u043d\\u043d\\u043e\", \"\\u043f\\u043e\\u0441\\u0442\\u0443\\u043f\\u0438\\u043b\\u0430\", \"\\u043f\\u0440\\u0435\\u0434\\u043e\\u0441\\u0442\\u0430\\u0432\\u0438\\u0442\\u044c\", \"\\u043f\\u0440\\u0438\\u0435\\u0445\\u0430\\u0442\\u044c\", \"\\u043f\\u0440\\u0438\\u043d\\u044f\\u043b\\u0438\", \"\\u043f\\u0440\\u0438\\u0447\\u0438\\u043d\\u0443\", \"\\u043f\\u0440\\u0438\\u0448\\u0435\\u043b\", \"\\u043f\\u0440\\u043e\\u0432\\u0435\\u0434\\u0435\\u043d\\u043e\", \"\\u043f\\u0440\\u043e\\u0432\\u0435\\u0440\\u0438\\u0442\\u044c\", \"\\u043f\\u0440\\u043e\\u0432\\u043e\\u0434\\u0438\\u043b\", \"\\u043f\\u0440\\u043e\\u0441\\u0442\\u043e\", \"\\u043f\\u0440\\u043e\\u0448\\u0435\\u043b\", \"\\u0440\\u0430\\u0437\", \"\\u0440\\u0430\\u0437\\u043c\\u0435\\u0440\\u0435\", \"\\u0440\\u0430\\u043d\\u0435\\u0435\", \"\\u0440\\u0430\\u0441\\u0441\\u043b\\u0435\\u0434\\u043e\\u0432\\u0430\\u043d\\u0438\\u0435\", \"\\u0440\\u0430\\u0441\\u0446\\u0435\\u043d\\u0438\\u0432\\u0430\\u044e\", \"\\u0440\\u0435\\u0437\\u0443\\u043b\\u044c\\u0442\\u0430\\u0442\\u0435\", \"\\u0440\\u0443\\u0431\", \"\\u0441\\u0430\\u043c\\u0430\", \"\\u0441\\u0430\\u043c\\u0438\\u0445\", \"\\u0441\\u0431\\u0435\\u0440\\u0431\\u0430\\u043d\\u043a\\u0430\", \"\\u0441\\u0431\\u043e\\u0438\", \"\\u0441\\u0432\\u0435\\u0440\\u0445\", \"\\u0441\\u0434\\u0435\\u043b\\u0430\\u0442\\u044c\", \"\\u0441\\u0438\\u0442\\u0438\\u0431\\u0430\\u043d\\u043a\\u0430\", \"\\u0441\\u0438\\u0442\\u0438\\u0444\\u043e\\u043d\", \"\\u0441\\u0438\\u0442\\u0443\\u0430\\u0446\\u0438\\u044e\", \"\\u0441\\u043a\\u0430\\u0436\\u0438\\u0442\\u0435\", \"\\u0441\\u043a\\u0430\\u0437\\u0430\\u043b\\u0438\", \"\\u0441\\u043b\\u0435\\u0434\\u043e\\u0432\\u0430\\u0442\\u044c\", \"\\u0441\\u043c\\u043e\\u043b\\u0435\\u043d\\u0441\\u043a\\u0430\\u044f\", \"\\u0441\\u043d\\u043e\\u0432\\u0430\", \"\\u0441\\u043e\\u043e\\u0431\\u0449\\u0430\\u043b\\u043e\\u0441\\u044c\", \"\\u0441\\u043e\\u0441\\u0442\\u043e\\u044f\\u043b\\u0430\\u0441\\u044c\", \"\\u0441\\u043e\\u0442\\u0440\\u0443\\u0434\\u043d\\u0438\\u043a\", \"\\u0441\\u043f\\u0440\\u0430\\u0448\\u0438\\u0432\\u0430\\u044e\", \"\\u0441\\u043f\\u0443\\u0441\\u0442\\u044f\", \"\\u0441\\u0440\\u0435\\u0434\\u043d\\u0435\\u043c\", \"\\u0441\\u0440\\u0435\\u0434\\u0441\\u0442\\u0432\", \"\\u0441\\u0440\\u043e\\u043a\", \"\\u0441\\u0442\\u0430\\u043b\", \"\\u0441\\u0442\\u0430\\u043b\\u043a\\u0438\\u0432\\u0430\\u044e\\u0441\\u044c\", \"\\u0441\\u0442\\u043e\\u044f\\u043b\", \"\\u0441\\u0443\\u043c\\u043c\\u0430\", \"\\u0441\\u0443\\u0442\\u043a\\u0438\", \"\\u0441\\u0447\\u0435\\u0442\", \"\\u0442\\u0430\\u043a\\u0438\\u043c\", \"\\u0442\\u0435\\u0445\\u043d\\u0438\\u0447\\u0435\\u0441\\u043a\\u0430\\u044f\", \"\\u0442\\u0435\\u0445\\u043d\\u0438\\u0447\\u0435\\u0441\\u043a\\u043e\\u0439\", \"\\u0442\\u0435\\u0447\\u0435\\u043d\\u0438\\u0435\", \"\\u0442\\u0438\", \"\\u0443\\u0436\\u0430\\u0441\\u043d\\u043e\", \"\\u0443\\u043d\\u0438\\u0447\\u0442\\u043e\\u0436\\u0435\\u043d\\u0438\\u044f\", \"\\u0444\\u0438\\u0433\\u0430\", \"\\u0447\\u0430\\u0441\\u0430\", \"\\u0447\\u0435\\u0440\\u0435\\u0437\", \"\\u0447\\u0442\\u043e\\u0431\\u044b\", \"\\u044d\\u0442\\u0438\\u043c\", \"\\u044d\\u0442\\u043e\", \"\\u044f\\u0432\\u043b\\u044f\\u044e\\u0441\\u044c\"]}, \"R\": 30, \"lambda.step\": 0.01, \"plot.opts\": {\"xlab\": \"PC1\", \"ylab\": \"PC2\"}, \"topic.order\": [4, 1, 2, 3, 5, 6, 7]};\n",
       "\n",
       "function LDAvis_load_lib(url, callback){\n",
       "  var s = document.createElement('script');\n",
       "  s.src = url;\n",
       "  s.async = true;\n",
       "  s.onreadystatechange = s.onload = callback;\n",
       "  s.onerror = function(){console.warn(\"failed to load library \" + url);};\n",
       "  document.getElementsByTagName(\"head\")[0].appendChild(s);\n",
       "}\n",
       "\n",
       "if(typeof(LDAvis) !== \"undefined\"){\n",
       "   // already loaded: just create the visualization\n",
       "   !function(LDAvis){\n",
       "       new LDAvis(\"#\" + \"ldavis_el224221403570021920324294541404\", ldavis_el224221403570021920324294541404_data);\n",
       "   }(LDAvis);\n",
       "}else if(typeof define === \"function\" && define.amd){\n",
       "   // require.js is available: use it to load d3/LDAvis\n",
       "   require.config({paths: {d3: \"https://d3js.org/d3.v5\"}});\n",
       "   require([\"d3\"], function(d3){\n",
       "      window.d3 = d3;\n",
       "      LDAvis_load_lib(\"https://cdn.jsdelivr.net/gh/bmabey/pyLDAvis@3.2.2/pyLDAvis/js/ldavis.v3.0.0.js\", function(){\n",
       "        new LDAvis(\"#\" + \"ldavis_el224221403570021920324294541404\", ldavis_el224221403570021920324294541404_data);\n",
       "      });\n",
       "    });\n",
       "}else{\n",
       "    // require.js not available: dynamically load d3 & LDAvis\n",
       "    LDAvis_load_lib(\"https://d3js.org/d3.v5.js\", function(){\n",
       "         LDAvis_load_lib(\"https://cdn.jsdelivr.net/gh/bmabey/pyLDAvis@3.2.2/pyLDAvis/js/ldavis.v3.0.0.js\", function(){\n",
       "                 new LDAvis(\"#\" + \"ldavis_el224221403570021920324294541404\", ldavis_el224221403570021920324294541404_data);\n",
       "            })\n",
       "         });\n",
       "}\n",
       "</script>"
      ],
      "text/plain": [
       "PreparedData(topic_coordinates=              x         y  topics  cluster       Freq\n",
       "topic                                                \n",
       "3      0.016416  0.000002       1        1  99.898191\n",
       "0     -0.002681  0.000896       2        1   0.030811\n",
       "1     -0.002148 -0.000144       3        1   0.022042\n",
       "2     -0.000315 -0.000178       4        1   0.017232\n",
       "4     -0.003694 -0.000219       5        1   0.012027\n",
       "5     -0.004199  0.000017       6        1   0.010453\n",
       "6     -0.003379 -0.000374       7        1   0.009244, topic_info=              Term       Freq      Total Category  logprob  loglift\n",
       "32            дней  16.000000  16.000000  Default  30.0000  30.0000\n",
       "224            это  13.000000  13.000000  Default  29.0000  29.0000\n",
       "3             банк  13.000000  13.000000  Default  28.0000  28.0000\n",
       "4            банка  13.000000  13.000000  Default  27.0000  27.0000\n",
       "72           карты  10.000000  10.000000  Default  26.0000  26.0000\n",
       "..             ...        ...        ...      ...      ...      ...\n",
       "122          ответ   0.000391   5.663273   Topic7  -5.3227  -0.2916\n",
       "181        ситифон   0.000387   5.749399   Topic7  -5.3331  -0.3172\n",
       "167  расследование   0.000385   8.325362   Topic7  -5.3390  -0.6932\n",
       "55          звонка   0.000384   8.324455   Topic7  -5.3406  -0.6948\n",
       "32            дней   0.000384  16.157740   Topic7  -5.3409  -1.3583\n",
       "\n",
       "[312 rows x 6 columns], token_table=      Topic      Freq        Term\n",
       "term                             \n",
       "0         1  0.961055       адрес\n",
       "2         1  0.975639      баланс\n",
       "3         1  1.035990        банк\n",
       "4         1  1.031221       банка\n",
       "5         1  0.957184  банковских\n",
       "...     ...       ...         ...\n",
       "221       1  0.992649       через\n",
       "222       1  0.963847       чтобы\n",
       "223       1  0.966277        этим\n",
       "224       1  0.963680         это\n",
       "225       1  0.975320     являюсь\n",
       "\n",
       "[165 rows x 3 columns], R=30, lambda_step=0.01, plot_opts={'xlab': 'PC1', 'ylab': 'PC2'}, topic_order=[4, 1, 2, 3, 5, 6, 7])"
      ]
     },
     "execution_count": 239,
     "metadata": {},
     "output_type": "execute_result"
    }
   ],
   "source": [
    "import pyLDAvis.gensim\n",
    "import pickle \n",
    "import pyLDAvis\n",
    "pyLDAvis.enable_notebook()\n",
    "\n",
    "LDAvis_prepared = pyLDAvis.gensim.prepare(lda_model, corpus, dct)\n",
    "LDAvis_prepared"
   ]
  },
  {
   "cell_type": "markdown",
   "metadata": {},
   "source": [
    "#### Найдите темы, в которых упомянуты конкретные банки (Сбербанк, ВТБ, другой банк)."
   ]
  },
  {
   "cell_type": "code",
   "execution_count": 252,
   "metadata": {},
   "outputs": [
    {
     "name": "stdout",
     "output_type": "stream",
     "text": [
      "Topic: 0 \n",
      "Words: ['результате', 'отвечают', 'расцениваю', 'снова', 'технической', 'камер', 'карты', 'марта', 'получить', 'проводил', 'другую', 'назвал', 'зарплатная', 'было', 'номер', 'банк', 'были', 'история', 'одни', 'прошел', 'руб', 'сверх', 'данные', 'перезвоним', 'пришел', 'карту', 'приняли', 'площадь', 'ожидайте', 'сбербанка']\n",
      "Topic: 1 \n",
      "Words: ['заявления', 'дней', 'средств', 'сбои', 'карте', 'они', 'это', 'моему', 'карты', 'около', 'ужасно', 'заявление', 'ответа', 'камер', 'предоставить', 'сверх', 'баланс', 'адрес', 'звонка', 'незаконное', 'банковских', 'время', 'стоял', 'срок', 'действителен', 'менеджера', 'операцию', 'перед', 'мои', 'сообщалось']\n",
      "Topic: 2 \n",
      "Words: ['это', 'сказали', 'дней', 'банка', 'банк', 'расследование', 'моему', 'около', 'банкомат', 'кассу', 'карты', 'инструкциям', 'чтобы', 'нету', 'ситифон', 'обратился', 'мои', 'технической', 'через', 'ситуацию', 'заверил', 'заявление', 'переводиться', 'результате', 'банком', 'сбои', 'счет', 'этим', 'маязакрывать', 'другую']\n",
      "Topic: 3 \n",
      "Words: ['дней', 'банка', 'банк', 'это', 'счет', 'карты', 'июня', 'заявлению', 'расследование', 'звонка', 'карту', 'сказали', 'моему', 'деньги', 'камер', 'было', 'ситифон', 'первый', 'средств', 'проверить', 'написал', 'отделении', 'раз', 'результате', 'кассу', 'снова', 'сумма', 'позвонил', 'пришел', 'банкомата']\n",
      "Topic: 4 \n",
      "Words: ['приехать', 'инкассация', 'моему', 'являюсь', 'самих', 'просто', 'было', 'банкомат', 'незаплаченная', 'зоне', 'техническая', 'москву', 'данные', 'средств', 'сообщалось', 'отвечал', 'сотрудник', 'причину', 'отделение', 'данных', 'ранее', 'проведено', 'изаявление', 'конце', 'фига', 'марта', 'сказали', 'ездить', 'вашу', 'из']\n",
      "Topic: 5 \n",
      "Words: ['переводиться', 'которой', 'спустя', 'сотрудник', 'чтобы', 'из', 'июня', 'ездить', 'инициировано', 'количество', 'зоне', 'ожидайте', 'менеджера', 'спрашиваю', 'невозможно', 'ответа', 'время', 'копеек', 'постоянно', 'марта', 'передана', 'история', 'технической', 'вопиющим', 'очень', 'иду', 'одну', 'следовать', 'таким', 'перезвоним']\n",
      "Topic: 6 \n",
      "Words: ['являюсь', 'москве', 'карта', 'марта', 'моему', 'будем', 'смоленская', 'могла', 'сутки', 'одну', 'отвечают', 'проверить', 'зарплата', 'остаток', 'заверил', 'из', 'часа', 'деньги', 'спустя', 'ездить', 'ответ', 'размере', 'иду', 'сама', 'ситифон', 'расследование', 'количество', 'звонка', 'дней', 'уничтожения']\n"
     ]
    }
   ],
   "source": [
    "for index, topic in lda_model.show_topics(formatted=False, num_words= 30):\n",
    "    topics = [w[0] for w in topic]\n",
    "    if  'Сбербанк' or 'банк' or 'ВТБ' in topics:\n",
    "        print('Topic: {} \\nWords: {}'.format(index, topics))"
   ]
  },
  {
   "cell_type": "markdown",
   "metadata": {},
   "source": [
    "## Классификация текстов"
   ]
  },
  {
   "cell_type": "markdown",
   "metadata": {},
   "source": [
    "Сформулируем для простоты задачу бинарной классификации: будем классифицировать на два класса, то есть, различать резко отрицательные отзывы (с оценкой 1) и положительные отзывы (с оценкой 5)"
   ]
  },
  {
   "cell_type": "code",
   "execution_count": 7,
   "metadata": {},
   "outputs": [],
   "source": [
    "from sklearn.pipeline import Pipeline\n",
    "from sklearn.ensemble import RandomForestClassifier\n",
    "from sklearn.model_selection import train_test_split\n",
    "from sklearn.feature_extraction.text import CountVectorizer, TfidfTransformer\n",
    "from sklearn.metrics import accuracy_score, f1_score"
   ]
  },
  {
   "cell_type": "code",
   "execution_count": 9,
   "metadata": {},
   "outputs": [],
   "source": [
    "data_rating = data[data.rating_grade==1.0].append(data[data.rating_grade==5.0])"
   ]
  },
  {
   "cell_type": "code",
   "execution_count": 115,
   "metadata": {},
   "outputs": [
    {
     "data": {
      "text/html": [
       "<div>\n",
       "<style scoped>\n",
       "    .dataframe tbody tr th:only-of-type {\n",
       "        vertical-align: middle;\n",
       "    }\n",
       "\n",
       "    .dataframe tbody tr th {\n",
       "        vertical-align: top;\n",
       "    }\n",
       "\n",
       "    .dataframe thead th {\n",
       "        text-align: right;\n",
       "    }\n",
       "</style>\n",
       "<table border=\"1\" class=\"dataframe\">\n",
       "  <thead>\n",
       "    <tr style=\"text-align: right;\">\n",
       "      <th></th>\n",
       "      <th>city</th>\n",
       "      <th>rating_not_checked</th>\n",
       "      <th>title</th>\n",
       "      <th>num_comments</th>\n",
       "      <th>bank_license</th>\n",
       "      <th>author</th>\n",
       "      <th>bank_name</th>\n",
       "      <th>datetime</th>\n",
       "      <th>text</th>\n",
       "      <th>rating_grade</th>\n",
       "    </tr>\n",
       "  </thead>\n",
       "  <tbody>\n",
       "    <tr>\n",
       "      <th>3</th>\n",
       "      <td>г. Москва</td>\n",
       "      <td>True</td>\n",
       "      <td>Банкомат не зачислил деньги на счет</td>\n",
       "      <td>1</td>\n",
       "      <td>лицензия № 2557</td>\n",
       "      <td>dolgov.work</td>\n",
       "      <td>Ситибанк</td>\n",
       "      <td>2015-06-07 19:22:00</td>\n",
       "      <td>1 июня 2015 в Москве в отделении по адресу Смо...</td>\n",
       "      <td>1.0</td>\n",
       "    </tr>\n",
       "    <tr>\n",
       "      <th>4</th>\n",
       "      <td>г. Волгоград</td>\n",
       "      <td>True</td>\n",
       "      <td>Невозможно закрыть карту 2(два)!!!</td>\n",
       "      <td>0</td>\n",
       "      <td>лицензия № 3354</td>\n",
       "      <td>copLine</td>\n",
       "      <td>Ренессанс Кредит</td>\n",
       "      <td>2015-06-08 14:54:55</td>\n",
       "      <td>История очень долгая! Пришел я в банк (это раз...</td>\n",
       "      <td>1.0</td>\n",
       "    </tr>\n",
       "    <tr>\n",
       "      <th>10</th>\n",
       "      <td>г. Ижевск</td>\n",
       "      <td>True</td>\n",
       "      <td>Изменилась сумма оплата</td>\n",
       "      <td>1</td>\n",
       "      <td>лицензия № 1745</td>\n",
       "      <td>hi979</td>\n",
       "      <td>БыстроБанк</td>\n",
       "      <td>2015-06-05 22:25:49</td>\n",
       "      <td>В ИнтерБыстробанке удобно оплачивать ком. плат...</td>\n",
       "      <td>1.0</td>\n",
       "    </tr>\n",
       "    <tr>\n",
       "      <th>12</th>\n",
       "      <td>г. Москва</td>\n",
       "      <td>True</td>\n",
       "      <td>к ответу на обращение от 03.06.2015 г.</td>\n",
       "      <td>0</td>\n",
       "      <td>лицензия № 1460</td>\n",
       "      <td>ya.vnik.s</td>\n",
       "      <td>Восточный Экспресс Банк</td>\n",
       "      <td>2015-06-05 20:09:39</td>\n",
       "      <td>Вы хотя бы читали что пишут те, кому вы обязан...</td>\n",
       "      <td>1.0</td>\n",
       "    </tr>\n",
       "    <tr>\n",
       "      <th>13</th>\n",
       "      <td>г. Москва</td>\n",
       "      <td>True</td>\n",
       "      <td>Сбербанк - как всегда нижняя планка</td>\n",
       "      <td>2</td>\n",
       "      <td>лицензия № 1481</td>\n",
       "      <td>fourty</td>\n",
       "      <td>Сбербанк России</td>\n",
       "      <td>2015-06-05 18:15:45</td>\n",
       "      <td>Здравствуйте. Сразу скажу что отношение к сбер...</td>\n",
       "      <td>1.0</td>\n",
       "    </tr>\n",
       "    <tr>\n",
       "      <th>...</th>\n",
       "      <td>...</td>\n",
       "      <td>...</td>\n",
       "      <td>...</td>\n",
       "      <td>...</td>\n",
       "      <td>...</td>\n",
       "      <td>...</td>\n",
       "      <td>...</td>\n",
       "      <td>...</td>\n",
       "      <td>...</td>\n",
       "      <td>...</td>\n",
       "    </tr>\n",
       "    <tr>\n",
       "      <th>201019</th>\n",
       "      <td>None</td>\n",
       "      <td>False</td>\n",
       "      <td>Повысилось качество обслуживания</td>\n",
       "      <td>0</td>\n",
       "      <td>лицензия № 1623</td>\n",
       "      <td>Атмос</td>\n",
       "      <td>ВТБ 24</td>\n",
       "      <td>2005-04-13 12:00:00</td>\n",
       "      <td>Пользуюсь банком 3 месяца - специально открыл ...</td>\n",
       "      <td>5.0</td>\n",
       "    </tr>\n",
       "    <tr>\n",
       "      <th>201020</th>\n",
       "      <td>None</td>\n",
       "      <td>False</td>\n",
       "      <td>Стабильный банк с высокими процентами</td>\n",
       "      <td>0</td>\n",
       "      <td>лицензия № 1971</td>\n",
       "      <td>Александра</td>\n",
       "      <td>Ханты-Мансийский банк Открытие</td>\n",
       "      <td>2005-04-14 13:41:00</td>\n",
       "      <td>А что писать? Ставки по вкладам высокие (до 13...</td>\n",
       "      <td>5.0</td>\n",
       "    </tr>\n",
       "    <tr>\n",
       "      <th>201022</th>\n",
       "      <td>None</td>\n",
       "      <td>False</td>\n",
       "      <td>Ну тогда копите денюжки и покупайте не в креди...</td>\n",
       "      <td>4</td>\n",
       "      <td>лицензия № 2289</td>\n",
       "      <td>irzik</td>\n",
       "      <td>Русский Стандарт</td>\n",
       "      <td>2005-04-14 17:42:00</td>\n",
       "      <td>А я с мужем обставила техникой совершенно нову...</td>\n",
       "      <td>5.0</td>\n",
       "    </tr>\n",
       "    <tr>\n",
       "      <th>201025</th>\n",
       "      <td>None</td>\n",
       "      <td>False</td>\n",
       "      <td>Не все так страшно</td>\n",
       "      <td>0</td>\n",
       "      <td>лицензия № 2557</td>\n",
       "      <td>Вера</td>\n",
       "      <td>Ситибанк</td>\n",
       "      <td>2005-05-18 14:38:00</td>\n",
       "      <td>Слишком большой банк, не всегда учитывает нашу...</td>\n",
       "      <td>5.0</td>\n",
       "    </tr>\n",
       "    <tr>\n",
       "      <th>201029</th>\n",
       "      <td>None</td>\n",
       "      <td>False</td>\n",
       "      <td>Быстро и удобно</td>\n",
       "      <td>0</td>\n",
       "      <td>лицензия № 1326</td>\n",
       "      <td>Денис</td>\n",
       "      <td>Альфа-Банк</td>\n",
       "      <td>2005-04-13 17:43:00</td>\n",
       "      <td>Если коротко, то мне нравится. Кридит получать...</td>\n",
       "      <td>5.0</td>\n",
       "    </tr>\n",
       "  </tbody>\n",
       "</table>\n",
       "<p>99022 rows × 10 columns</p>\n",
       "</div>"
      ],
      "text/plain": [
       "                city  rating_not_checked  \\\n",
       "3          г. Москва                True   \n",
       "4       г. Волгоград                True   \n",
       "10         г. Ижевск                True   \n",
       "12         г. Москва                True   \n",
       "13         г. Москва                True   \n",
       "...              ...                 ...   \n",
       "201019          None               False   \n",
       "201020          None               False   \n",
       "201022          None               False   \n",
       "201025          None               False   \n",
       "201029          None               False   \n",
       "\n",
       "                                                    title  num_comments  \\\n",
       "3                     Банкомат не зачислил деньги на счет             1   \n",
       "4                      Невозможно закрыть карту 2(два)!!!             0   \n",
       "10                                Изменилась сумма оплата             1   \n",
       "12                 к ответу на обращение от 03.06.2015 г.             0   \n",
       "13                    Сбербанк - как всегда нижняя планка             2   \n",
       "...                                                   ...           ...   \n",
       "201019                   Повысилось качество обслуживания             0   \n",
       "201020              Стабильный банк с высокими процентами             0   \n",
       "201022  Ну тогда копите денюжки и покупайте не в креди...             4   \n",
       "201025                                 Не все так страшно             0   \n",
       "201029                                    Быстро и удобно             0   \n",
       "\n",
       "           bank_license       author                       bank_name  \\\n",
       "3       лицензия № 2557  dolgov.work                        Ситибанк   \n",
       "4       лицензия № 3354      copLine                Ренессанс Кредит   \n",
       "10      лицензия № 1745        hi979                      БыстроБанк   \n",
       "12      лицензия № 1460    ya.vnik.s         Восточный Экспресс Банк   \n",
       "13      лицензия № 1481       fourty                 Сбербанк России   \n",
       "...                 ...          ...                             ...   \n",
       "201019  лицензия № 1623        Атмос                          ВТБ 24   \n",
       "201020  лицензия № 1971   Александра  Ханты-Мансийский банк Открытие   \n",
       "201022  лицензия № 2289        irzik                Русский Стандарт   \n",
       "201025  лицензия № 2557         Вера                        Ситибанк   \n",
       "201029  лицензия № 1326        Денис                      Альфа-Банк   \n",
       "\n",
       "                  datetime                                               text  \\\n",
       "3      2015-06-07 19:22:00  1 июня 2015 в Москве в отделении по адресу Смо...   \n",
       "4      2015-06-08 14:54:55  История очень долгая! Пришел я в банк (это раз...   \n",
       "10     2015-06-05 22:25:49  В ИнтерБыстробанке удобно оплачивать ком. плат...   \n",
       "12     2015-06-05 20:09:39  Вы хотя бы читали что пишут те, кому вы обязан...   \n",
       "13     2015-06-05 18:15:45  Здравствуйте. Сразу скажу что отношение к сбер...   \n",
       "...                    ...                                                ...   \n",
       "201019 2005-04-13 12:00:00  Пользуюсь банком 3 месяца - специально открыл ...   \n",
       "201020 2005-04-14 13:41:00  А что писать? Ставки по вкладам высокие (до 13...   \n",
       "201022 2005-04-14 17:42:00  А я с мужем обставила техникой совершенно нову...   \n",
       "201025 2005-05-18 14:38:00  Слишком большой банк, не всегда учитывает нашу...   \n",
       "201029 2005-04-13 17:43:00  Если коротко, то мне нравится. Кридит получать...   \n",
       "\n",
       "        rating_grade  \n",
       "3                1.0  \n",
       "4                1.0  \n",
       "10               1.0  \n",
       "12               1.0  \n",
       "13               1.0  \n",
       "...              ...  \n",
       "201019           5.0  \n",
       "201020           5.0  \n",
       "201022           5.0  \n",
       "201025           5.0  \n",
       "201029           5.0  \n",
       "\n",
       "[99022 rows x 10 columns]"
      ]
     },
     "execution_count": 115,
     "metadata": {},
     "output_type": "execute_result"
    }
   ],
   "source": [
    "data_rating"
   ]
  },
  {
   "cell_type": "markdown",
   "metadata": {},
   "source": [
    "**Составьте обучающее и тестовое множество**"
   ]
  },
  {
   "cell_type": "code",
   "execution_count": 116,
   "metadata": {},
   "outputs": [
    {
     "data": {
      "text/plain": [
       "Pipeline(steps=[('vect', CountVectorizer()), ('tfidf', TfidfTransformer()),\n",
       "                ('tm', TruncatedSVD(n_components=20)),\n",
       "                ('clf', RandomForestClassifier(max_depth=20))])"
      ]
     },
     "execution_count": 116,
     "metadata": {},
     "output_type": "execute_result"
    }
   ],
   "source": [
    "X = data_rating['text']\n",
    "y = data_rating['rating_grade']\n",
    "\n",
    "X_train, X_test, y_train, y_test = train_test_split(X, y, test_size=0.2)\n",
    "    \n",
    "# !!! На каждом этапе Pipeline нужно указать свои параметры\n",
    "# 1-ый вариант: tf-idf + LSI\n",
    "# 2-ой вариант: LDA\n",
    "\n",
    "clf = Pipeline([ \n",
    "    ('vect', CountVectorizer()), \n",
    "    ('tfidf', TfidfTransformer()), \n",
    "    ('tm', TruncatedSVD(n_components=20)), \n",
    "    ('clf', RandomForestClassifier(max_depth=20))\n",
    "])\n",
    "\n",
    "clf.fit(X_train, y_train)"
   ]
  },
  {
   "cell_type": "markdown",
   "metadata": {},
   "source": [
    "**Используйте любой известный вам алгоритм классификации текстов для решения задачи и получите baseline. Сравните разные варианты векторизации текста: использование только униграм, пар или троек слов или с использованием символьных $n$-грам.**"
   ]
  },
  {
   "cell_type": "code",
   "execution_count": 118,
   "metadata": {},
   "outputs": [
    {
     "name": "stdout",
     "output_type": "stream",
     "text": [
      "Accuracy:  0.9285029033072456\n",
      "F1:  0.9522589345920431\n"
     ]
    }
   ],
   "source": [
    "y_pred = clf.predict(X_test)\n",
    "\n",
    "print('Accuracy: ', accuracy_score(y_test, y_pred))\n",
    "print('F1: ', f1_score(y_test, y_pred))"
   ]
  },
  {
   "cell_type": "code",
   "execution_count": 119,
   "metadata": {},
   "outputs": [
    {
     "name": "stdout",
     "output_type": "stream",
     "text": [
      "Accuracy:  0.9210300429184549\n",
      "F1:  0.94735070356157\n"
     ]
    }
   ],
   "source": [
    "#биграмы\n",
    "\n",
    "clf = Pipeline([ \n",
    "    ('vect', CountVectorizer(ngram_range=(2,2))), \n",
    "    ('tfidf', TfidfTransformer()), \n",
    "    ('tm', TruncatedSVD(n_components=20)), \n",
    "    ('clf', RandomForestClassifier(max_depth=20))\n",
    "])\n",
    "\n",
    "clf.fit(X_train, y_train)\n",
    "\n",
    "y_pred = clf.predict(X_test)\n",
    "\n",
    "print('Accuracy: ', accuracy_score(y_test, y_pred))\n",
    "print('F1: ', f1_score(y_test, y_pred))"
   ]
  },
  {
   "cell_type": "code",
   "execution_count": 120,
   "metadata": {},
   "outputs": [
    {
     "name": "stdout",
     "output_type": "stream",
     "text": [
      "Accuracy:  0.8860388790709417\n",
      "F1:  0.9249842124505602\n"
     ]
    }
   ],
   "source": [
    "#триграмы\n",
    "\n",
    "clf = Pipeline([ \n",
    "    ('vect', CountVectorizer(ngram_range=(3,3))), \n",
    "    ('tfidf', TfidfTransformer()), \n",
    "    ('tm', TruncatedSVD(n_components=20)), \n",
    "    ('clf', RandomForestClassifier(max_depth=20))\n",
    "])\n",
    "\n",
    "clf.fit(X_train, y_train)\n",
    "\n",
    "y_pred = clf.predict(X_test)\n",
    "\n",
    "print('Accuracy: ', accuracy_score(y_test, y_pred))\n",
    "print('F1: ', f1_score(y_test, y_pred))"
   ]
  },
  {
   "cell_type": "code",
   "execution_count": 121,
   "metadata": {},
   "outputs": [
    {
     "name": "stdout",
     "output_type": "stream",
     "text": [
      "Accuracy:  0.9271901035092148\n",
      "F1:  0.9513692162417374\n"
     ]
    }
   ],
   "source": [
    "#униграмы\n",
    "\n",
    "clf = Pipeline([ \n",
    "    ('vect', CountVectorizer(ngram_range=(1,1))), \n",
    "    ('tfidf', TfidfTransformer()), \n",
    "    ('tm', TruncatedSVD(n_components=20)), \n",
    "    ('clf', RandomForestClassifier(max_depth=20))\n",
    "])\n",
    "\n",
    "clf.fit(X_train, y_train)\n",
    "\n",
    "y_pred = clf.predict(X_test)\n",
    "\n",
    "print('Accuracy: ', accuracy_score(y_test, y_pred))\n",
    "print('F1: ', f1_score(y_test, y_pred))"
   ]
  },
  {
   "cell_type": "markdown",
   "metadata": {},
   "source": [
    "Униграммы лучше всех"
   ]
  },
  {
   "cell_type": "code",
   "execution_count": 122,
   "metadata": {
    "scrolled": true
   },
   "outputs": [
    {
     "name": "stdout",
     "output_type": "stream",
     "text": [
      "Accuracy:  0.8210047967684928\n",
      "F1:  0.8852490855533616\n"
     ]
    }
   ],
   "source": [
    "#символы\n",
    "\n",
    "clf = Pipeline([ \n",
    "    ('vect', CountVectorizer(analyzer = 'char')), \n",
    "    ('tfidf', TfidfTransformer()), \n",
    "    ('tm', TruncatedSVD(n_components=20)), \n",
    "    ('clf', RandomForestClassifier(max_depth=20))\n",
    "])\n",
    "\n",
    "clf.fit(X_train, y_train)\n",
    "\n",
    "y_pred = clf.predict(X_test)\n",
    "\n",
    "print('Accuracy: ', accuracy_score(y_test, y_pred))\n",
    "print('F1: ', f1_score(y_test, y_pred))"
   ]
  },
  {
   "cell_type": "markdown",
   "metadata": {},
   "source": [
    "#### Сравните, как изменяется качество решения задачи при использовании скрытых тем в качестве признаков. LDA."
   ]
  },
  {
   "cell_type": "markdown",
   "metadata": {},
   "source": [
    "Иногда, распределения над темами, найденные с помощью LDA, добавляют в матрицу объекты-признаки как дополнительные, семантические, признаки, и это может улучшить качество решения задачи."
   ]
  },
  {
   "cell_type": "code",
   "execution_count": 236,
   "metadata": {},
   "outputs": [
    {
     "data": {
      "text/plain": [
       "3         1 июня 2015 в Москве в отделении по адресу Смо...\n",
       "4         История очень долгая! Пришел я в банк (это раз...\n",
       "10        В ИнтерБыстробанке удобно оплачивать ком. плат...\n",
       "12        Вы хотя бы читали что пишут те, кому вы обязан...\n",
       "13        Здравствуйте. Сразу скажу что отношение к сбер...\n",
       "                                ...                        \n",
       "201019    Пользуюсь банком 3 месяца - специально открыл ...\n",
       "201020    А что писать? Ставки по вкладам высокие (до 13...\n",
       "201022    А я с мужем обставила техникой совершенно нову...\n",
       "201025    Слишком большой банк, не всегда учитывает нашу...\n",
       "201029    Если коротко, то мне нравится. Кридит получать...\n",
       "Name: text, Length: 99022, dtype: object"
      ]
     },
     "execution_count": 236,
     "metadata": {},
     "output_type": "execute_result"
    }
   ],
   "source": [
    "data_rating['text']"
   ]
  },
  {
   "cell_type": "code",
   "execution_count": 237,
   "metadata": {},
   "outputs": [
    {
     "data": {
      "text/plain": [
       "3         1.0\n",
       "4         1.0\n",
       "10        1.0\n",
       "12        1.0\n",
       "13        1.0\n",
       "         ... \n",
       "201019    5.0\n",
       "201020    5.0\n",
       "201022    5.0\n",
       "201025    5.0\n",
       "201029    5.0\n",
       "Name: rating_grade, Length: 99022, dtype: float64"
      ]
     },
     "execution_count": 237,
     "metadata": {},
     "output_type": "execute_result"
    }
   ],
   "source": [
    "data_rating['rating_grade']"
   ]
  },
  {
   "cell_type": "code",
   "execution_count": 241,
   "metadata": {},
   "outputs": [],
   "source": [
    "data_rating_shuffle = data_rating.sample(frac = 1)"
   ]
  },
  {
   "cell_type": "code",
   "execution_count": 242,
   "metadata": {},
   "outputs": [
    {
     "data": {
      "text/html": [
       "<div>\n",
       "<style scoped>\n",
       "    .dataframe tbody tr th:only-of-type {\n",
       "        vertical-align: middle;\n",
       "    }\n",
       "\n",
       "    .dataframe tbody tr th {\n",
       "        vertical-align: top;\n",
       "    }\n",
       "\n",
       "    .dataframe thead th {\n",
       "        text-align: right;\n",
       "    }\n",
       "</style>\n",
       "<table border=\"1\" class=\"dataframe\">\n",
       "  <thead>\n",
       "    <tr style=\"text-align: right;\">\n",
       "      <th></th>\n",
       "      <th>city</th>\n",
       "      <th>rating_not_checked</th>\n",
       "      <th>title</th>\n",
       "      <th>num_comments</th>\n",
       "      <th>bank_license</th>\n",
       "      <th>author</th>\n",
       "      <th>bank_name</th>\n",
       "      <th>datetime</th>\n",
       "      <th>text</th>\n",
       "      <th>rating_grade</th>\n",
       "    </tr>\n",
       "  </thead>\n",
       "  <tbody>\n",
       "    <tr>\n",
       "      <th>0</th>\n",
       "      <td>г. Московская область</td>\n",
       "      <td>True</td>\n",
       "      <td>Благодарность</td>\n",
       "      <td>0</td>\n",
       "      <td>лицензия № 1978</td>\n",
       "      <td>Громов</td>\n",
       "      <td>Московский Кредитный Банк</td>\n",
       "      <td>2011-10-09 21:16:00</td>\n",
       "      <td>Выражаю признательность сотрудникам отделения ...</td>\n",
       "      <td>5.0</td>\n",
       "    </tr>\n",
       "    <tr>\n",
       "      <th>1</th>\n",
       "      <td>г. Санкт-Петербург</td>\n",
       "      <td>True</td>\n",
       "      <td>Чёрный список</td>\n",
       "      <td>5</td>\n",
       "      <td>лицензия № 625 (отозвана 26.11.2014)</td>\n",
       "      <td>2.nastena</td>\n",
       "      <td>2Т Банк</td>\n",
       "      <td>2013-06-03 17:53:00</td>\n",
       "      <td>Уже несколько лет использую вклады для хранени...</td>\n",
       "      <td>1.0</td>\n",
       "    </tr>\n",
       "    <tr>\n",
       "      <th>2</th>\n",
       "      <td>г. Липецк</td>\n",
       "      <td>False</td>\n",
       "      <td>Лояльный банк</td>\n",
       "      <td>0</td>\n",
       "      <td>лицензия № 2673</td>\n",
       "      <td>intol</td>\n",
       "      <td>Тинькофф Банк</td>\n",
       "      <td>2014-12-21 13:45:00</td>\n",
       "      <td>На данный момент я с удовольствием пользуюсь п...</td>\n",
       "      <td>5.0</td>\n",
       "    </tr>\n",
       "    <tr>\n",
       "      <th>3</th>\n",
       "      <td>г. Москва</td>\n",
       "      <td>True</td>\n",
       "      <td>Благодарность</td>\n",
       "      <td>0</td>\n",
       "      <td>лицензия № 1481</td>\n",
       "      <td>Irina.P.</td>\n",
       "      <td>Сбербанк России</td>\n",
       "      <td>2015-05-29 10:07:50</td>\n",
       "      <td>Хочу выразить слова благодарности и поставить ...</td>\n",
       "      <td>5.0</td>\n",
       "    </tr>\n",
       "    <tr>\n",
       "      <th>4</th>\n",
       "      <td>г. Иваново</td>\n",
       "      <td>True</td>\n",
       "      <td>Пропали деньги</td>\n",
       "      <td>0</td>\n",
       "      <td>лицензия № 3408</td>\n",
       "      <td>ssv21</td>\n",
       "      <td>Смартбанк</td>\n",
       "      <td>2014-03-03 10:37:00</td>\n",
       "      <td>Положил деньги на счет ЗАО \"СМАРТБАНК\" ИНН 500...</td>\n",
       "      <td>1.0</td>\n",
       "    </tr>\n",
       "    <tr>\n",
       "      <th>...</th>\n",
       "      <td>...</td>\n",
       "      <td>...</td>\n",
       "      <td>...</td>\n",
       "      <td>...</td>\n",
       "      <td>...</td>\n",
       "      <td>...</td>\n",
       "      <td>...</td>\n",
       "      <td>...</td>\n",
       "      <td>...</td>\n",
       "      <td>...</td>\n",
       "    </tr>\n",
       "    <tr>\n",
       "      <th>995</th>\n",
       "      <td>None</td>\n",
       "      <td>False</td>\n",
       "      <td>Валюта</td>\n",
       "      <td>1</td>\n",
       "      <td>лицензия № 1470</td>\n",
       "      <td>Ро</td>\n",
       "      <td>Связь-Банк</td>\n",
       "      <td>2005-10-06 17:43:00</td>\n",
       "      <td>в банкоматах невозможно снять иностранную валю...</td>\n",
       "      <td>1.0</td>\n",
       "    </tr>\n",
       "    <tr>\n",
       "      <th>996</th>\n",
       "      <td>None</td>\n",
       "      <td>False</td>\n",
       "      <td>Консультация по телефону в этом банке бесполезна!</td>\n",
       "      <td>18</td>\n",
       "      <td>лицензия № 2557</td>\n",
       "      <td>Saldo</td>\n",
       "      <td>Ситибанк</td>\n",
       "      <td>2008-07-31 09:41:00</td>\n",
       "      <td>Некоторое время назад решил оформить кредитную...</td>\n",
       "      <td>1.0</td>\n",
       "    </tr>\n",
       "    <tr>\n",
       "      <th>997</th>\n",
       "      <td>г. Москва</td>\n",
       "      <td>True</td>\n",
       "      <td>ДО \"Маросейка\"</td>\n",
       "      <td>0</td>\n",
       "      <td>лицензия № 3365</td>\n",
       "      <td>dasha_88</td>\n",
       "      <td>Москоммерцбанк</td>\n",
       "      <td>2014-02-17 17:35:00</td>\n",
       "      <td>14 февраля обратилась в отделение Москоммерцба...</td>\n",
       "      <td>5.0</td>\n",
       "    </tr>\n",
       "    <tr>\n",
       "      <th>998</th>\n",
       "      <td>г. москва</td>\n",
       "      <td>True</td>\n",
       "      <td>Опять приятный сюрприз от Райффайзенбанка</td>\n",
       "      <td>0</td>\n",
       "      <td>лицензия № 3292</td>\n",
       "      <td>aiia11</td>\n",
       "      <td>Райффайзенбанк</td>\n",
       "      <td>2013-06-19 21:04:00</td>\n",
       "      <td>Хотя  мой предыдущий отзыв не засчитали  - я п...</td>\n",
       "      <td>5.0</td>\n",
       "    </tr>\n",
       "    <tr>\n",
       "      <th>999</th>\n",
       "      <td>г. москва</td>\n",
       "      <td>False</td>\n",
       "      <td>Ужасный банк</td>\n",
       "      <td>2</td>\n",
       "      <td>лицензия № 1326</td>\n",
       "      <td>Armen1</td>\n",
       "      <td>Альфа-Банк</td>\n",
       "      <td>2013-09-19 19:03:00</td>\n",
       "      <td>Альфа банк, я дважды утвердился в вашей отврат...</td>\n",
       "      <td>1.0</td>\n",
       "    </tr>\n",
       "  </tbody>\n",
       "</table>\n",
       "<p>1000 rows × 10 columns</p>\n",
       "</div>"
      ],
      "text/plain": [
       "                      city  rating_not_checked  \\\n",
       "0    г. Московская область                True   \n",
       "1       г. Санкт-Петербург                True   \n",
       "2                г. Липецк               False   \n",
       "3                г. Москва                True   \n",
       "4               г. Иваново                True   \n",
       "..                     ...                 ...   \n",
       "995                   None               False   \n",
       "996                   None               False   \n",
       "997              г. Москва                True   \n",
       "998              г. москва                True   \n",
       "999              г. москва               False   \n",
       "\n",
       "                                                 title  num_comments  \\\n",
       "0                                        Благодарность             0   \n",
       "1                                        Чёрный список             5   \n",
       "2                                        Лояльный банк             0   \n",
       "3                                        Благодарность             0   \n",
       "4                                       Пропали деньги             0   \n",
       "..                                                 ...           ...   \n",
       "995                                             Валюта             1   \n",
       "996  Консультация по телефону в этом банке бесполезна!            18   \n",
       "997                                     ДО \"Маросейка\"             0   \n",
       "998          Опять приятный сюрприз от Райффайзенбанка             0   \n",
       "999                                       Ужасный банк             2   \n",
       "\n",
       "                             bank_license     author  \\\n",
       "0                         лицензия № 1978     Громов   \n",
       "1    лицензия № 625 (отозвана 26.11.2014)  2.nastena   \n",
       "2                         лицензия № 2673      intol   \n",
       "3                         лицензия № 1481   Irina.P.   \n",
       "4                         лицензия № 3408      ssv21   \n",
       "..                                    ...        ...   \n",
       "995                       лицензия № 1470         Ро   \n",
       "996                       лицензия № 2557      Saldo   \n",
       "997                       лицензия № 3365   dasha_88   \n",
       "998                       лицензия № 3292     aiia11   \n",
       "999                       лицензия № 1326     Armen1   \n",
       "\n",
       "                     bank_name            datetime  \\\n",
       "0    Московский Кредитный Банк 2011-10-09 21:16:00   \n",
       "1                      2Т Банк 2013-06-03 17:53:00   \n",
       "2                Тинькофф Банк 2014-12-21 13:45:00   \n",
       "3              Сбербанк России 2015-05-29 10:07:50   \n",
       "4                    Смартбанк 2014-03-03 10:37:00   \n",
       "..                         ...                 ...   \n",
       "995                 Связь-Банк 2005-10-06 17:43:00   \n",
       "996                   Ситибанк 2008-07-31 09:41:00   \n",
       "997             Москоммерцбанк 2014-02-17 17:35:00   \n",
       "998             Райффайзенбанк 2013-06-19 21:04:00   \n",
       "999                 Альфа-Банк 2013-09-19 19:03:00   \n",
       "\n",
       "                                                  text  rating_grade  \n",
       "0    Выражаю признательность сотрудникам отделения ...           5.0  \n",
       "1    Уже несколько лет использую вклады для хранени...           1.0  \n",
       "2    На данный момент я с удовольствием пользуюсь п...           5.0  \n",
       "3    Хочу выразить слова благодарности и поставить ...           5.0  \n",
       "4    Положил деньги на счет ЗАО \"СМАРТБАНК\" ИНН 500...           1.0  \n",
       "..                                                 ...           ...  \n",
       "995  в банкоматах невозможно снять иностранную валю...           1.0  \n",
       "996  Некоторое время назад решил оформить кредитную...           1.0  \n",
       "997  14 февраля обратилась в отделение Москоммерцба...           5.0  \n",
       "998  Хотя  мой предыдущий отзыв не засчитали  - я п...           5.0  \n",
       "999  Альфа банк, я дважды утвердился в вашей отврат...           1.0  \n",
       "\n",
       "[1000 rows x 10 columns]"
      ]
     },
     "execution_count": 242,
     "metadata": {},
     "output_type": "execute_result"
    }
   ],
   "source": [
    "data_rating_shuffle = data_rating_shuffle[:1000].reset_index().drop(['index'], axis=1)\n",
    "data_rating_shuffle"
   ]
  },
  {
   "cell_type": "code",
   "execution_count": 243,
   "metadata": {},
   "outputs": [
    {
     "data": {
      "text/plain": [
       "0      5.0\n",
       "1      1.0\n",
       "2      5.0\n",
       "3      5.0\n",
       "4      1.0\n",
       "      ... \n",
       "995    1.0\n",
       "996    1.0\n",
       "997    5.0\n",
       "998    5.0\n",
       "999    1.0\n",
       "Name: rating_grade, Length: 1000, dtype: float64"
      ]
     },
     "execution_count": 243,
     "metadata": {},
     "output_type": "execute_result"
    }
   ],
   "source": [
    "data_rating_shuffle['rating_grade']"
   ]
  },
  {
   "cell_type": "code",
   "execution_count": 244,
   "metadata": {},
   "outputs": [],
   "source": [
    "#будем предсказывать рейтинг\n",
    "y = data_rating_shuffle['rating_grade'].values"
   ]
  },
  {
   "cell_type": "code",
   "execution_count": 245,
   "metadata": {},
   "outputs": [],
   "source": [
    "# Токенизируем документы в слова\n",
    "texts = [[text for text in doc.split()] for doc in data_rating_shuffle['text']]"
   ]
  },
  {
   "cell_type": "code",
   "execution_count": 246,
   "metadata": {},
   "outputs": [],
   "source": [
    "#очистим и лемматизируем\n",
    "from gensim.utils import lemmatize\n",
    "import re\n",
    "\n",
    "data_processed = []\n",
    "doc_out = []\n",
    "\n",
    "for text in texts:\n",
    "    for wd in text:\n",
    "        if wd not in list(stop_words):  # удалим stopwords\n",
    "            lemmatized_word = lemmatize(wd, allowed_tags=re.compile('(NN|JJ|RB)'))  # лемматизируем\n",
    "            if lemmatized_word:\n",
    "                doc_out = doc_out + [lemmatized_word[0].split(b'/')[0].decode('utf-8')]\n",
    "        else:\n",
    "            continue\n",
    "data_processed.append(doc_out)"
   ]
  },
  {
   "cell_type": "code",
   "execution_count": 247,
   "metadata": {},
   "outputs": [],
   "source": [
    "from gensim import corpora\n",
    "\n",
    "#сформируем корпуса и словарь\n",
    "dictionary = corpora.Dictionary(texts)\n",
    "corpus = [dictionary.doc2bow(line) for line in texts]"
   ]
  },
  {
   "cell_type": "code",
   "execution_count": 248,
   "metadata": {},
   "outputs": [
    {
     "name": "stdout",
     "output_type": "stream",
     "text": [
      "Dictionary(42588 unique tokens: ['Выражаю', 'Горки-2', 'Для', 'Как', 'На']...)\n"
     ]
    }
   ],
   "source": [
    "print(dictionary)"
   ]
  },
  {
   "cell_type": "code",
   "execution_count": 249,
   "metadata": {},
   "outputs": [],
   "source": [
    "from gensim.models import LdaMulticore\n",
    "\n",
    "topics = LdaMulticore(corpus=corpus,\n",
    "                         id2word=dictionary,\n",
    "                         random_state=1,\n",
    "                         )"
   ]
  },
  {
   "cell_type": "code",
   "execution_count": 250,
   "metadata": {},
   "outputs": [
    {
     "name": "stdout",
     "output_type": "stream",
     "text": [
      "0.032*\"в\" + 0.022*\"не\" + 0.018*\"и\" + 0.016*\"на\" + 0.010*\"я\" + 0.009*\"что\" + 0.009*\"с\" + 0.009*\"по\" + 0.009*\"-\" + 0.007*\"мне\"\n",
      "0.019*\"в\" + 0.018*\"и\" + 0.016*\"не\" + 0.013*\"что\" + 0.011*\"на\" + 0.009*\"-\" + 0.009*\"с\" + 0.009*\"мне\" + 0.009*\"я\" + 0.005*\"меня\"\n",
      "0.012*\"не\" + 0.011*\"и\" + 0.008*\"что\" + 0.007*\"на\" + 0.006*\"в\" + 0.005*\"с\" + 0.005*\"я\" + 0.004*\"по\" + 0.004*\"а\" + 0.004*\"мне\"\n",
      "0.016*\"в\" + 0.011*\"и\" + 0.009*\"не\" + 0.007*\"на\" + 0.006*\"я\" + 0.006*\"что\" + 0.006*\"с\" + 0.004*\"по\" + 0.004*\"как\" + 0.004*\"мне\"\n",
      "0.033*\"в\" + 0.017*\"и\" + 0.017*\"не\" + 0.013*\"на\" + 0.011*\"что\" + 0.008*\"я\" + 0.008*\"по\" + 0.007*\"с\" + 0.006*\"банка\" + 0.005*\"-\"\n",
      "0.018*\"и\" + 0.017*\"не\" + 0.015*\"что\" + 0.014*\"в\" + 0.014*\"с\" + 0.012*\"на\" + 0.007*\"я\" + 0.006*\"по\" + 0.006*\"меня\" + 0.006*\"мне\"\n",
      "0.012*\"на\" + 0.009*\"и\" + 0.008*\"в\" + 0.007*\"не\" + 0.004*\"с\" + 0.004*\"банка\" + 0.004*\"что\" + 0.003*\"-\" + 0.003*\"за\" + 0.003*\"как\"\n"
     ]
    }
   ],
   "source": [
    "#отобразим топ 7 тем\n",
    "for i in range(7):\n",
    "    print(topics.print_topic(i))"
   ]
  },
  {
   "cell_type": "code",
   "execution_count": 251,
   "metadata": {},
   "outputs": [],
   "source": [
    "#формируем ветор Х из тем\n",
    "theta = (topics.get_document_topics(corpus[0], minimum_probability = 0))"
   ]
  },
  {
   "cell_type": "code",
   "execution_count": 252,
   "metadata": {},
   "outputs": [
    {
     "data": {
      "text/plain": [
       "[(0, 0.00012527687),\n",
       " (1, 0.00012527687),\n",
       " (2, 0.00012527687),\n",
       " (3, 0.00012527687),\n",
       " (4, 0.00012527687),\n",
       " (5, 0.00012527687),\n",
       " (6, 0.00012527687),\n",
       " (7, 0.00012527687),\n",
       " (8, 0.00012527687),\n",
       " (9, 0.00012527687)]"
      ]
     },
     "execution_count": 252,
     "metadata": {},
     "output_type": "execute_result"
    }
   ],
   "source": [
    "theta[:10]"
   ]
  },
  {
   "cell_type": "code",
   "execution_count": 253,
   "metadata": {},
   "outputs": [],
   "source": [
    "import numpy as np\n",
    "#конвертируем в numpy массив \n",
    "THETA = np.array(list(map(lambda x: x[1], theta)))"
   ]
  },
  {
   "cell_type": "code",
   "execution_count": 254,
   "metadata": {},
   "outputs": [
    {
     "data": {
      "text/plain": [
       "array([0.00012528, 0.00012528, 0.00012528, 0.00012528, 0.00012528,\n",
       "       0.00012528, 0.00012528, 0.00012528, 0.00012528, 0.00012528],\n",
       "      dtype=float32)"
      ]
     },
     "execution_count": 254,
     "metadata": {},
     "output_type": "execute_result"
    }
   ],
   "source": [
    "THETA[:10]"
   ]
  },
  {
   "cell_type": "code",
   "execution_count": 255,
   "metadata": {},
   "outputs": [],
   "source": [
    "#поменяем размерность\n",
    "for i in range(1, len(corpus)):\n",
    "    THETA = np.vstack((THETA,np.array(list(map(lambda x: x[1], topics.get_document_topics(corpus[i], minimum_probability = 0))))))"
   ]
  },
  {
   "cell_type": "code",
   "execution_count": 256,
   "metadata": {},
   "outputs": [
    {
     "data": {
      "text/plain": [
       "array([[1.2527687e-04, 1.2527687e-04, 1.2527687e-04, 1.2527687e-04,\n",
       "        1.2527687e-04, 1.2527687e-04, 1.2527687e-04, 1.2527687e-04,\n",
       "        1.2527687e-04, 1.2527687e-04, 1.2527687e-04, 1.2527687e-04,\n",
       "        1.2527687e-04, 1.2527687e-04, 1.2527687e-04, 1.2527687e-04,\n",
       "        1.2527687e-04, 1.2527687e-04, 1.2527687e-04, 1.2527687e-04,\n",
       "        1.2527687e-04, 1.2527687e-04, 1.2527687e-04, 1.2527687e-04,\n",
       "        1.2527687e-04, 1.2527687e-04, 1.2527687e-04, 1.2527687e-04,\n",
       "        1.2527687e-04, 1.2527687e-04, 1.2527687e-04, 1.2527687e-04,\n",
       "        1.2527687e-04, 1.2527687e-04, 1.2527687e-04, 1.2527687e-04,\n",
       "        1.2527687e-04, 1.2527687e-04, 1.2527687e-04, 1.2527687e-04,\n",
       "        1.2527687e-04, 1.2527687e-04, 1.2527687e-04, 1.2527687e-04,\n",
       "        1.2527687e-04, 1.2527687e-04, 1.2527687e-04, 1.2527687e-04,\n",
       "        1.2527687e-04, 1.2527687e-04, 1.2527687e-04, 1.2527687e-04,\n",
       "        1.2527687e-04, 1.2527687e-04, 1.2527687e-04, 1.2527687e-04,\n",
       "        1.2527687e-04, 1.2527687e-04, 1.2527687e-04, 1.2527687e-04,\n",
       "        1.2527687e-04, 1.2527687e-04, 1.2527687e-04, 1.2527687e-04,\n",
       "        1.2527687e-04, 1.2527687e-04, 1.2527687e-04, 1.2527687e-04,\n",
       "        1.2527687e-04, 1.2527687e-04, 1.2527687e-04, 1.2527687e-04,\n",
       "        1.2527687e-04, 1.2527687e-04, 1.2527687e-04, 1.2527687e-04,\n",
       "        1.2527687e-04, 7.2493500e-01, 1.2527687e-04, 1.2527687e-04,\n",
       "        1.2527687e-04, 1.2527687e-04, 1.2527687e-04, 1.2527687e-04,\n",
       "        1.2527687e-04, 1.2527687e-04, 1.2527687e-04, 1.2527687e-04,\n",
       "        2.6278788e-01, 1.2527687e-04, 1.2527687e-04, 1.2527687e-04,\n",
       "        1.2527687e-04, 1.2527687e-04, 1.2527687e-04, 1.2527687e-04,\n",
       "        1.2527687e-04, 1.2527687e-04, 1.2527687e-04, 1.2527687e-04],\n",
       "       [4.9311719e-05, 4.9311719e-05, 4.9311719e-05, 4.9311719e-05,\n",
       "        4.9311719e-05, 4.9311719e-05, 4.9311719e-05, 4.9311719e-05,\n",
       "        4.9311719e-05, 4.9311719e-05, 4.9311719e-05, 4.9311719e-05,\n",
       "        4.9311719e-05, 4.9311719e-05, 4.9311719e-05, 4.9311719e-05,\n",
       "        4.9311719e-05, 4.9311719e-05, 4.9311719e-05, 4.9311719e-05,\n",
       "        4.9311719e-05, 4.9311719e-05, 4.9311719e-05, 4.9311719e-05,\n",
       "        4.9311719e-05, 4.9311719e-05, 4.9311719e-05, 4.9311719e-05,\n",
       "        4.9311719e-05, 4.9311719e-05, 4.9311719e-05, 9.9511814e-01,\n",
       "        4.9311719e-05, 4.9311719e-05, 4.9311719e-05, 4.9311719e-05,\n",
       "        4.9311719e-05, 4.9311719e-05, 4.9311719e-05, 4.9311719e-05,\n",
       "        4.9311719e-05, 4.9311719e-05, 4.9311719e-05, 4.9311719e-05,\n",
       "        4.9311719e-05, 4.9311719e-05, 4.9311719e-05, 4.9311719e-05,\n",
       "        4.9311719e-05, 4.9311719e-05, 4.9311719e-05, 4.9311719e-05,\n",
       "        4.9311719e-05, 4.9311719e-05, 4.9311719e-05, 4.9311719e-05,\n",
       "        4.9311719e-05, 4.9311719e-05, 4.9311719e-05, 4.9311719e-05,\n",
       "        4.9311719e-05, 4.9311719e-05, 4.9311719e-05, 4.9311719e-05,\n",
       "        4.9311719e-05, 4.9311719e-05, 4.9311719e-05, 4.9311719e-05,\n",
       "        4.9311719e-05, 4.9311719e-05, 4.9311719e-05, 4.9311719e-05,\n",
       "        4.9311719e-05, 4.9311719e-05, 4.9311719e-05, 4.9311719e-05,\n",
       "        4.9311719e-05, 4.9311719e-05, 4.9311719e-05, 4.9311719e-05,\n",
       "        4.9311719e-05, 4.9311719e-05, 4.9311719e-05, 4.9311719e-05,\n",
       "        4.9311719e-05, 4.9311719e-05, 4.9311719e-05, 4.9311719e-05,\n",
       "        4.9311719e-05, 4.9311719e-05, 4.9311719e-05, 4.9311719e-05,\n",
       "        4.9311719e-05, 4.9311719e-05, 4.9311719e-05, 4.9311719e-05,\n",
       "        4.9311719e-05, 4.9311719e-05, 4.9311719e-05, 4.9311719e-05]],\n",
       "      dtype=float32)"
      ]
     },
     "execution_count": 256,
     "metadata": {},
     "output_type": "execute_result"
    }
   ],
   "source": [
    "THETA[:2]"
   ]
  },
  {
   "cell_type": "code",
   "execution_count": 257,
   "metadata": {},
   "outputs": [
    {
     "data": {
      "text/plain": [
       "(1000, 100)"
      ]
     },
     "execution_count": 257,
     "metadata": {},
     "output_type": "execute_result"
    }
   ],
   "source": [
    "THETA.shape"
   ]
  },
  {
   "cell_type": "code",
   "execution_count": 289,
   "metadata": {},
   "outputs": [],
   "source": [
    "clf = RandomForestClassifier(n_estimators = 100)"
   ]
  },
  {
   "cell_type": "code",
   "execution_count": 259,
   "metadata": {},
   "outputs": [],
   "source": [
    "from sklearn.model_selection import cross_val_score\n",
    "\n",
    "scores = cross_val_score(clf, THETA, y, cv=3)"
   ]
  },
  {
   "cell_type": "code",
   "execution_count": 260,
   "metadata": {},
   "outputs": [
    {
     "data": {
      "text/plain": [
       "0.7239964515413617"
      ]
     },
     "execution_count": 260,
     "metadata": {},
     "output_type": "execute_result"
    }
   ],
   "source": [
    "np.mean(scores)"
   ]
  },
  {
   "cell_type": "code",
   "execution_count": 261,
   "metadata": {},
   "outputs": [
    {
     "data": {
      "text/html": [
       "<div>\n",
       "<style scoped>\n",
       "    .dataframe tbody tr th:only-of-type {\n",
       "        vertical-align: middle;\n",
       "    }\n",
       "\n",
       "    .dataframe tbody tr th {\n",
       "        vertical-align: top;\n",
       "    }\n",
       "\n",
       "    .dataframe thead th {\n",
       "        text-align: right;\n",
       "    }\n",
       "</style>\n",
       "<table border=\"1\" class=\"dataframe\">\n",
       "  <thead>\n",
       "    <tr style=\"text-align: right;\">\n",
       "      <th></th>\n",
       "      <th>0</th>\n",
       "      <th>1</th>\n",
       "      <th>2</th>\n",
       "      <th>3</th>\n",
       "      <th>4</th>\n",
       "      <th>5</th>\n",
       "      <th>6</th>\n",
       "      <th>7</th>\n",
       "      <th>8</th>\n",
       "      <th>9</th>\n",
       "      <th>...</th>\n",
       "      <th>90</th>\n",
       "      <th>91</th>\n",
       "      <th>92</th>\n",
       "      <th>93</th>\n",
       "      <th>94</th>\n",
       "      <th>95</th>\n",
       "      <th>96</th>\n",
       "      <th>97</th>\n",
       "      <th>98</th>\n",
       "      <th>99</th>\n",
       "    </tr>\n",
       "  </thead>\n",
       "  <tbody>\n",
       "    <tr>\n",
       "      <th>0</th>\n",
       "      <td>0.000125</td>\n",
       "      <td>0.000125</td>\n",
       "      <td>0.000125</td>\n",
       "      <td>0.000125</td>\n",
       "      <td>0.000125</td>\n",
       "      <td>0.000125</td>\n",
       "      <td>0.000125</td>\n",
       "      <td>0.000125</td>\n",
       "      <td>0.000125</td>\n",
       "      <td>0.000125</td>\n",
       "      <td>...</td>\n",
       "      <td>0.000125</td>\n",
       "      <td>0.000125</td>\n",
       "      <td>0.000125</td>\n",
       "      <td>0.000125</td>\n",
       "      <td>0.000125</td>\n",
       "      <td>0.000125</td>\n",
       "      <td>0.000125</td>\n",
       "      <td>0.000125</td>\n",
       "      <td>0.000125</td>\n",
       "      <td>0.000125</td>\n",
       "    </tr>\n",
       "    <tr>\n",
       "      <th>1</th>\n",
       "      <td>0.000049</td>\n",
       "      <td>0.000049</td>\n",
       "      <td>0.000049</td>\n",
       "      <td>0.000049</td>\n",
       "      <td>0.000049</td>\n",
       "      <td>0.000049</td>\n",
       "      <td>0.000049</td>\n",
       "      <td>0.000049</td>\n",
       "      <td>0.000049</td>\n",
       "      <td>0.000049</td>\n",
       "      <td>...</td>\n",
       "      <td>0.000049</td>\n",
       "      <td>0.000049</td>\n",
       "      <td>0.000049</td>\n",
       "      <td>0.000049</td>\n",
       "      <td>0.000049</td>\n",
       "      <td>0.000049</td>\n",
       "      <td>0.000049</td>\n",
       "      <td>0.000049</td>\n",
       "      <td>0.000049</td>\n",
       "      <td>0.000049</td>\n",
       "    </tr>\n",
       "    <tr>\n",
       "      <th>2</th>\n",
       "      <td>0.000041</td>\n",
       "      <td>0.000041</td>\n",
       "      <td>0.000041</td>\n",
       "      <td>0.000041</td>\n",
       "      <td>0.000041</td>\n",
       "      <td>0.000041</td>\n",
       "      <td>0.000041</td>\n",
       "      <td>0.000041</td>\n",
       "      <td>0.000041</td>\n",
       "      <td>0.000041</td>\n",
       "      <td>...</td>\n",
       "      <td>0.000041</td>\n",
       "      <td>0.000041</td>\n",
       "      <td>0.000041</td>\n",
       "      <td>0.000041</td>\n",
       "      <td>0.000041</td>\n",
       "      <td>0.114296</td>\n",
       "      <td>0.000041</td>\n",
       "      <td>0.000041</td>\n",
       "      <td>0.000041</td>\n",
       "      <td>0.000041</td>\n",
       "    </tr>\n",
       "    <tr>\n",
       "      <th>3</th>\n",
       "      <td>0.000072</td>\n",
       "      <td>0.000072</td>\n",
       "      <td>0.000072</td>\n",
       "      <td>0.000072</td>\n",
       "      <td>0.000072</td>\n",
       "      <td>0.000072</td>\n",
       "      <td>0.000072</td>\n",
       "      <td>0.000072</td>\n",
       "      <td>0.000072</td>\n",
       "      <td>0.000072</td>\n",
       "      <td>...</td>\n",
       "      <td>0.000072</td>\n",
       "      <td>0.000072</td>\n",
       "      <td>0.000072</td>\n",
       "      <td>0.000072</td>\n",
       "      <td>0.000072</td>\n",
       "      <td>0.000072</td>\n",
       "      <td>0.000072</td>\n",
       "      <td>0.000072</td>\n",
       "      <td>0.000072</td>\n",
       "      <td>0.000072</td>\n",
       "    </tr>\n",
       "    <tr>\n",
       "      <th>4</th>\n",
       "      <td>0.000228</td>\n",
       "      <td>0.000228</td>\n",
       "      <td>0.000228</td>\n",
       "      <td>0.000228</td>\n",
       "      <td>0.000228</td>\n",
       "      <td>0.000228</td>\n",
       "      <td>0.000228</td>\n",
       "      <td>0.000228</td>\n",
       "      <td>0.000228</td>\n",
       "      <td>0.000228</td>\n",
       "      <td>...</td>\n",
       "      <td>0.000228</td>\n",
       "      <td>0.000228</td>\n",
       "      <td>0.000228</td>\n",
       "      <td>0.000228</td>\n",
       "      <td>0.000228</td>\n",
       "      <td>0.000228</td>\n",
       "      <td>0.000228</td>\n",
       "      <td>0.000228</td>\n",
       "      <td>0.000228</td>\n",
       "      <td>0.000228</td>\n",
       "    </tr>\n",
       "  </tbody>\n",
       "</table>\n",
       "<p>5 rows × 100 columns</p>\n",
       "</div>"
      ],
      "text/plain": [
       "         0         1         2         3         4         5         6   \\\n",
       "0  0.000125  0.000125  0.000125  0.000125  0.000125  0.000125  0.000125   \n",
       "1  0.000049  0.000049  0.000049  0.000049  0.000049  0.000049  0.000049   \n",
       "2  0.000041  0.000041  0.000041  0.000041  0.000041  0.000041  0.000041   \n",
       "3  0.000072  0.000072  0.000072  0.000072  0.000072  0.000072  0.000072   \n",
       "4  0.000228  0.000228  0.000228  0.000228  0.000228  0.000228  0.000228   \n",
       "\n",
       "         7         8         9   ...        90        91        92        93  \\\n",
       "0  0.000125  0.000125  0.000125  ...  0.000125  0.000125  0.000125  0.000125   \n",
       "1  0.000049  0.000049  0.000049  ...  0.000049  0.000049  0.000049  0.000049   \n",
       "2  0.000041  0.000041  0.000041  ...  0.000041  0.000041  0.000041  0.000041   \n",
       "3  0.000072  0.000072  0.000072  ...  0.000072  0.000072  0.000072  0.000072   \n",
       "4  0.000228  0.000228  0.000228  ...  0.000228  0.000228  0.000228  0.000228   \n",
       "\n",
       "         94        95        96        97        98        99  \n",
       "0  0.000125  0.000125  0.000125  0.000125  0.000125  0.000125  \n",
       "1  0.000049  0.000049  0.000049  0.000049  0.000049  0.000049  \n",
       "2  0.000041  0.114296  0.000041  0.000041  0.000041  0.000041  \n",
       "3  0.000072  0.000072  0.000072  0.000072  0.000072  0.000072  \n",
       "4  0.000228  0.000228  0.000228  0.000228  0.000228  0.000228  \n",
       "\n",
       "[5 rows x 100 columns]"
      ]
     },
     "execution_count": 261,
     "metadata": {},
     "output_type": "execute_result"
    }
   ],
   "source": [
    "pd.DataFrame(THETA).head()"
   ]
  },
  {
   "cell_type": "markdown",
   "metadata": {},
   "source": [
    "Добавим к темам сам текст и преобразуем его для дальнейшей работы"
   ]
  },
  {
   "cell_type": "code",
   "execution_count": 295,
   "metadata": {},
   "outputs": [],
   "source": [
    "#Преобразуем тест в биграммы\n",
    "count_vect = CountVectorizer(ngram_range=(1,1))\n",
    "word_count_vector = count_vect.fit_transform(data_rating_shuffle['text'])"
   ]
  },
  {
   "cell_type": "code",
   "execution_count": 296,
   "metadata": {},
   "outputs": [],
   "source": [
    "tfidf_transformer = TfidfTransformer() \n",
    "tfidf_transformer.fit(word_count_vector)\n",
    "X = tfidf_transformer.transform(word_count_vector)"
   ]
  },
  {
   "cell_type": "code",
   "execution_count": 282,
   "metadata": {},
   "outputs": [
    {
     "data": {
      "text/plain": [
       "(1000, 131021)"
      ]
     },
     "execution_count": 282,
     "metadata": {},
     "output_type": "execute_result"
    }
   ],
   "source": [
    "X.toarray().shape"
   ]
  },
  {
   "cell_type": "code",
   "execution_count": 283,
   "metadata": {},
   "outputs": [
    {
     "data": {
      "text/plain": [
       "(1000, 100)"
      ]
     },
     "execution_count": 283,
     "metadata": {},
     "output_type": "execute_result"
    }
   ],
   "source": [
    "THETA.shape"
   ]
  },
  {
   "cell_type": "code",
   "execution_count": 297,
   "metadata": {},
   "outputs": [],
   "source": [
    "new_X = np.append(X.toarray(), THETA, axis=1)"
   ]
  },
  {
   "cell_type": "code",
   "execution_count": 285,
   "metadata": {},
   "outputs": [
    {
     "data": {
      "text/plain": [
       "(1000, 131121)"
      ]
     },
     "execution_count": 285,
     "metadata": {},
     "output_type": "execute_result"
    }
   ],
   "source": [
    "new_X.shape"
   ]
  },
  {
   "cell_type": "code",
   "execution_count": 298,
   "metadata": {},
   "outputs": [],
   "source": [
    "X_train, X_test, y_train, y_test = train_test_split(new_X, y, test_size=0.2)"
   ]
  },
  {
   "cell_type": "code",
   "execution_count": 299,
   "metadata": {},
   "outputs": [
    {
     "data": {
      "text/plain": [
       "0.7762289619179034"
      ]
     },
     "execution_count": 299,
     "metadata": {},
     "output_type": "execute_result"
    }
   ],
   "source": [
    "clf = RandomForestClassifier(max_depth=20)\n",
    "scores = cross_val_score(clf, X_train, y_train, cv=3)\n",
    "np.mean(scores)"
   ]
  },
  {
   "cell_type": "code",
   "execution_count": 300,
   "metadata": {},
   "outputs": [
    {
     "name": "stdout",
     "output_type": "stream",
     "text": [
      "Accuracy:  0.795\n",
      "F1:  0.8790560471976401\n"
     ]
    }
   ],
   "source": [
    "clf.fit(X_train, y_train)\n",
    "\n",
    "y_pred = clf.predict(X_test)\n",
    "\n",
    "print('Accuracy: ', accuracy_score(y_test, y_pred))\n",
    "print('F1: ', f1_score(y_test, y_pred))"
   ]
  },
  {
   "cell_type": "markdown",
   "metadata": {},
   "source": [
    "Ожидал более впечатляющий результат. Возможно проблема из-за недостаточного количества стоп слов, которые просклаьзывают в теме."
   ]
  }
 ],
 "metadata": {
  "kernelspec": {
   "display_name": "Python 3",
   "language": "python",
   "name": "python3"
  },
  "language_info": {
   "codemirror_mode": {
    "name": "ipython",
    "version": 3
   },
   "file_extension": ".py",
   "mimetype": "text/x-python",
   "name": "python",
   "nbconvert_exporter": "python",
   "pygments_lexer": "ipython3",
   "version": "3.8.5"
  }
 },
 "nbformat": 4,
 "nbformat_minor": 4
}

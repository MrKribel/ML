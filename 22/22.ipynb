{
 "cells": [
  {
   "cell_type": "code",
   "execution_count": 504,
   "metadata": {},
   "outputs": [],
   "source": [
    "import numpy as np\n",
    "import pandas as pd"
   ]
  },
  {
   "cell_type": "markdown",
   "metadata": {},
   "source": [
    "### Распределение жилой площади ВС"
   ]
  },
  {
   "cell_type": "markdown",
   "metadata": {},
   "source": [
    "Формируем датафрейм"
   ]
  },
  {
   "cell_type": "code",
   "execution_count": 505,
   "metadata": {},
   "outputs": [
    {
     "data": {
      "text/html": [
       "<div>\n",
       "<style scoped>\n",
       "    .dataframe tbody tr th:only-of-type {\n",
       "        vertical-align: middle;\n",
       "    }\n",
       "\n",
       "    .dataframe tbody tr th {\n",
       "        vertical-align: top;\n",
       "    }\n",
       "\n",
       "    .dataframe thead th {\n",
       "        text-align: right;\n",
       "    }\n",
       "</style>\n",
       "<table border=\"1\" class=\"dataframe\">\n",
       "  <thead>\n",
       "    <tr style=\"text-align: right;\">\n",
       "      <th></th>\n",
       "      <th>age</th>\n",
       "      <th>children</th>\n",
       "      <th>visluga</th>\n",
       "      <th>length</th>\n",
       "      <th>width</th>\n",
       "      <th>meters</th>\n",
       "      <th>apartment</th>\n",
       "      <th>rang</th>\n",
       "      <th>get_apartment</th>\n",
       "    </tr>\n",
       "  </thead>\n",
       "  <tbody>\n",
       "    <tr>\n",
       "      <th>0</th>\n",
       "      <td>22</td>\n",
       "      <td>3</td>\n",
       "      <td>18</td>\n",
       "      <td>4</td>\n",
       "      <td>5</td>\n",
       "      <td>20</td>\n",
       "      <td>однушка</td>\n",
       "      <td>лейтенант</td>\n",
       "      <td>трешка</td>\n",
       "    </tr>\n",
       "    <tr>\n",
       "      <th>1</th>\n",
       "      <td>18</td>\n",
       "      <td>2</td>\n",
       "      <td>26</td>\n",
       "      <td>7</td>\n",
       "      <td>2</td>\n",
       "      <td>14</td>\n",
       "      <td>общежитие</td>\n",
       "      <td>капитан</td>\n",
       "      <td>двушка</td>\n",
       "    </tr>\n",
       "    <tr>\n",
       "      <th>2</th>\n",
       "      <td>38</td>\n",
       "      <td>1</td>\n",
       "      <td>27</td>\n",
       "      <td>5</td>\n",
       "      <td>4</td>\n",
       "      <td>20</td>\n",
       "      <td>однушка</td>\n",
       "      <td>капитан</td>\n",
       "      <td>однушка</td>\n",
       "    </tr>\n",
       "    <tr>\n",
       "      <th>3</th>\n",
       "      <td>55</td>\n",
       "      <td>1</td>\n",
       "      <td>19</td>\n",
       "      <td>2</td>\n",
       "      <td>4</td>\n",
       "      <td>8</td>\n",
       "      <td>общежитие</td>\n",
       "      <td>капитан</td>\n",
       "      <td>однушка</td>\n",
       "    </tr>\n",
       "    <tr>\n",
       "      <th>4</th>\n",
       "      <td>18</td>\n",
       "      <td>1</td>\n",
       "      <td>16</td>\n",
       "      <td>6</td>\n",
       "      <td>6</td>\n",
       "      <td>36</td>\n",
       "      <td>однушка</td>\n",
       "      <td>лейтенант</td>\n",
       "      <td>однушка</td>\n",
       "    </tr>\n",
       "  </tbody>\n",
       "</table>\n",
       "</div>"
      ],
      "text/plain": [
       "   age  children  visluga  length  width  meters  apartment       rang  \\\n",
       "0   22         3       18       4      5      20    однушка  лейтенант   \n",
       "1   18         2       26       7      2      14  общежитие    капитан   \n",
       "2   38         1       27       5      4      20    однушка    капитан   \n",
       "3   55         1       19       2      4       8  общежитие    капитан   \n",
       "4   18         1       16       6      6      36    однушка  лейтенант   \n",
       "\n",
       "  get_apartment  \n",
       "0        трешка  \n",
       "1        двушка  \n",
       "2       однушка  \n",
       "3       однушка  \n",
       "4       однушка  "
      ]
     },
     "execution_count": 505,
     "metadata": {},
     "output_type": "execute_result"
    }
   ],
   "source": [
    "n_samples = 1000\n",
    "rang_list = ['лейтенант', 'ст_лейтенант', 'капитан', 'майор', 'под_полковник', 'полковник']\n",
    "status = ['женат', 'холост']\n",
    "\n",
    "age = np.random.choice(np.arange(18,60), n_samples)\n",
    "children = np.random.choice(4, n_samples)\n",
    "visluga = np.random.choice(30, n_samples)\n",
    "\n",
    "length = np.random.choice(8, n_samples)+2\n",
    "width = np.random.choice(8, n_samples)+2 \n",
    "meters = length * width\n",
    "\n",
    "data = pd.DataFrame({'age': age,  'children': children,  'visluga': visluga,  'length': length, 'width': width, 'meters': meters})\n",
    "data['apartment'] = 'null'\n",
    "data['rang'] = 'null'\n",
    "data['get_apartment'] = 'null'\n",
    "\n",
    "data.iloc[data.visluga <= 3, 7]=rang_list[0]\n",
    "data.iloc[(data.visluga > 3)&(data.visluga <= 7), 7]=np.random.choice([rang_list[0],rang_list[1]])\n",
    "data.iloc[(data.visluga > 7)&(data.visluga <= 11), 7]=np.random.choice([rang_list[0],rang_list[1],rang_list[2]])\n",
    "data.iloc[(data.visluga > 11)&(data.visluga <= 15), 7]=np.random.choice([rang_list[0],rang_list[1],rang_list[2], rang_list[3]])\n",
    "data.iloc[(data.visluga > 15)&(data.visluga <= 18), 7]=np.random.choice([rang_list[0],rang_list[1],rang_list[2], rang_list[3], rang_list[4]])\n",
    "data.iloc[data.visluga > 18, 7]=np.random.choice([rang_list[0],rang_list[1],rang_list[2], rang_list[3], rang_list[4], rang_list[5]])\n",
    "\n",
    "data.iloc[data.meters <= 20, 6]='общежитие'\n",
    "data.iloc[(data.meters >= 20) & (data.meters <= 50), 6]=np.random.choice(['однушка'])\n",
    "data.iloc[(data.meters >= 50) & (data.meters <= 70), 6]=np.random.choice(['двушка','однушка'])\n",
    "data.iloc[data.meters >= 70, 6]=np.random.choice(['двушка','трешка'])\n",
    "\n",
    "data.iloc[(data.children == 0), 8 ] = np.random.choice([None,'однушка'])\n",
    "data.iloc[(data.children == 1), 8] = np.random.choice(['однушка'])\n",
    "data.iloc[(data.children == 2), 8] = np.random.choice(['двушка', 'трешка'])\n",
    "data.iloc[(data.children > 2), 8] = np.random.choice(['трешка'])\n",
    "\n",
    "data.head()"
   ]
  },
  {
   "cell_type": "markdown",
   "metadata": {},
   "source": [
    "Какие виды служебных квартир бывают"
   ]
  },
  {
   "cell_type": "code",
   "execution_count": 506,
   "metadata": {},
   "outputs": [
    {
     "data": {
      "text/plain": [
       "трешка     264\n",
       "однушка    245\n",
       "двушка     245\n",
       "Name: get_apartment, dtype: int64"
      ]
     },
     "execution_count": 506,
     "metadata": {},
     "output_type": "execute_result"
    }
   ],
   "source": [
    "data.get_apartment.value_counts()"
   ]
  },
  {
   "cell_type": "markdown",
   "metadata": {},
   "source": [
    "Проверим есть ли неопределенные значения"
   ]
  },
  {
   "cell_type": "code",
   "execution_count": 507,
   "metadata": {},
   "outputs": [
    {
     "name": "stdout",
     "output_type": "stream",
     "text": [
      "<class 'pandas.core.frame.DataFrame'>\n",
      "RangeIndex: 1000 entries, 0 to 999\n",
      "Data columns (total 9 columns):\n",
      " #   Column         Non-Null Count  Dtype \n",
      "---  ------         --------------  ----- \n",
      " 0   age            1000 non-null   int64 \n",
      " 1   children       1000 non-null   int64 \n",
      " 2   visluga        1000 non-null   int64 \n",
      " 3   length         1000 non-null   int64 \n",
      " 4   width          1000 non-null   int64 \n",
      " 5   meters         1000 non-null   int64 \n",
      " 6   apartment      1000 non-null   object\n",
      " 7   rang           1000 non-null   object\n",
      " 8   get_apartment  754 non-null    object\n",
      "dtypes: int64(6), object(3)\n",
      "memory usage: 70.4+ KB\n"
     ]
    }
   ],
   "source": [
    "data.info()"
   ]
  },
  {
   "cell_type": "markdown",
   "metadata": {},
   "source": [
    "Посчитаем их количество"
   ]
  },
  {
   "cell_type": "code",
   "execution_count": 508,
   "metadata": {},
   "outputs": [
    {
     "data": {
      "text/plain": [
       "age                0\n",
       "children           0\n",
       "visluga            0\n",
       "length             0\n",
       "width              0\n",
       "meters             0\n",
       "apartment          0\n",
       "rang               0\n",
       "get_apartment    246\n",
       "dtype: int64"
      ]
     },
     "execution_count": 508,
     "metadata": {},
     "output_type": "execute_result"
    }
   ],
   "source": [
    "data.isnull().sum()"
   ]
  },
  {
   "cell_type": "markdown",
   "metadata": {},
   "source": [
    "Приобразуем данные"
   ]
  },
  {
   "cell_type": "code",
   "execution_count": 510,
   "metadata": {},
   "outputs": [],
   "source": [
    "data = pd.get_dummies(data, columns = ['apartment', 'rang'] )"
   ]
  },
  {
   "cell_type": "code",
   "execution_count": 511,
   "metadata": {},
   "outputs": [
    {
     "data": {
      "text/html": [
       "<div>\n",
       "<style scoped>\n",
       "    .dataframe tbody tr th:only-of-type {\n",
       "        vertical-align: middle;\n",
       "    }\n",
       "\n",
       "    .dataframe tbody tr th {\n",
       "        vertical-align: top;\n",
       "    }\n",
       "\n",
       "    .dataframe thead th {\n",
       "        text-align: right;\n",
       "    }\n",
       "</style>\n",
       "<table border=\"1\" class=\"dataframe\">\n",
       "  <thead>\n",
       "    <tr style=\"text-align: right;\">\n",
       "      <th></th>\n",
       "      <th>age</th>\n",
       "      <th>children</th>\n",
       "      <th>visluga</th>\n",
       "      <th>length</th>\n",
       "      <th>width</th>\n",
       "      <th>meters</th>\n",
       "      <th>get_apartment</th>\n",
       "      <th>apartment_общежитие</th>\n",
       "      <th>apartment_однушка</th>\n",
       "      <th>apartment_трешка</th>\n",
       "      <th>rang_капитан</th>\n",
       "      <th>rang_лейтенант</th>\n",
       "      <th>rang_майор</th>\n",
       "      <th>rang_ст_лейтенант</th>\n",
       "    </tr>\n",
       "  </thead>\n",
       "  <tbody>\n",
       "    <tr>\n",
       "      <th>0</th>\n",
       "      <td>22</td>\n",
       "      <td>3</td>\n",
       "      <td>18</td>\n",
       "      <td>4</td>\n",
       "      <td>5</td>\n",
       "      <td>20</td>\n",
       "      <td>трешка</td>\n",
       "      <td>0</td>\n",
       "      <td>1</td>\n",
       "      <td>0</td>\n",
       "      <td>0</td>\n",
       "      <td>1</td>\n",
       "      <td>0</td>\n",
       "      <td>0</td>\n",
       "    </tr>\n",
       "    <tr>\n",
       "      <th>1</th>\n",
       "      <td>18</td>\n",
       "      <td>2</td>\n",
       "      <td>26</td>\n",
       "      <td>7</td>\n",
       "      <td>2</td>\n",
       "      <td>14</td>\n",
       "      <td>двушка</td>\n",
       "      <td>1</td>\n",
       "      <td>0</td>\n",
       "      <td>0</td>\n",
       "      <td>1</td>\n",
       "      <td>0</td>\n",
       "      <td>0</td>\n",
       "      <td>0</td>\n",
       "    </tr>\n",
       "    <tr>\n",
       "      <th>2</th>\n",
       "      <td>38</td>\n",
       "      <td>1</td>\n",
       "      <td>27</td>\n",
       "      <td>5</td>\n",
       "      <td>4</td>\n",
       "      <td>20</td>\n",
       "      <td>однушка</td>\n",
       "      <td>0</td>\n",
       "      <td>1</td>\n",
       "      <td>0</td>\n",
       "      <td>1</td>\n",
       "      <td>0</td>\n",
       "      <td>0</td>\n",
       "      <td>0</td>\n",
       "    </tr>\n",
       "    <tr>\n",
       "      <th>3</th>\n",
       "      <td>55</td>\n",
       "      <td>1</td>\n",
       "      <td>19</td>\n",
       "      <td>2</td>\n",
       "      <td>4</td>\n",
       "      <td>8</td>\n",
       "      <td>однушка</td>\n",
       "      <td>1</td>\n",
       "      <td>0</td>\n",
       "      <td>0</td>\n",
       "      <td>1</td>\n",
       "      <td>0</td>\n",
       "      <td>0</td>\n",
       "      <td>0</td>\n",
       "    </tr>\n",
       "    <tr>\n",
       "      <th>4</th>\n",
       "      <td>18</td>\n",
       "      <td>1</td>\n",
       "      <td>16</td>\n",
       "      <td>6</td>\n",
       "      <td>6</td>\n",
       "      <td>36</td>\n",
       "      <td>однушка</td>\n",
       "      <td>0</td>\n",
       "      <td>1</td>\n",
       "      <td>0</td>\n",
       "      <td>0</td>\n",
       "      <td>1</td>\n",
       "      <td>0</td>\n",
       "      <td>0</td>\n",
       "    </tr>\n",
       "    <tr>\n",
       "      <th>...</th>\n",
       "      <td>...</td>\n",
       "      <td>...</td>\n",
       "      <td>...</td>\n",
       "      <td>...</td>\n",
       "      <td>...</td>\n",
       "      <td>...</td>\n",
       "      <td>...</td>\n",
       "      <td>...</td>\n",
       "      <td>...</td>\n",
       "      <td>...</td>\n",
       "      <td>...</td>\n",
       "      <td>...</td>\n",
       "      <td>...</td>\n",
       "      <td>...</td>\n",
       "    </tr>\n",
       "    <tr>\n",
       "      <th>995</th>\n",
       "      <td>34</td>\n",
       "      <td>0</td>\n",
       "      <td>1</td>\n",
       "      <td>6</td>\n",
       "      <td>3</td>\n",
       "      <td>18</td>\n",
       "      <td>None</td>\n",
       "      <td>1</td>\n",
       "      <td>0</td>\n",
       "      <td>0</td>\n",
       "      <td>0</td>\n",
       "      <td>1</td>\n",
       "      <td>0</td>\n",
       "      <td>0</td>\n",
       "    </tr>\n",
       "    <tr>\n",
       "      <th>996</th>\n",
       "      <td>47</td>\n",
       "      <td>0</td>\n",
       "      <td>16</td>\n",
       "      <td>7</td>\n",
       "      <td>7</td>\n",
       "      <td>49</td>\n",
       "      <td>None</td>\n",
       "      <td>0</td>\n",
       "      <td>1</td>\n",
       "      <td>0</td>\n",
       "      <td>0</td>\n",
       "      <td>1</td>\n",
       "      <td>0</td>\n",
       "      <td>0</td>\n",
       "    </tr>\n",
       "    <tr>\n",
       "      <th>997</th>\n",
       "      <td>29</td>\n",
       "      <td>0</td>\n",
       "      <td>21</td>\n",
       "      <td>5</td>\n",
       "      <td>5</td>\n",
       "      <td>25</td>\n",
       "      <td>None</td>\n",
       "      <td>0</td>\n",
       "      <td>1</td>\n",
       "      <td>0</td>\n",
       "      <td>1</td>\n",
       "      <td>0</td>\n",
       "      <td>0</td>\n",
       "      <td>0</td>\n",
       "    </tr>\n",
       "    <tr>\n",
       "      <th>998</th>\n",
       "      <td>22</td>\n",
       "      <td>0</td>\n",
       "      <td>22</td>\n",
       "      <td>5</td>\n",
       "      <td>3</td>\n",
       "      <td>15</td>\n",
       "      <td>None</td>\n",
       "      <td>1</td>\n",
       "      <td>0</td>\n",
       "      <td>0</td>\n",
       "      <td>1</td>\n",
       "      <td>0</td>\n",
       "      <td>0</td>\n",
       "      <td>0</td>\n",
       "    </tr>\n",
       "    <tr>\n",
       "      <th>999</th>\n",
       "      <td>25</td>\n",
       "      <td>0</td>\n",
       "      <td>25</td>\n",
       "      <td>7</td>\n",
       "      <td>8</td>\n",
       "      <td>56</td>\n",
       "      <td>None</td>\n",
       "      <td>0</td>\n",
       "      <td>1</td>\n",
       "      <td>0</td>\n",
       "      <td>1</td>\n",
       "      <td>0</td>\n",
       "      <td>0</td>\n",
       "      <td>0</td>\n",
       "    </tr>\n",
       "  </tbody>\n",
       "</table>\n",
       "<p>1000 rows × 14 columns</p>\n",
       "</div>"
      ],
      "text/plain": [
       "     age  children  visluga  length  width  meters get_apartment  \\\n",
       "0     22         3       18       4      5      20        трешка   \n",
       "1     18         2       26       7      2      14        двушка   \n",
       "2     38         1       27       5      4      20       однушка   \n",
       "3     55         1       19       2      4       8       однушка   \n",
       "4     18         1       16       6      6      36       однушка   \n",
       "..   ...       ...      ...     ...    ...     ...           ...   \n",
       "995   34         0        1       6      3      18          None   \n",
       "996   47         0       16       7      7      49          None   \n",
       "997   29         0       21       5      5      25          None   \n",
       "998   22         0       22       5      3      15          None   \n",
       "999   25         0       25       7      8      56          None   \n",
       "\n",
       "     apartment_общежитие  apartment_однушка  apartment_трешка  rang_капитан  \\\n",
       "0                      0                  1                 0             0   \n",
       "1                      1                  0                 0             1   \n",
       "2                      0                  1                 0             1   \n",
       "3                      1                  0                 0             1   \n",
       "4                      0                  1                 0             0   \n",
       "..                   ...                ...               ...           ...   \n",
       "995                    1                  0                 0             0   \n",
       "996                    0                  1                 0             0   \n",
       "997                    0                  1                 0             1   \n",
       "998                    1                  0                 0             1   \n",
       "999                    0                  1                 0             1   \n",
       "\n",
       "     rang_лейтенант  rang_майор  rang_ст_лейтенант  \n",
       "0                 1           0                  0  \n",
       "1                 0           0                  0  \n",
       "2                 0           0                  0  \n",
       "3                 0           0                  0  \n",
       "4                 1           0                  0  \n",
       "..              ...         ...                ...  \n",
       "995               1           0                  0  \n",
       "996               1           0                  0  \n",
       "997               0           0                  0  \n",
       "998               0           0                  0  \n",
       "999               0           0                  0  \n",
       "\n",
       "[1000 rows x 14 columns]"
      ]
     },
     "execution_count": 511,
     "metadata": {},
     "output_type": "execute_result"
    }
   ],
   "source": [
    "data"
   ]
  },
  {
   "cell_type": "markdown",
   "metadata": {},
   "source": [
    "### 1. Какую квартиру получит ВС (не) имеющий детей?"
   ]
  },
  {
   "cell_type": "markdown",
   "metadata": {},
   "source": [
    "Категориальная задача"
   ]
  },
  {
   "cell_type": "code",
   "execution_count": 512,
   "metadata": {},
   "outputs": [],
   "source": [
    "data['get_apartment'] = data.get_apartment.fillna('ожидает')"
   ]
  },
  {
   "cell_type": "code",
   "execution_count": 513,
   "metadata": {
    "scrolled": false
   },
   "outputs": [
    {
     "data": {
      "text/html": [
       "<div>\n",
       "<style scoped>\n",
       "    .dataframe tbody tr th:only-of-type {\n",
       "        vertical-align: middle;\n",
       "    }\n",
       "\n",
       "    .dataframe tbody tr th {\n",
       "        vertical-align: top;\n",
       "    }\n",
       "\n",
       "    .dataframe thead th {\n",
       "        text-align: right;\n",
       "    }\n",
       "</style>\n",
       "<table border=\"1\" class=\"dataframe\">\n",
       "  <thead>\n",
       "    <tr style=\"text-align: right;\">\n",
       "      <th></th>\n",
       "      <th>age</th>\n",
       "      <th>children</th>\n",
       "      <th>visluga</th>\n",
       "      <th>length</th>\n",
       "      <th>width</th>\n",
       "      <th>meters</th>\n",
       "      <th>get_apartment</th>\n",
       "      <th>apartment_общежитие</th>\n",
       "      <th>apartment_однушка</th>\n",
       "      <th>apartment_трешка</th>\n",
       "      <th>rang_капитан</th>\n",
       "      <th>rang_лейтенант</th>\n",
       "      <th>rang_майор</th>\n",
       "      <th>rang_ст_лейтенант</th>\n",
       "    </tr>\n",
       "  </thead>\n",
       "  <tbody>\n",
       "    <tr>\n",
       "      <th>0</th>\n",
       "      <td>22</td>\n",
       "      <td>3</td>\n",
       "      <td>18</td>\n",
       "      <td>4</td>\n",
       "      <td>5</td>\n",
       "      <td>20</td>\n",
       "      <td>трешка</td>\n",
       "      <td>0</td>\n",
       "      <td>1</td>\n",
       "      <td>0</td>\n",
       "      <td>0</td>\n",
       "      <td>1</td>\n",
       "      <td>0</td>\n",
       "      <td>0</td>\n",
       "    </tr>\n",
       "    <tr>\n",
       "      <th>1</th>\n",
       "      <td>18</td>\n",
       "      <td>2</td>\n",
       "      <td>26</td>\n",
       "      <td>7</td>\n",
       "      <td>2</td>\n",
       "      <td>14</td>\n",
       "      <td>двушка</td>\n",
       "      <td>1</td>\n",
       "      <td>0</td>\n",
       "      <td>0</td>\n",
       "      <td>1</td>\n",
       "      <td>0</td>\n",
       "      <td>0</td>\n",
       "      <td>0</td>\n",
       "    </tr>\n",
       "    <tr>\n",
       "      <th>2</th>\n",
       "      <td>38</td>\n",
       "      <td>1</td>\n",
       "      <td>27</td>\n",
       "      <td>5</td>\n",
       "      <td>4</td>\n",
       "      <td>20</td>\n",
       "      <td>однушка</td>\n",
       "      <td>0</td>\n",
       "      <td>1</td>\n",
       "      <td>0</td>\n",
       "      <td>1</td>\n",
       "      <td>0</td>\n",
       "      <td>0</td>\n",
       "      <td>0</td>\n",
       "    </tr>\n",
       "    <tr>\n",
       "      <th>3</th>\n",
       "      <td>55</td>\n",
       "      <td>1</td>\n",
       "      <td>19</td>\n",
       "      <td>2</td>\n",
       "      <td>4</td>\n",
       "      <td>8</td>\n",
       "      <td>однушка</td>\n",
       "      <td>1</td>\n",
       "      <td>0</td>\n",
       "      <td>0</td>\n",
       "      <td>1</td>\n",
       "      <td>0</td>\n",
       "      <td>0</td>\n",
       "      <td>0</td>\n",
       "    </tr>\n",
       "    <tr>\n",
       "      <th>4</th>\n",
       "      <td>18</td>\n",
       "      <td>1</td>\n",
       "      <td>16</td>\n",
       "      <td>6</td>\n",
       "      <td>6</td>\n",
       "      <td>36</td>\n",
       "      <td>однушка</td>\n",
       "      <td>0</td>\n",
       "      <td>1</td>\n",
       "      <td>0</td>\n",
       "      <td>0</td>\n",
       "      <td>1</td>\n",
       "      <td>0</td>\n",
       "      <td>0</td>\n",
       "    </tr>\n",
       "    <tr>\n",
       "      <th>...</th>\n",
       "      <td>...</td>\n",
       "      <td>...</td>\n",
       "      <td>...</td>\n",
       "      <td>...</td>\n",
       "      <td>...</td>\n",
       "      <td>...</td>\n",
       "      <td>...</td>\n",
       "      <td>...</td>\n",
       "      <td>...</td>\n",
       "      <td>...</td>\n",
       "      <td>...</td>\n",
       "      <td>...</td>\n",
       "      <td>...</td>\n",
       "      <td>...</td>\n",
       "    </tr>\n",
       "    <tr>\n",
       "      <th>995</th>\n",
       "      <td>34</td>\n",
       "      <td>0</td>\n",
       "      <td>1</td>\n",
       "      <td>6</td>\n",
       "      <td>3</td>\n",
       "      <td>18</td>\n",
       "      <td>ожидает</td>\n",
       "      <td>1</td>\n",
       "      <td>0</td>\n",
       "      <td>0</td>\n",
       "      <td>0</td>\n",
       "      <td>1</td>\n",
       "      <td>0</td>\n",
       "      <td>0</td>\n",
       "    </tr>\n",
       "    <tr>\n",
       "      <th>996</th>\n",
       "      <td>47</td>\n",
       "      <td>0</td>\n",
       "      <td>16</td>\n",
       "      <td>7</td>\n",
       "      <td>7</td>\n",
       "      <td>49</td>\n",
       "      <td>ожидает</td>\n",
       "      <td>0</td>\n",
       "      <td>1</td>\n",
       "      <td>0</td>\n",
       "      <td>0</td>\n",
       "      <td>1</td>\n",
       "      <td>0</td>\n",
       "      <td>0</td>\n",
       "    </tr>\n",
       "    <tr>\n",
       "      <th>997</th>\n",
       "      <td>29</td>\n",
       "      <td>0</td>\n",
       "      <td>21</td>\n",
       "      <td>5</td>\n",
       "      <td>5</td>\n",
       "      <td>25</td>\n",
       "      <td>ожидает</td>\n",
       "      <td>0</td>\n",
       "      <td>1</td>\n",
       "      <td>0</td>\n",
       "      <td>1</td>\n",
       "      <td>0</td>\n",
       "      <td>0</td>\n",
       "      <td>0</td>\n",
       "    </tr>\n",
       "    <tr>\n",
       "      <th>998</th>\n",
       "      <td>22</td>\n",
       "      <td>0</td>\n",
       "      <td>22</td>\n",
       "      <td>5</td>\n",
       "      <td>3</td>\n",
       "      <td>15</td>\n",
       "      <td>ожидает</td>\n",
       "      <td>1</td>\n",
       "      <td>0</td>\n",
       "      <td>0</td>\n",
       "      <td>1</td>\n",
       "      <td>0</td>\n",
       "      <td>0</td>\n",
       "      <td>0</td>\n",
       "    </tr>\n",
       "    <tr>\n",
       "      <th>999</th>\n",
       "      <td>25</td>\n",
       "      <td>0</td>\n",
       "      <td>25</td>\n",
       "      <td>7</td>\n",
       "      <td>8</td>\n",
       "      <td>56</td>\n",
       "      <td>ожидает</td>\n",
       "      <td>0</td>\n",
       "      <td>1</td>\n",
       "      <td>0</td>\n",
       "      <td>1</td>\n",
       "      <td>0</td>\n",
       "      <td>0</td>\n",
       "      <td>0</td>\n",
       "    </tr>\n",
       "  </tbody>\n",
       "</table>\n",
       "<p>1000 rows × 14 columns</p>\n",
       "</div>"
      ],
      "text/plain": [
       "     age  children  visluga  length  width  meters get_apartment  \\\n",
       "0     22         3       18       4      5      20        трешка   \n",
       "1     18         2       26       7      2      14        двушка   \n",
       "2     38         1       27       5      4      20       однушка   \n",
       "3     55         1       19       2      4       8       однушка   \n",
       "4     18         1       16       6      6      36       однушка   \n",
       "..   ...       ...      ...     ...    ...     ...           ...   \n",
       "995   34         0        1       6      3      18       ожидает   \n",
       "996   47         0       16       7      7      49       ожидает   \n",
       "997   29         0       21       5      5      25       ожидает   \n",
       "998   22         0       22       5      3      15       ожидает   \n",
       "999   25         0       25       7      8      56       ожидает   \n",
       "\n",
       "     apartment_общежитие  apartment_однушка  apartment_трешка  rang_капитан  \\\n",
       "0                      0                  1                 0             0   \n",
       "1                      1                  0                 0             1   \n",
       "2                      0                  1                 0             1   \n",
       "3                      1                  0                 0             1   \n",
       "4                      0                  1                 0             0   \n",
       "..                   ...                ...               ...           ...   \n",
       "995                    1                  0                 0             0   \n",
       "996                    0                  1                 0             0   \n",
       "997                    0                  1                 0             1   \n",
       "998                    1                  0                 0             1   \n",
       "999                    0                  1                 0             1   \n",
       "\n",
       "     rang_лейтенант  rang_майор  rang_ст_лейтенант  \n",
       "0                 1           0                  0  \n",
       "1                 0           0                  0  \n",
       "2                 0           0                  0  \n",
       "3                 0           0                  0  \n",
       "4                 1           0                  0  \n",
       "..              ...         ...                ...  \n",
       "995               1           0                  0  \n",
       "996               1           0                  0  \n",
       "997               0           0                  0  \n",
       "998               0           0                  0  \n",
       "999               0           0                  0  \n",
       "\n",
       "[1000 rows x 14 columns]"
      ]
     },
     "execution_count": 513,
     "metadata": {},
     "output_type": "execute_result"
    }
   ],
   "source": [
    "data"
   ]
  },
  {
   "cell_type": "markdown",
   "metadata": {},
   "source": [
    "Преобразуем данные (придадим вес)"
   ]
  },
  {
   "cell_type": "code",
   "execution_count": 514,
   "metadata": {},
   "outputs": [
    {
     "data": {
      "text/plain": [
       "array(['двушка', 'однушка', 'ожидает', 'трешка'], dtype=object)"
      ]
     },
     "execution_count": 514,
     "metadata": {},
     "output_type": "execute_result"
    }
   ],
   "source": [
    "from sklearn.preprocessing import LabelEncoder\n",
    "\n",
    "le = LabelEncoder()\n",
    "le.fit(data['get_apartment'])\n",
    "le.classes_"
   ]
  },
  {
   "cell_type": "code",
   "execution_count": 520,
   "metadata": {},
   "outputs": [
    {
     "data": {
      "text/plain": [
       "0      3\n",
       "1      0\n",
       "2      1\n",
       "3      1\n",
       "4      1\n",
       "      ..\n",
       "995    2\n",
       "996    2\n",
       "997    2\n",
       "998    2\n",
       "999    2\n",
       "Length: 1000, dtype: int64"
      ]
     },
     "execution_count": 520,
     "metadata": {},
     "output_type": "execute_result"
    }
   ],
   "source": [
    "# записываем в переменную y преобразованный столбец\n",
    "\n",
    "y = pd.Series(data = le.transform(data['get_apartment']) )\n",
    "y"
   ]
  },
  {
   "cell_type": "code",
   "execution_count": 526,
   "metadata": {},
   "outputs": [],
   "source": [
    "X = data.drop('get_apartment', axis=1)"
   ]
  },
  {
   "cell_type": "code",
   "execution_count": 527,
   "metadata": {},
   "outputs": [
    {
     "data": {
      "text/html": [
       "<div>\n",
       "<style scoped>\n",
       "    .dataframe tbody tr th:only-of-type {\n",
       "        vertical-align: middle;\n",
       "    }\n",
       "\n",
       "    .dataframe tbody tr th {\n",
       "        vertical-align: top;\n",
       "    }\n",
       "\n",
       "    .dataframe thead th {\n",
       "        text-align: right;\n",
       "    }\n",
       "</style>\n",
       "<table border=\"1\" class=\"dataframe\">\n",
       "  <thead>\n",
       "    <tr style=\"text-align: right;\">\n",
       "      <th></th>\n",
       "      <th>age</th>\n",
       "      <th>children</th>\n",
       "      <th>visluga</th>\n",
       "      <th>length</th>\n",
       "      <th>width</th>\n",
       "      <th>meters</th>\n",
       "      <th>apartment_общежитие</th>\n",
       "      <th>apartment_однушка</th>\n",
       "      <th>apartment_трешка</th>\n",
       "      <th>rang_капитан</th>\n",
       "      <th>rang_лейтенант</th>\n",
       "      <th>rang_майор</th>\n",
       "      <th>rang_ст_лейтенант</th>\n",
       "    </tr>\n",
       "  </thead>\n",
       "  <tbody>\n",
       "    <tr>\n",
       "      <th>0</th>\n",
       "      <td>22</td>\n",
       "      <td>3</td>\n",
       "      <td>18</td>\n",
       "      <td>4</td>\n",
       "      <td>5</td>\n",
       "      <td>20</td>\n",
       "      <td>0</td>\n",
       "      <td>1</td>\n",
       "      <td>0</td>\n",
       "      <td>0</td>\n",
       "      <td>1</td>\n",
       "      <td>0</td>\n",
       "      <td>0</td>\n",
       "    </tr>\n",
       "    <tr>\n",
       "      <th>1</th>\n",
       "      <td>18</td>\n",
       "      <td>2</td>\n",
       "      <td>26</td>\n",
       "      <td>7</td>\n",
       "      <td>2</td>\n",
       "      <td>14</td>\n",
       "      <td>1</td>\n",
       "      <td>0</td>\n",
       "      <td>0</td>\n",
       "      <td>1</td>\n",
       "      <td>0</td>\n",
       "      <td>0</td>\n",
       "      <td>0</td>\n",
       "    </tr>\n",
       "    <tr>\n",
       "      <th>2</th>\n",
       "      <td>38</td>\n",
       "      <td>1</td>\n",
       "      <td>27</td>\n",
       "      <td>5</td>\n",
       "      <td>4</td>\n",
       "      <td>20</td>\n",
       "      <td>0</td>\n",
       "      <td>1</td>\n",
       "      <td>0</td>\n",
       "      <td>1</td>\n",
       "      <td>0</td>\n",
       "      <td>0</td>\n",
       "      <td>0</td>\n",
       "    </tr>\n",
       "    <tr>\n",
       "      <th>3</th>\n",
       "      <td>55</td>\n",
       "      <td>1</td>\n",
       "      <td>19</td>\n",
       "      <td>2</td>\n",
       "      <td>4</td>\n",
       "      <td>8</td>\n",
       "      <td>1</td>\n",
       "      <td>0</td>\n",
       "      <td>0</td>\n",
       "      <td>1</td>\n",
       "      <td>0</td>\n",
       "      <td>0</td>\n",
       "      <td>0</td>\n",
       "    </tr>\n",
       "    <tr>\n",
       "      <th>4</th>\n",
       "      <td>18</td>\n",
       "      <td>1</td>\n",
       "      <td>16</td>\n",
       "      <td>6</td>\n",
       "      <td>6</td>\n",
       "      <td>36</td>\n",
       "      <td>0</td>\n",
       "      <td>1</td>\n",
       "      <td>0</td>\n",
       "      <td>0</td>\n",
       "      <td>1</td>\n",
       "      <td>0</td>\n",
       "      <td>0</td>\n",
       "    </tr>\n",
       "    <tr>\n",
       "      <th>...</th>\n",
       "      <td>...</td>\n",
       "      <td>...</td>\n",
       "      <td>...</td>\n",
       "      <td>...</td>\n",
       "      <td>...</td>\n",
       "      <td>...</td>\n",
       "      <td>...</td>\n",
       "      <td>...</td>\n",
       "      <td>...</td>\n",
       "      <td>...</td>\n",
       "      <td>...</td>\n",
       "      <td>...</td>\n",
       "      <td>...</td>\n",
       "    </tr>\n",
       "    <tr>\n",
       "      <th>995</th>\n",
       "      <td>34</td>\n",
       "      <td>0</td>\n",
       "      <td>1</td>\n",
       "      <td>6</td>\n",
       "      <td>3</td>\n",
       "      <td>18</td>\n",
       "      <td>1</td>\n",
       "      <td>0</td>\n",
       "      <td>0</td>\n",
       "      <td>0</td>\n",
       "      <td>1</td>\n",
       "      <td>0</td>\n",
       "      <td>0</td>\n",
       "    </tr>\n",
       "    <tr>\n",
       "      <th>996</th>\n",
       "      <td>47</td>\n",
       "      <td>0</td>\n",
       "      <td>16</td>\n",
       "      <td>7</td>\n",
       "      <td>7</td>\n",
       "      <td>49</td>\n",
       "      <td>0</td>\n",
       "      <td>1</td>\n",
       "      <td>0</td>\n",
       "      <td>0</td>\n",
       "      <td>1</td>\n",
       "      <td>0</td>\n",
       "      <td>0</td>\n",
       "    </tr>\n",
       "    <tr>\n",
       "      <th>997</th>\n",
       "      <td>29</td>\n",
       "      <td>0</td>\n",
       "      <td>21</td>\n",
       "      <td>5</td>\n",
       "      <td>5</td>\n",
       "      <td>25</td>\n",
       "      <td>0</td>\n",
       "      <td>1</td>\n",
       "      <td>0</td>\n",
       "      <td>1</td>\n",
       "      <td>0</td>\n",
       "      <td>0</td>\n",
       "      <td>0</td>\n",
       "    </tr>\n",
       "    <tr>\n",
       "      <th>998</th>\n",
       "      <td>22</td>\n",
       "      <td>0</td>\n",
       "      <td>22</td>\n",
       "      <td>5</td>\n",
       "      <td>3</td>\n",
       "      <td>15</td>\n",
       "      <td>1</td>\n",
       "      <td>0</td>\n",
       "      <td>0</td>\n",
       "      <td>1</td>\n",
       "      <td>0</td>\n",
       "      <td>0</td>\n",
       "      <td>0</td>\n",
       "    </tr>\n",
       "    <tr>\n",
       "      <th>999</th>\n",
       "      <td>25</td>\n",
       "      <td>0</td>\n",
       "      <td>25</td>\n",
       "      <td>7</td>\n",
       "      <td>8</td>\n",
       "      <td>56</td>\n",
       "      <td>0</td>\n",
       "      <td>1</td>\n",
       "      <td>0</td>\n",
       "      <td>1</td>\n",
       "      <td>0</td>\n",
       "      <td>0</td>\n",
       "      <td>0</td>\n",
       "    </tr>\n",
       "  </tbody>\n",
       "</table>\n",
       "<p>1000 rows × 13 columns</p>\n",
       "</div>"
      ],
      "text/plain": [
       "     age  children  visluga  length  width  meters  apartment_общежитие  \\\n",
       "0     22         3       18       4      5      20                    0   \n",
       "1     18         2       26       7      2      14                    1   \n",
       "2     38         1       27       5      4      20                    0   \n",
       "3     55         1       19       2      4       8                    1   \n",
       "4     18         1       16       6      6      36                    0   \n",
       "..   ...       ...      ...     ...    ...     ...                  ...   \n",
       "995   34         0        1       6      3      18                    1   \n",
       "996   47         0       16       7      7      49                    0   \n",
       "997   29         0       21       5      5      25                    0   \n",
       "998   22         0       22       5      3      15                    1   \n",
       "999   25         0       25       7      8      56                    0   \n",
       "\n",
       "     apartment_однушка  apartment_трешка  rang_капитан  rang_лейтенант  \\\n",
       "0                    1                 0             0               1   \n",
       "1                    0                 0             1               0   \n",
       "2                    1                 0             1               0   \n",
       "3                    0                 0             1               0   \n",
       "4                    1                 0             0               1   \n",
       "..                 ...               ...           ...             ...   \n",
       "995                  0                 0             0               1   \n",
       "996                  1                 0             0               1   \n",
       "997                  1                 0             1               0   \n",
       "998                  0                 0             1               0   \n",
       "999                  1                 0             1               0   \n",
       "\n",
       "     rang_майор  rang_ст_лейтенант  \n",
       "0             0                  0  \n",
       "1             0                  0  \n",
       "2             0                  0  \n",
       "3             0                  0  \n",
       "4             0                  0  \n",
       "..          ...                ...  \n",
       "995           0                  0  \n",
       "996           0                  0  \n",
       "997           0                  0  \n",
       "998           0                  0  \n",
       "999           0                  0  \n",
       "\n",
       "[1000 rows x 13 columns]"
      ]
     },
     "execution_count": 527,
     "metadata": {},
     "output_type": "execute_result"
    }
   ],
   "source": [
    "X"
   ]
  },
  {
   "cell_type": "code",
   "execution_count": 528,
   "metadata": {},
   "outputs": [
    {
     "data": {
      "text/plain": [
       "0      3\n",
       "1      0\n",
       "2      1\n",
       "3      1\n",
       "4      1\n",
       "      ..\n",
       "995    2\n",
       "996    2\n",
       "997    2\n",
       "998    2\n",
       "999    2\n",
       "Length: 1000, dtype: int64"
      ]
     },
     "execution_count": 528,
     "metadata": {},
     "output_type": "execute_result"
    }
   ],
   "source": [
    "y"
   ]
  },
  {
   "cell_type": "code",
   "execution_count": 529,
   "metadata": {},
   "outputs": [],
   "source": [
    "from sklearn.model_selection import train_test_split\n",
    "\n",
    "X_train, X_test, y_train, y_test = train_test_split(X, y, test_size=0.2)"
   ]
  },
  {
   "cell_type": "code",
   "execution_count": 537,
   "metadata": {},
   "outputs": [
    {
     "name": "stdout",
     "output_type": "stream",
     "text": [
      "Weights: [[-4.78874113e-04  2.67226745e+00  5.51541117e-03  2.31447855e-02\n",
      "   2.40580430e-02 -5.27756154e-03  1.09207700e-01 -2.79521541e-02\n",
      "  -7.15258167e-02 -1.06547682e-01  7.13743836e-02  2.43850670e-02\n",
      "   2.05179601e-02]\n",
      " [-4.62642227e-03 -2.74137721e+00 -5.76167158e-03 -3.57441172e-02\n",
      "  -7.63920077e-02  7.75287471e-03 -1.60593475e-01  8.87878176e-02\n",
      "   7.64532576e-02  3.67379957e-02 -6.20089186e-02  6.68869531e-02\n",
      "  -3.69684300e-02]\n",
      " [ 5.71351140e-03 -8.73420690e+00 -5.48256855e-04  2.73839392e-02\n",
      "   4.46061580e-02 -4.15156669e-03  8.88349941e-02 -1.84838256e-02\n",
      "  -7.37482558e-02 -2.98005381e-02  4.17212145e-02 -2.20874971e-03\n",
      "  -1.31090140e-02]\n",
      " [-6.08215017e-04  8.80331666e+00  7.94517262e-04 -1.47846074e-02\n",
      "   7.72780668e-03  1.67625351e-03 -3.74492189e-02 -4.23518380e-02\n",
      "   6.88208149e-02  9.96102241e-02 -5.10866796e-02 -8.90632704e-02\n",
      "   2.95594839e-02]]\n",
      "\n",
      "\n",
      "Bias: [ -1.15502429   7.74883389   9.64802186 -16.24183146]\n"
     ]
    }
   ],
   "source": [
    "from sklearn.linear_model import LogisticRegression\n",
    "\n",
    "LR = LogisticRegression(max_iter=3000).fit(X_train, y_train)\n",
    "\n",
    "print('Weights: {}'.format(LR.coef_))\n",
    "print('\\n')\n",
    "print('Bias: {}'.format(LR.intercept_))"
   ]
  },
  {
   "cell_type": "code",
   "execution_count": 550,
   "metadata": {},
   "outputs": [
    {
     "data": {
      "text/plain": [
       "array([1, 3, 1, 3, 2, 0, 3, 0, 1, 2, 2, 3, 3, 1, 2, 3, 3, 3, 1, 0, 2, 2,\n",
       "       1, 1, 3, 3, 2, 1, 1, 3, 2, 2, 0, 3, 3, 0, 0, 1, 2, 3, 2, 3, 0, 0,\n",
       "       2, 3, 2, 0, 3, 2, 3, 1, 3, 0, 1, 2, 0, 1, 1, 3, 1, 2, 3, 2, 3, 2,\n",
       "       0, 0, 3, 2, 2, 2, 1, 1, 3, 1, 1, 2, 1, 3, 0, 1, 0, 0, 1, 0, 2, 1,\n",
       "       0, 3, 0, 2, 0, 2, 3, 1, 0, 0, 3, 3, 2, 0, 3, 1, 1, 2, 1, 2, 1, 1,\n",
       "       2, 2, 1, 0, 1, 1, 0, 1, 1, 0, 2, 3, 2, 0, 1, 1, 2, 0, 3, 1, 3, 3,\n",
       "       0, 2, 0, 3, 1, 2, 0, 3, 3, 0, 3, 3, 1, 2, 1, 0, 3, 3, 0, 2, 1, 3,\n",
       "       3, 2, 0, 1, 3, 3, 1, 3, 2, 1, 1, 2, 0, 3, 2, 2, 0, 0, 2, 1, 3, 0,\n",
       "       0, 3, 2, 0, 2, 1, 3, 1, 1, 0, 1, 3, 3, 1, 0, 2, 2, 1, 1, 2, 2, 2,\n",
       "       0, 1])"
      ]
     },
     "execution_count": 550,
     "metadata": {},
     "output_type": "execute_result"
    }
   ],
   "source": [
    "prediction = LR.predict(X_test)\n",
    "prediction"
   ]
  },
  {
   "cell_type": "code",
   "execution_count": 542,
   "metadata": {},
   "outputs": [
    {
     "data": {
      "text/plain": [
       "array([1, 3, 1, 3, 2, 0, 3, 0, 1, 2, 2, 3, 3, 1, 2, 3, 3, 3, 1, 0, 2, 2,\n",
       "       1, 1, 3, 3, 2, 1, 1, 3, 2, 2, 0, 3, 3, 0, 0, 1, 2, 3, 2, 3, 0, 0,\n",
       "       2, 3, 2, 0, 3, 2, 3, 1, 3, 0, 1, 2, 0, 1, 1, 3, 1, 2, 3, 2, 3, 2,\n",
       "       0, 0, 3, 2, 2, 2, 1, 1, 3, 1, 1, 2, 1, 3, 0, 1, 0, 0, 1, 0, 2, 1,\n",
       "       0, 3, 0, 2, 0, 2, 3, 1, 0, 0, 3, 3, 2, 0, 3, 1, 1, 2, 1, 2, 1, 1,\n",
       "       2, 2, 1, 0, 1, 1, 0, 1, 1, 0, 2, 3, 2, 0, 1, 1, 2, 0, 3, 1, 3, 3,\n",
       "       0, 2, 0, 3, 1, 2, 0, 3, 3, 0, 3, 3, 1, 2, 1, 0, 3, 3, 0, 2, 1, 3,\n",
       "       3, 2, 0, 1, 3, 3, 1, 3, 2, 1, 1, 2, 0, 3, 2, 2, 0, 0, 2, 1, 3, 0,\n",
       "       0, 3, 2, 0, 2, 1, 3, 1, 1, 0, 1, 3, 3, 1, 0, 2, 2, 1, 1, 2, 2, 2,\n",
       "       0, 1])"
      ]
     },
     "execution_count": 542,
     "metadata": {},
     "output_type": "execute_result"
    }
   ],
   "source": [
    "np.array(y_test)"
   ]
  },
  {
   "cell_type": "code",
   "execution_count": 552,
   "metadata": {},
   "outputs": [
    {
     "name": "stdout",
     "output_type": "stream",
     "text": [
      "              precision    recall  f1-score   support\n",
      "\n",
      "           0       1.00      1.00      1.00        44\n",
      "           1       1.00      1.00      1.00        54\n",
      "           2       1.00      1.00      1.00        50\n",
      "           3       1.00      1.00      1.00        52\n",
      "\n",
      "    accuracy                           1.00       200\n",
      "   macro avg       1.00      1.00      1.00       200\n",
      "weighted avg       1.00      1.00      1.00       200\n",
      "\n"
     ]
    }
   ],
   "source": [
    "from sklearn.metrics import classification_reportr\n",
    "\n",
    "print(classification_report(y_test, prediction))"
   ]
  },
  {
   "cell_type": "code",
   "execution_count": 554,
   "metadata": {},
   "outputs": [
    {
     "data": {
      "text/plain": [
       "1.0"
      ]
     },
     "execution_count": 554,
     "metadata": {},
     "output_type": "execute_result"
    }
   ],
   "source": [
    "LR.score(X_train, y_train)"
   ]
  },
  {
   "cell_type": "markdown",
   "metadata": {},
   "source": [
    "Найдена линейная зависиомть"
   ]
  },
  {
   "cell_type": "markdown",
   "metadata": {},
   "source": [
    "### 2. Сколько детей, у того кто проживает в квартире?"
   ]
  },
  {
   "cell_type": "code",
   "execution_count": 563,
   "metadata": {},
   "outputs": [],
   "source": [
    "data['get_apartment'] = pd.Series(data = le.transform(data['get_apartment']) )"
   ]
  },
  {
   "cell_type": "code",
   "execution_count": 569,
   "metadata": {},
   "outputs": [
    {
     "data": {
      "text/plain": [
       "<seaborn.axisgrid.FacetGrid at 0x7f2ead6bd460>"
      ]
     },
     "execution_count": 569,
     "metadata": {},
     "output_type": "execute_result"
    },
    {
     "data": {
      "image/png": "[encoded data removed]",
      "text/plain": [
       "<Figure size 360x360 with 1 Axes>"
      ]
     },
     "metadata": {
      "needs_background": "light"
     },
     "output_type": "display_data"
    }
   ],
   "source": [
    "import seaborn as sns\n",
    "from matplotlib import pyplot as plt\n",
    "\n",
    "sns.lmplot(x='get_apartment', y=\"children\", data=data, height=5)"
   ]
  },
  {
   "cell_type": "code",
   "execution_count": 571,
   "metadata": {},
   "outputs": [
    {
     "name": "stdout",
     "output_type": "stream",
     "text": [
      "Weights: [-3.18006380e-18  1.00000000e+00 -1.11022302e-16  0.00000000e+00\n",
      "  1.11022302e-16  0.00000000e+00 -1.38777878e-17]\n",
      "\n",
      "\n",
      "Bias: 1.1102230246251565e-15\n"
     ]
    }
   ],
   "source": [
    "from sklearn.linear_model import LinearRegression\n",
    "\n",
    "X = data[['age', 'children', 'visluga', 'length', 'width', 'meters', 'get_apartment']]\n",
    "y = data['children']\n",
    "\n",
    "\n",
    "X_train, X_test, y_train, y_test = train_test_split(X, y, test_size=0.2)\n",
    "\n",
    "reg = LinearRegression().fit(X_train, y_train)\n",
    "\n",
    "print('Weights: {}'.format(reg.coef_))\n",
    "print('\\n')\n",
    "print('Bias: {}'.format(reg.intercept_))"
   ]
  },
  {
   "cell_type": "code",
   "execution_count": 574,
   "metadata": {},
   "outputs": [
    {
     "name": "stdout",
     "output_type": "stream",
     "text": [
      "Error: 8.428818801562177e-16\n"
     ]
    }
   ],
   "source": [
    "from sklearn.metrics import mean_absolute_error\n",
    "\n",
    "pred_values = reg.predict(X_test)\n",
    "\n",
    "print('Error: {}'.format(mean_absolute_error(pred_values, y_test)))"
   ]
  },
  {
   "cell_type": "code",
   "execution_count": 576,
   "metadata": {},
   "outputs": [
    {
     "data": {
      "text/plain": [
       "1.0"
      ]
     },
     "execution_count": 576,
     "metadata": {},
     "output_type": "execute_result"
    }
   ],
   "source": [
    "reg.score(X_train, y_train)"
   ]
  },
  {
   "cell_type": "markdown",
   "metadata": {},
   "source": [
    "Найдена линейная зависимость"
   ]
  }
 ],
 "metadata": {
  "kernelspec": {
   "display_name": "Python 3",
   "language": "python",
   "name": "python3"
  },
  "language_info": {
   "codemirror_mode": {
    "name": "ipython",
    "version": 3
   },
   "file_extension": ".py",
   "mimetype": "text/x-python",
   "name": "python",
   "nbconvert_exporter": "python",
   "pygments_lexer": "ipython3",
   "version": "3.8.5"
  }
 },
 "nbformat": 4,
 "nbformat_minor": 4
}

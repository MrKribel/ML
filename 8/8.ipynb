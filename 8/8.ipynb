{
 "cells": [
  {
   "cell_type": "code",
   "execution_count": 32,
   "metadata": {},
   "outputs": [],
   "source": [
    "from sklearn.datasets import load_boston"
   ]
  },
  {
   "cell_type": "code",
   "execution_count": 33,
   "metadata": {},
   "outputs": [],
   "source": [
    "from sklearn.linear_model import LinearRegression\n",
    "from sklearn.neighbors import KNeighborsRegressor"
   ]
  },
  {
   "cell_type": "code",
   "execution_count": 34,
   "metadata": {},
   "outputs": [],
   "source": [
    "from sklearn.ensemble import BaggingRegressor#Беггинг\n",
    "from sklearn.ensemble import GradientBoostingRegressor#Boosting\n",
    "from sklearn.ensemble import RandomForestRegressor\n",
    "from sklearn.ensemble import AdaBoostRegressor"
   ]
  },
  {
   "cell_type": "code",
   "execution_count": 35,
   "metadata": {},
   "outputs": [],
   "source": [
    "boston = load_boston()"
   ]
  },
  {
   "cell_type": "code",
   "execution_count": 36,
   "metadata": {},
   "outputs": [],
   "source": [
    "# create X (features) and y (response)\n",
    "X = boston.data\n",
    "y = boston.target"
   ]
  },
  {
   "cell_type": "code",
   "execution_count": 22,
   "metadata": {},
   "outputs": [],
   "source": [
    "from sklearn.model_selection import train_test_split"
   ]
  },
  {
   "cell_type": "markdown",
   "metadata": {},
   "source": [
    "**Сделаем 20 разных train_test_split и посмотрим**"
   ]
  },
  {
   "cell_type": "code",
   "execution_count": 37,
   "metadata": {},
   "outputs": [],
   "source": [
    "import numpy as np"
   ]
  },
  {
   "cell_type": "code",
   "execution_count": 38,
   "metadata": {},
   "outputs": [
    {
     "name": "stdout",
     "output_type": "stream",
     "text": [
      "№0 Accuracy: 0.56057\n",
      "№1 Accuracy: 0.56913\n",
      "№2 Accuracy: 0.51333\n",
      "№3 Accuracy: 0.63483\n",
      "№4 Accuracy: 0.68612\n",
      "№5 Accuracy: 0.55535\n",
      "№6 Accuracy: 0.48415\n",
      "№7 Accuracy: 0.44404\n",
      "№8 Accuracy: 0.54738\n",
      "№9 Accuracy: 0.50557\n",
      "№10 Accuracy: 0.40233\n",
      "№11 Accuracy: 0.5284\n",
      "№12 Accuracy: 0.4619\n",
      "№13 Accuracy: 0.46164\n",
      "№14 Accuracy: 0.58942\n",
      "№15 Accuracy: 0.58704\n",
      "№16 Accuracy: 0.46164\n",
      "№17 Accuracy: 0.48415\n",
      "№18 Accuracy: 0.5284\n",
      "№19 Accuracy: 0.59723\n",
      "Mean:  0.5301316538650295\n"
     ]
    }
   ],
   "source": [
    "#accuracy_score - Оценка качества модели для классификатора\n",
    "#score - Оценка качества модели для регрессора\n",
    "accuracy_count=0\n",
    "accuracy_mean=0\n",
    "\n",
    "for i in range(20):\n",
    "    rand_state = np.random.randint(100) # Генерация случайного числа для random state до 100\n",
    "    X_train, X_test, y_train, y_test = train_test_split(X, y, random_state=rand_state)\n",
    "    model = KNeighborsRegressor()\n",
    "    model.fit(X_train, y_train)\n",
    "    predictions = model.predict(X_test)\n",
    "    accuracy = model.score(X_test, y_test) #Оценка качества модели\n",
    "    print('№{} Accuracy: {}'.format(i, round(accuracy, 5)))\n",
    "    accuracy_count+=accuracy\n",
    "accuracy_mean=accuracy_count/20\n",
    "\n",
    "print('Mean: '+' '+str(accuracy_mean))"
   ]
  },
  {
   "cell_type": "markdown",
   "metadata": {},
   "source": [
    "**из-за большой волатильности делаем вывод о том, что модель очень зависит от обучающей выборки, что говорит о наличии большого стандартного отклонения (дисперсии), и подтверждает сложность выбранной модели, что может привести к переобучению (ложному предсказыванию)**"
   ]
  },
  {
   "cell_type": "raw",
   "metadata": {},
   "source": [
    "Решение - разобъем нашу выборку на несколько групп. Одну используем для теста, на остальных обучаем. После чего меняем группу для теста и повторяем. Усредняем полученное качество на каждой из выборок для оценки итогового качества модели"
   ]
  },
  {
   "cell_type": "code",
   "execution_count": 39,
   "metadata": {},
   "outputs": [
    {
     "name": "stdout",
     "output_type": "stream",
     "text": [
      "[ 40.99031373  29.50787451 152.93625882  82.6134549   48.45563137\n",
      "  62.27092157  20.750084    69.711508    16.098392    13.099756  ]\n",
      "Average result: 53.643\n"
     ]
    }
   ],
   "source": [
    "from sklearn.model_selection import cross_val_score\n",
    "\n",
    "model = KNeighborsRegressor()\n",
    "results = cross_val_score(model, X, y, cv=10, scoring=\"neg_mean_squared_error\")\n",
    "\n",
    "print(np.abs(results)**1/2)\n",
    "print('Average result: {}'.format(round(np.mean(np.abs(results)**1/2), 3)))"
   ]
  },
  {
   "cell_type": "markdown",
   "metadata": {},
   "source": [
    "**Подберем оптимальное количество соседей на основе cross_val_score**"
   ]
  },
  {
   "cell_type": "code",
   "execution_count": 40,
   "metadata": {},
   "outputs": [
    {
     "name": "stdout",
     "output_type": "stream",
     "text": [
      "Neighbors count: 3\tAverage result: -4.669\n",
      "Neighbors count: 4\tAverage result: -4.739\n",
      "Neighbors count: 5\tAverage result: -4.949\n",
      "Neighbors count: 6\tAverage result: -4.093\n",
      "Neighbors count: 7\tAverage result: -3.699\n",
      "Neighbors count: 8\tAverage result: -3.435\n",
      "Neighbors count: 9\tAverage result: -3.263\n",
      "Neighbors count: 10\tAverage result: -2.99\n",
      "Neighbors count: 11\tAverage result: -2.816\n",
      "Neighbors count: 12\tAverage result: -2.602\n",
      "Neighbors count: 13\tAverage result: -2.557\n",
      "Neighbors count: 14\tAverage result: -2.357\n",
      "Neighbors count: 15\tAverage result: -2.273\n",
      "Neighbors count: 16\tAverage result: -2.15\n",
      "Neighbors count: 17\tAverage result: -2.067\n",
      "Neighbors count: 18\tAverage result: -1.972\n",
      "Neighbors count: 19\tAverage result: -1.902\n",
      "Neighbors count: 20\tAverage result: -1.824\n",
      "Neighbors count: 21\tAverage result: -1.786\n",
      "Neighbors count: 22\tAverage result: -1.747\n",
      "Neighbors count: 23\tAverage result: -1.706\n",
      "Neighbors count: 24\tAverage result: -1.656\n",
      "Neighbors count: 25\tAverage result: -1.613\n",
      "Neighbors count: 26\tAverage result: -1.567\n",
      "Neighbors count: 27\tAverage result: -1.53\n",
      "Neighbors count: 28\tAverage result: -1.499\n",
      "Neighbors count: 29\tAverage result: -1.468\n",
      "\n",
      "Best n_neighbors is 3\n"
     ]
    }
   ],
   "source": [
    "best_param = (3, 0.0)\n",
    "\n",
    "for n_neigh in range(3, 30):\n",
    "    model = KNeighborsRegressor(n_neighbors=n_neigh)\n",
    "    results = cross_val_score(model, X, y, cv=10)\n",
    "    avg_average = np.mean(results)\n",
    "    print('Neighbors count: {}\\tAverage result: {}'.format(n_neigh, round(avg_average, 3)))\n",
    "    \n",
    "    if avg_average > 0.0:\n",
    "        best_param = (n_neigh, avg_average)\n",
    "\n",
    "print('\\nBest n_neighbors is {}'.format(best_param[0]))\n"
   ]
  },
  {
   "cell_type": "markdown",
   "metadata": {},
   "source": [
    "**RandomizedSearch**"
   ]
  },
  {
   "cell_type": "code",
   "execution_count": 41,
   "metadata": {},
   "outputs": [],
   "source": [
    "from sklearn.model_selection import GridSearchCV\n",
    "from sklearn.model_selection import RandomizedSearchCV"
   ]
  },
  {
   "cell_type": "code",
   "execution_count": 42,
   "metadata": {},
   "outputs": [],
   "source": [
    "models = []\n",
    "names = ['LinearRegression','KNeighborsRegressor','BaggingRegressor','GradientBoostingRegressor','RandomForestRegressor','AdaBoostRegressor',]\n",
    "\n",
    "models.append(LinearRegression(n_jobs=-1))\n",
    "models.append(KNeighborsRegressor(n_jobs=-1))\n",
    "models.append(BaggingRegressor())\n",
    "models.append(GradientBoostingRegressor())\n",
    "models.append(RandomForestRegressor())\n",
    "models.append(AdaBoostRegressor())"
   ]
  },
  {
   "cell_type": "code",
   "execution_count": 43,
   "metadata": {},
   "outputs": [],
   "source": [
    "params = {\n",
    "    models[0]:{'normalize': ['True', 'False'], 'fit_intercept': ['True', 'False']},\n",
    "    models[1]:{'n_neighbors': list(range(1, 31)),'weights': ['uniform', 'distance']},\n",
    "    models[2]:{'n_estimators': list(range(1, 31))},\n",
    "    models[3]:{'loss': ['ls','lad', 'huber'], 'learning_rate': [0, 0.1, 0.03, 0.5], 'max_depth': list(range(1, 30))},\n",
    "    models[4]:{'n_estimators':list(range(10, 30)), 'max_depth': list(range(1, 31))},\n",
    "    models[5]:{'learning_rate': list(np.arange(0.0,1.0,0.1)), 'loss':['linear', 'square', 'exponential']},\n",
    "}\n"
   ]
  },
  {
   "cell_type": "code",
   "execution_count": 44,
   "metadata": {},
   "outputs": [
    {
     "name": "stdout",
     "output_type": "stream",
     "text": [
      "_____________________________________________________\n",
      "Классификатор: LinearRegression(fit_intercept='True', n_jobs=-1, normalize='True')\n",
      "Лучшие параметры: {'normalize': 'True', 'fit_intercept': 'True'}\n",
      "Лучшая оценка: 0.35327592439588323\n",
      "_____________________________________________________\n",
      "_____________________________________________________\n",
      "Классификатор: KNeighborsRegressor(n_jobs=-1, n_neighbors=11)\n",
      "Лучшие параметры: {'weights': 'uniform', 'n_neighbors': 11}\n",
      "Лучшая оценка: -0.30864691542964773\n",
      "_____________________________________________________\n",
      "_____________________________________________________\n",
      "Классификатор: BaggingRegressor(n_estimators=12)\n",
      "Лучшие параметры: {'n_estimators': 12}\n",
      "Лучшая оценка: 0.6184500849645376\n",
      "_____________________________________________________\n",
      "_____________________________________________________\n",
      "Классификатор: GradientBoostingRegressor(learning_rate=0.5, loss='lad', max_depth=1)\n",
      "Лучшие параметры: {'max_depth': 1, 'loss': 'lad', 'learning_rate': 0.5}\n",
      "Лучшая оценка: 0.6194209221155622\n",
      "_____________________________________________________\n",
      "_____________________________________________________\n",
      "Классификатор: RandomForestRegressor(max_depth=16, n_estimators=24)\n",
      "Лучшие параметры: {'n_estimators': 24, 'max_depth': 16}\n",
      "Лучшая оценка: 0.6224786437637665\n",
      "_____________________________________________________\n",
      "_____________________________________________________\n",
      "Классификатор: AdaBoostRegressor(learning_rate=0.7000000000000001, loss='exponential')\n",
      "Лучшие параметры: {'loss': 'exponential', 'learning_rate': 0.7000000000000001}\n",
      "Лучшая оценка: 0.6060139876408972\n",
      "_____________________________________________________\n"
     ]
    }
   ],
   "source": [
    "import warnings\n",
    "warnings.filterwarnings('ignore')\n",
    "\n",
    "for name, model in zip(names, models):\n",
    "    rnd_search = RandomizedSearchCV(estimator=model, param_distributions=params[model], n_jobs=-1, cv=5)\n",
    "    rnd_search.fit(X,y)\n",
    "    \n",
    "    print('_____________________________________________________')\n",
    "    print('Классификатор: '+ str(rnd_search.best_estimator_))\n",
    "    print('Лучшие параметры: '+ str(rnd_search.best_params_))\n",
    "    print('Лучшая оценка: '+ str(rnd_search.best_score_))\n",
    "    print('_____________________________________________________')"
   ]
  },
  {
   "cell_type": "code",
   "execution_count": 45,
   "metadata": {},
   "outputs": [
    {
     "data": {
      "text/plain": [
       "{'loss': ['ls', 'lad', 'huber'],\n",
       " 'learning_rate': [0, 0.1, 0.03, 0.5],\n",
       " 'max_depth': [1,\n",
       "  2,\n",
       "  3,\n",
       "  4,\n",
       "  5,\n",
       "  6,\n",
       "  7,\n",
       "  8,\n",
       "  9,\n",
       "  10,\n",
       "  11,\n",
       "  12,\n",
       "  13,\n",
       "  14,\n",
       "  15,\n",
       "  16,\n",
       "  17,\n",
       "  18,\n",
       "  19,\n",
       "  20,\n",
       "  21,\n",
       "  22,\n",
       "  23,\n",
       "  24,\n",
       "  25,\n",
       "  26,\n",
       "  27,\n",
       "  28,\n",
       "  29]}"
      ]
     },
     "execution_count": 45,
     "metadata": {},
     "output_type": "execute_result"
    }
   ],
   "source": [
    "params[models[3]]"
   ]
  },
  {
   "cell_type": "markdown",
   "metadata": {},
   "source": [
    "**GridSearchCV**"
   ]
  },
  {
   "cell_type": "code",
   "execution_count": 47,
   "metadata": {},
   "outputs": [
    {
     "data": {
      "text/plain": [
       "GridSearchCV(cv=10, estimator=GradientBoostingRegressor(), n_jobs=-1,\n",
       "             param_grid={'learning_rate': [0, 0.1, 0.03, 0.5],\n",
       "                         'loss': ['ls', 'lad', 'huber'],\n",
       "                         'max_depth': [1, 2, 3, 4, 5, 6, 7, 8, 9, 10, 11, 12,\n",
       "                                       13, 14, 15, 16, 17, 18, 19, 20, 21, 22,\n",
       "                                       23, 24, 25, 26, 27, 28, 29]})"
      ]
     },
     "execution_count": 47,
     "metadata": {},
     "output_type": "execute_result"
    }
   ],
   "source": [
    "grid = GridSearchCV(GradientBoostingRegressor(), param_grid=params[models[3]], cv=10, n_jobs=-1)\n",
    "grid.fit(X, y)"
   ]
  },
  {
   "cell_type": "code",
   "execution_count": 48,
   "metadata": {},
   "outputs": [
    {
     "name": "stdout",
     "output_type": "stream",
     "text": [
      "mean_fit_time : 0.0006798982620239257\n",
      "std_fit_time : 0.0001280066242736464\n",
      "mean_score_time : 0.0\n",
      "std_score_time : 0.0\n",
      "param_learning_rate : 0\n",
      "param_loss : ls\n",
      "param_max_depth : 1\n",
      "params : {'learning_rate': 0, 'loss': 'ls', 'max_depth': 1}\n",
      "split0_test_score : nan\n",
      "split1_test_score : nan\n",
      "split2_test_score : nan\n",
      "split3_test_score : nan\n",
      "split4_test_score : nan\n",
      "split5_test_score : nan\n",
      "split6_test_score : nan\n",
      "split7_test_score : nan\n",
      "split8_test_score : nan\n",
      "split9_test_score : nan\n",
      "mean_test_score : nan\n",
      "std_test_score : nan\n",
      "rank_test_score : 348\n"
     ]
    }
   ],
   "source": [
    "for k in grid.cv_results_:\n",
    "    print(k, \":\", grid.cv_results_[k][0])"
   ]
  },
  {
   "cell_type": "code",
   "execution_count": 49,
   "metadata": {},
   "outputs": [
    {
     "data": {
      "text/plain": [
       "GridSearchCV(cv=10, estimator=RandomForestRegressor(), n_jobs=-1,\n",
       "             param_grid={'max_depth': [1, 2, 3, 4, 5, 6, 7, 8, 9, 10, 11, 12,\n",
       "                                       13, 14, 15, 16, 17, 18, 19, 20, 21, 22,\n",
       "                                       23, 24, 25, 26, 27, 28, 29, 30],\n",
       "                         'n_estimators': [10, 11, 12, 13, 14, 15, 16, 17, 18,\n",
       "                                          19, 20, 21, 22, 23, 24, 25, 26, 27,\n",
       "                                          28, 29]})"
      ]
     },
     "execution_count": 49,
     "metadata": {},
     "output_type": "execute_result"
    }
   ],
   "source": [
    "grid = GridSearchCV(RandomForestRegressor(), param_grid=params[models[4]], cv=10, n_jobs=-1)\n",
    "grid.fit(X, y)"
   ]
  },
  {
   "cell_type": "code",
   "execution_count": 50,
   "metadata": {},
   "outputs": [
    {
     "name": "stdout",
     "output_type": "stream",
     "text": [
      "mean_fit_time : 0.03141987323760986\n",
      "std_fit_time : 0.005278869027659118\n",
      "mean_score_time : 0.0031005144119262695\n",
      "std_score_time : 0.001933485766535094\n",
      "param_max_depth : 1\n",
      "param_n_estimators : 10\n",
      "params : {'max_depth': 1, 'n_estimators': 10}\n",
      "split0_test_score : 0.551279931354013\n",
      "split1_test_score : 0.6316236844450525\n",
      "split2_test_score : -0.48133407642618864\n",
      "split3_test_score : 0.29453401708273275\n",
      "split4_test_score : 0.3208956282522022\n",
      "split5_test_score : -0.26879952564908227\n",
      "split6_test_score : 0.03315607851066904\n",
      "split7_test_score : -0.14086552280692577\n",
      "split8_test_score : -3.5974015688477037\n",
      "split9_test_score : -0.06311601444619575\n",
      "mean_test_score : -0.2720027368531427\n",
      "std_test_score : 1.1585718459536072\n",
      "rank_test_score : 598\n"
     ]
    }
   ],
   "source": [
    "for k in grid.cv_results_:\n",
    "    print(k, \":\", grid.cv_results_[k][0])"
   ]
  },
  {
   "cell_type": "markdown",
   "metadata": {},
   "source": [
    "**OOB оценка и cross-validation**"
   ]
  },
  {
   "cell_type": "code",
   "execution_count": 61,
   "metadata": {},
   "outputs": [],
   "source": [
    "regressor = RandomForestRegressor( n_estimators=20, max_depth=5, n_jobs=-1)\n",
    "regressor.fit(X_train, y_train)\n",
    "results_cross = cross_val_score(regressor, X, y, cv=10)"
   ]
  },
  {
   "cell_type": "code",
   "execution_count": 73,
   "metadata": {},
   "outputs": [
    {
     "data": {
      "text/plain": [
       "RandomForestRegressor(max_depth=5, n_estimators=20, n_jobs=-1, oob_score=True)"
      ]
     },
     "execution_count": 73,
     "metadata": {},
     "output_type": "execute_result"
    }
   ],
   "source": [
    "regressor_oob = RandomForestRegressor( oob_score=True,n_estimators=20, max_depth=5, n_jobs=-1)\n",
    "regressor_oob.fit(X_train, y_train)"
   ]
  },
  {
   "cell_type": "code",
   "execution_count": 82,
   "metadata": {},
   "outputs": [
    {
     "name": "stdout",
     "output_type": "stream",
     "text": [
      "OOB 0.8154516333238006\n",
      "Cross 0.43042844787868245\n",
      "Score 0.8924004833348245\n"
     ]
    }
   ],
   "source": [
    "print('OOB'+ ' ' + str(regressor_oob.oob_score_))\n",
    "print('Cross'+ ' ' + str(np.mean(results)))\n",
    "print('Score'+ ' ' + str(regressor.score(X_test, y_test)))"
   ]
  }
 ],
 "metadata": {
  "kernelspec": {
   "display_name": "Python 3",
   "language": "python",
   "name": "python3"
  },
  "language_info": {
   "codemirror_mode": {
    "name": "ipython",
    "version": 3
   },
   "file_extension": ".py",
   "mimetype": "text/x-python",
   "name": "python",
   "nbconvert_exporter": "python",
   "pygments_lexer": "ipython3",
   "version": "3.8.5"
  }
 },
 "nbformat": 4,
 "nbformat_minor": 4
}
